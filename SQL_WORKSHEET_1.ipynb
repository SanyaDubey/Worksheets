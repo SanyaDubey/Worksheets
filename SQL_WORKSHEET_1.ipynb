{
 "cells": [
  {
   "cell_type": "markdown",
   "metadata": {},
   "source": [
    "# SQL WORKSHEET"
   ]
  },
  {
   "cell_type": "markdown",
   "metadata": {},
   "source": [
    "### Q1 and Q2 have one or more correct answer. Choose all the correct option to answer your question."
   ]
  },
  {
   "cell_type": "markdown",
   "metadata": {},
   "source": [
    "###### 1. Which of the following is/are DDL commands in SQL?\n",
    "######  A) Create \n",
    "###### B) Update\n",
    "######  C) Delete\n",
    "###### D) ALTER"
   ]
  },
  {
   "cell_type": "markdown",
   "metadata": {},
   "source": [
    "ANS. A) Create, D) ALTER"
   ]
  },
  {
   "cell_type": "markdown",
   "metadata": {},
   "source": [
    "###### 2. Which of the following is/are DML commands in SQL?\n",
    "######  A) Update\n",
    "###### B) Delete\n",
    "######  C) Select\n",
    "###### D) Drop"
   ]
  },
  {
   "cell_type": "markdown",
   "metadata": {},
   "source": [
    "ANS. A) Update, B) Delete, C) Select"
   ]
  },
  {
   "cell_type": "markdown",
   "metadata": {},
   "source": [
    "### Q3 to Q10 have only one correct answer. Choose the correct option to answer your question."
   ]
  },
  {
   "cell_type": "markdown",
   "metadata": {},
   "source": [
    "###### 3. Full form of SQL is:\n",
    "######  A) Strut querying language \n",
    "###### B) Structured Query Language\n",
    "######  C) Simple Query Language \n",
    "###### D) None of them"
   ]
  },
  {
   "cell_type": "markdown",
   "metadata": {},
   "source": [
    "ANS. B) Structured Query Language"
   ]
  },
  {
   "cell_type": "markdown",
   "metadata": {},
   "source": [
    "###### 4. Full form of DDL is:\n",
    "######  A) Descriptive Designed Language \n",
    "###### B) Data Definition Language\n",
    "######  C) Data Descriptive Language \n",
    "###### D) None of the above."
   ]
  },
  {
   "cell_type": "markdown",
   "metadata": {},
   "source": [
    "ANS. B) Data Definition Language"
   ]
  },
  {
   "cell_type": "markdown",
   "metadata": {},
   "source": [
    "###### 5. DML is:\n",
    "######  A) Data Manipulation Language \n",
    "###### B) Data Management Language\n",
    "######  C) Data Modeling Language \n",
    "###### D) None of these"
   ]
  },
  {
   "cell_type": "markdown",
   "metadata": {},
   "source": [
    "ANS. A) Data Manipulation Language"
   ]
  },
  {
   "cell_type": "markdown",
   "metadata": {},
   "source": [
    "###### 6. Which of the following statements can be used to create a table with column B int type and C float type?\n",
    "######  A) Table A (B int, C float) \n",
    "###### B) Create A (b int, C float)\n",
    "######  C) Create Table A (B int,C float) \n",
    "###### D) All of them"
   ]
  },
  {
   "cell_type": "markdown",
   "metadata": {},
   "source": [
    "ANS. C) Create Table A (B int,C float) "
   ]
  },
  {
   "cell_type": "markdown",
   "metadata": {},
   "source": [
    "###### 7. Which of the following statements can be used to add a column D (float type) to the table A created above?\n",
    "######  A) Table A ( D float) \n",
    "###### B) Alter Table A ADD COLUMN D float\n",
    "######  C) Table A( B int, C float, D float) \n",
    "###### D) None of them"
   ]
  },
  {
   "cell_type": "markdown",
   "metadata": {},
   "source": [
    "ANS. B) Alter Table A ADD COLUMN D float"
   ]
  },
  {
   "cell_type": "markdown",
   "metadata": {},
   "source": [
    "###### 8. Which of the following statements can be used to drop the column added in the above question?\n",
    "######  A) Table A Drop D \n",
    "###### B) Alter Table A Drop Column D\n",
    "######  C) Delete D from A \n",
    "###### D) None of them"
   ]
  },
  {
   "cell_type": "markdown",
   "metadata": {},
   "source": [
    "ANS. B) Alter Table A Drop Column D"
   ]
  },
  {
   "cell_type": "markdown",
   "metadata": {},
   "source": [
    "###### 9. Which of the following statements can be used to change the data type (from float to int ) of the column D of table A created in above questions?\n",
    "######  A) Table A (D float int) \n",
    "###### B) Alter Table A Alter Column D int\n",
    "######  C) Alter Table A D float int \n",
    "###### D) Alter table A Column D float to int"
   ]
  },
  {
   "cell_type": "markdown",
   "metadata": {},
   "source": [
    "ANS. B) Alter Table A Alter Column D int"
   ]
  },
  {
   "cell_type": "markdown",
   "metadata": {},
   "source": [
    "###### 10. Suppose we want to make Column B of Table A as primary key of the table. By which of the following statements we can do it?\n",
    "######  A) Alter Table A Add Constraint Primary Key B \n",
    "###### B) Alter table (B primary key)\n",
    "######  C) Alter Table A Add Primary key B \n",
    "###### D) None of them"
   ]
  },
  {
   "cell_type": "markdown",
   "metadata": {},
   "source": [
    "ANS. C) Alter Table A Add Primary key B"
   ]
  },
  {
   "cell_type": "markdown",
   "metadata": {},
   "source": [
    "### Q11 to Q15 are subjective answer type questions, Answer them briefly."
   ]
  },
  {
   "cell_type": "markdown",
   "metadata": {},
   "source": [
    "###### 11. What is data-warehouse?"
   ]
  },
  {
   "cell_type": "markdown",
   "metadata": {},
   "source": [
    "A Data Warehouse is an analytical database that layers on top of transactional databases to allow for analytics. It is a large collection of business data used to help an organization or institute to make a decision. Data warehouse pulls data from apps and systems and after processing and formatting stores it so its ready for decision makers to access."
   ]
  },
  {
   "cell_type": "markdown",
   "metadata": {},
   "source": [
    "###### 12. What is the difference between OLTP VS OLAP?"
   ]
  },
  {
   "cell_type": "markdown",
   "metadata": {},
   "source": [
    "ANS. OLTP - Online Transaction Processing captures, stores and process data from transactions in real time and handles simple standardised queries. OLTP thus, results in increase in productivity of end users. OLAP - Online Analytical Processing, on the other hand, uses complex queries to analyze agreggated historical data. OLTP handles large volumes of data with complex queries. It increases productivity of business managers, data analysts and executives."
   ]
  },
  {
   "cell_type": "markdown",
   "metadata": {},
   "source": [
    "###### 13. What are the various characteristics of data-warehouse?"
   ]
  },
  {
   "cell_type": "markdown",
   "metadata": {},
   "source": [
    "ANS. Various characteristics of data warehouse are : "
   ]
  },
  {
   "cell_type": "markdown",
   "metadata": {},
   "source": [
    "1. Integrated : The way data is extracted and transformed is uniform, regardless of the original source. Integration in Data Warehouse means establishing a standard unit of measurement from the different databases for all the similar data. The data must also get stored in a simple and universally acceptable manner within the Data Warehouse."
   ]
  },
  {
   "cell_type": "markdown",
   "metadata": {},
   "source": [
    "2. Time-variant : Data is organized via time-periods (weekly, monthly, annually, etc.). The time limits for data warehouse is wide-ranged than that of operational systems. The data resided in data warehouse is predictable with a specific interval of time and delivers information from the historical perspective. It comprises elements of time explicitly or implicitly. Another feature of time-variance is that once data is stored in the data warehouse then it cannot be modified, alter, or updated."
   ]
  },
  {
   "cell_type": "markdown",
   "metadata": {},
   "source": [
    "3. Non-volatile :  the data warehouse is non-volatile, meaning that prior data will not be erased when new data are entered into it. Data is read-only, only updated regularly. A data warehouse is not updated in real-time. It is periodically updated via the uploading of data, protecting it from the influence of momentary change. "
   ]
  },
  {
   "cell_type": "markdown",
   "metadata": {},
   "source": [
    "4. Subject oriented : A data warehouse is subject-oriented, as it provides information on a topic rather than the ongoing operations of organizations. it emphasized modeling and analyzing decision-making data. It also provides a simple and succinct description of the particular subject by excluding details that would not be useful in helping the decision process."
   ]
  },
  {
   "cell_type": "markdown",
   "metadata": {},
   "source": [
    "###### 14. What is Star-Schema??"
   ]
  },
  {
   "cell_type": "markdown",
   "metadata": {},
   "source": [
    "ANS. Star schema is the fundamental schema among the data mart schema and it is simplest. This schema is widely used to develop or build a data warehouse and dimensional data marts. It is known as star schema as its structure resembles a star.  It is also known as Star Join Schema and is optimized for querying large data sets.The Star schema is easy to understand and provides optimal disk usage. Every dimension in a star schema is represented with the only one-dimension table and the dimension table should contain the set of attributes and is joined to the fact table using a foreign key. Hence, the dimension table are not joined to each other. "
   ]
  },
  {
   "cell_type": "markdown",
   "metadata": {},
   "source": [
    "###### 15. What do you mean by SETL?"
   ]
  },
  {
   "cell_type": "markdown",
   "metadata": {},
   "source": [
    "ANS. SETL - Set Theory as a Language is a high-level programming language based on the mathematical theory of sets with dynamic typing and dynamic data structures. SETL not only has extensive provision for programming with sets but also takes advantage of the syntactic tradition of abstract mathematics, the language's notation being very close to the one of set theory, thus making it possible to express many algorithms in a familiar, natural, and concise manner. SETL programs are much more declarative than procedural. The primitive datatypes of SETL include integer, floating-point, Boolean, atom, and string. Integers are of unlimited magnitude. Both sets and ordered sets (called tuples) are heterogeneous in SETL: values of all sorts can be members of the same structure, including other sets and tuples."
   ]
  }
 ],
 "metadata": {
  "kernelspec": {
   "display_name": "Python 3",
   "language": "python",
   "name": "python3"
  },
  "language_info": {
   "codemirror_mode": {
    "name": "ipython",
    "version": 3
   },
   "file_extension": ".py",
   "mimetype": "text/x-python",
   "name": "python",
   "nbconvert_exporter": "python",
   "pygments_lexer": "ipython3",
   "version": "3.8.5"
  }
 },
 "nbformat": 4,
 "nbformat_minor": 4
}
