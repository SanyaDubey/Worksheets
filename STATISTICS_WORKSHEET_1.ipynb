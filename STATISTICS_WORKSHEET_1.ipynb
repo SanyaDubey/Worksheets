{
 "cells": [
  {
   "cell_type": "markdown",
   "metadata": {},
   "source": [
    "# STATISTICS – WORKSHEET"
   ]
  },
  {
   "cell_type": "markdown",
   "metadata": {},
   "source": [
    "### Q1 to Q9 have only one correct answer. Choose the correct option to answer your question."
   ]
  },
  {
   "cell_type": "markdown",
   "metadata": {},
   "source": [
    "###### 1. Bernoulli random variables take (only) the values 1 and 0.\n",
    "###### a) True\n",
    "###### b) False"
   ]
  },
  {
   "cell_type": "markdown",
   "metadata": {},
   "source": [
    "ANS.  a) True"
   ]
  },
  {
   "cell_type": "markdown",
   "metadata": {},
   "source": [
    "###### 2. Which of the following theorem states that the distribution of averages of iid variables, properly normalized, becomes that of a standard normal as the sample size increases?\n",
    "###### a) Central Limit Theorem\n",
    "###### b) Central Mean Theorem\n",
    "###### c) Centroid Limit Theorem\n",
    "###### d) All of the mentioned"
   ]
  },
  {
   "cell_type": "markdown",
   "metadata": {},
   "source": [
    "ANS.  a) Central Limit Theorem"
   ]
  },
  {
   "cell_type": "markdown",
   "metadata": {},
   "source": [
    "###### 3. Which of the following is incorrect with respect to use of Poisson distribution?\n",
    "###### a) Modeling event/time data\n",
    "###### b) Modeling bounded count data\n",
    "###### c) Modeling contingency tables\n",
    "###### d) All of the mentioned"
   ]
  },
  {
   "cell_type": "markdown",
   "metadata": {},
   "source": [
    "ANS. b) Modeling bounded count data"
   ]
  },
  {
   "cell_type": "markdown",
   "metadata": {},
   "source": [
    "###### 4. Point out the correct statement.\n",
    "###### a) The exponent of a normally distributed random variables follows what is called the log- normal distribution\n",
    "###### b) Sums of normally distributed random variables are again normally distributed even if the variables are dependent\n",
    "###### c) The square of a standard normal random variable follows what is called chi-squared distribution\n",
    "###### d) All of the mentioned"
   ]
  },
  {
   "cell_type": "markdown",
   "metadata": {},
   "source": [
    "ANS. d) All of the mentioned"
   ]
  },
  {
   "cell_type": "markdown",
   "metadata": {},
   "source": [
    "###### 5. random variables are used to model rates.\n",
    "###### a) Empirical\n",
    "###### b) Binomial\n",
    "###### c) Poisson\n",
    "###### d) All of the mentioned"
   ]
  },
  {
   "cell_type": "markdown",
   "metadata": {},
   "source": [
    "ANS. c) Poisson"
   ]
  },
  {
   "cell_type": "markdown",
   "metadata": {},
   "source": [
    "###### 6. 10. Usually replacing the standard error by its estimated value does change the CLT.\n",
    "###### a) True\n",
    "###### b) False"
   ]
  },
  {
   "cell_type": "markdown",
   "metadata": {},
   "source": [
    "ANS. b) False"
   ]
  },
  {
   "cell_type": "markdown",
   "metadata": {},
   "source": [
    "###### 7. 1. Which of the following testing is concerned with making decisions using data?\n",
    "###### a) Probability\n",
    "###### b) Hypothesis\n",
    "###### c) Causal\n",
    "###### d) None of the mentioned"
   ]
  },
  {
   "cell_type": "markdown",
   "metadata": {},
   "source": [
    "ANS. b) Hypothesis"
   ]
  },
  {
   "cell_type": "markdown",
   "metadata": {},
   "source": [
    "###### 8. 4. Normalized data are centered at and have units equal to standard deviations of the original data.\n",
    "###### a) 0\n",
    "###### b) 5\n",
    "###### c) 1\n",
    "###### d) 10"
   ]
  },
  {
   "cell_type": "markdown",
   "metadata": {},
   "source": [
    "ANS. a) 0"
   ]
  },
  {
   "cell_type": "markdown",
   "metadata": {},
   "source": [
    "###### 9. Which of the following statement is incorrect with respect to outliers?\n",
    "###### a) Outliers can have varying degrees of influence\n",
    "###### b) Outliers can be the result of spurious or real processes\n",
    "###### c) Outliers cannot conform to the regression relationship\n",
    "###### d) None of the mentioned"
   ]
  },
  {
   "cell_type": "markdown",
   "metadata": {},
   "source": [
    "ANS. c) Outliers cannot conform to the regression relationship"
   ]
  },
  {
   "cell_type": "markdown",
   "metadata": {},
   "source": [
    "###  Q10and Q15 are subjective answer type questions, Answer them in your own words briefly."
   ]
  },
  {
   "cell_type": "markdown",
   "metadata": {},
   "source": [
    "###### 10. What do you understand by the term Normal Distribution?"
   ]
  },
  {
   "cell_type": "markdown",
   "metadata": {},
   "source": [
    "ANS. Normal distribution is a probability distribution which is symmetrical on both sides of the mean. It shows that data near the mean are more frequent in occurrence than data far from the mean. In graph form, normal distribution will appear as a bell curve."
   ]
  },
  {
   "cell_type": "markdown",
   "metadata": {},
   "source": [
    "###### 11. How do you handle missing data? What imputation techniques do you recommend?"
   ]
  },
  {
   "cell_type": "markdown",
   "metadata": {},
   "source": [
    "ANS. By replacing the missing data by mean, median and mode of the present data. Also we can replace by the closest next or previous data point. In some cases where the percentage of missing data is low, we can also drop the rows with the missing data.\n",
    "Some imputation techniques I recommend are:\n",
    "    Mean Imputation\n",
    "    Substitution\n",
    "    Interpolation and Extrapolation"
   ]
  },
  {
   "cell_type": "markdown",
   "metadata": {},
   "source": [
    "###### 12. What is A/B testing?"
   ]
  },
  {
   "cell_type": "markdown",
   "metadata": {},
   "source": [
    "ANS. A/B testing is a basic randomized control experiment. It is a way to compare the two versions of a variable to find out which performs better in a controlled environment."
   ]
  },
  {
   "cell_type": "markdown",
   "metadata": {},
   "source": [
    "###### 13. Is mean imputation of missing data acceptable practice?"
   ]
  },
  {
   "cell_type": "markdown",
   "metadata": {},
   "source": [
    "ANS. Yes, in this method the missing value on a certain variable is replaced by the mean of the available cases. This method maintains the sample size and is easy to use, but the variability in the data is reduced, so the standard deviations and the variance estimates tend to be underestimated. Sometimes other techniques proves to be better alternatives but we can always use mean imputation as a base."
   ]
  },
  {
   "cell_type": "markdown",
   "metadata": {},
   "source": [
    "###### 14. What is linear regression in statistics?"
   ]
  },
  {
   "cell_type": "markdown",
   "metadata": {},
   "source": [
    "ANS. Linear Regression is a technique to derive a relationship between single dependent variables and single or multiple independent variables by plotting an linear curve between the data points."
   ]
  },
  {
   "cell_type": "markdown",
   "metadata": {},
   "source": [
    "###### 15. What are the various branches of statistics?"
   ]
  },
  {
   "cell_type": "markdown",
   "metadata": {},
   "source": [
    "ANS. There are two main branches of statistics: Descriptive statistics and Inferentiial statistics.Descriptive statistics helps to describe basic features of data, giving short summaries about the sampe and measures of the data. Inferential statistics is used to make or draw inferences beyound the data available i.e. making inferences about the population from the sample. Wether the sampe is significantely different from the population can be concluded. "
   ]
  }
 ],
 "metadata": {
  "kernelspec": {
   "display_name": "Python 3",
   "language": "python",
   "name": "python3"
  },
  "language_info": {
   "codemirror_mode": {
    "name": "ipython",
    "version": 3
   },
   "file_extension": ".py",
   "mimetype": "text/x-python",
   "name": "python",
   "nbconvert_exporter": "python",
   "pygments_lexer": "ipython3",
   "version": "3.8.5"
  }
 },
 "nbformat": 4,
 "nbformat_minor": 4
}
