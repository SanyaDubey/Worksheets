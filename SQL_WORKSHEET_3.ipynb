{
 "cells": [
  {
   "cell_type": "markdown",
   "metadata": {},
   "source": [
    "# SQL – WORKSHEET 3"
   ]
  },
  {
   "cell_type": "markdown",
   "metadata": {},
   "source": [
    "#### Refer the following ERD and answer all the questions in this worksheet. You have to write the queries using mysql for the required Operation."
   ]
  },
  {
   "cell_type": "markdown",
   "metadata": {},
   "source": [
    "######  Customers: stores customer’s data.\n",
    "######  Products: stores a list of scale model cars.\n",
    "######  ProductLines: stores a list of product line categories.\n",
    "######  Orders: stores sales orders placed by customers.\n",
    "######  OrderDetails: stores sales order line items for each sales order.\n",
    "######  Payments: stores payments made by customers based on their accounts.\n",
    "######  Employees: stores all employee information as well as the organization structure such as who reports to whom.\n",
    "######  Offices: stores sales office data"
   ]
  },
  {
   "cell_type": "markdown",
   "metadata": {},
   "source": [
    "###### 1. Write SQL query to create table Customers."
   ]
  },
  {
   "cell_type": "raw",
   "metadata": {},
   "source": [
    "Create table customers(\n",
    "    customerNumber int(10),\n",
    "    customerName varchar(10),\n",
    "    contactLastName varchar(10),\n",
    "    contFirstName varchar(10),\n",
    "    phone int(10),\n",
    "    aaddressLine1 varchar(20),\n",
    "    addressLine2 varchar(20),\n",
    "    city varchar(20),\n",
    "    state varchar(20),\n",
    "    postalCode int(6)\n",
    "    country varchar(10),\n",
    "    salesRepEmployeeNumber int(10),\n",
    "    creditLimitctFirstName varchar(10)\n",
    "    Primary Key(customerNumber));"
   ]
  },
  {
   "cell_type": "markdown",
   "metadata": {},
   "source": [
    "###### 2. Write SQL query to create table Orders."
   ]
  },
  {
   "cell_type": "raw",
   "metadata": {},
   "source": [
    "Create table orders(\n",
    "    orderNumber int(20),\n",
    "    orderDate int(10),\n",
    "    requiredDate int(10),\n",
    "    shippedDate int(10),\n",
    "    status varchar(10),\n",
    "    comments varchar(20),\n",
    "    customerName varchar(20),\n",
    "    Primary Key(orderNumber));"
   ]
  },
  {
   "cell_type": "markdown",
   "metadata": {},
   "source": [
    "###### 3. Write SQL query to show all the columns data from the Orders Table. "
   ]
  },
  {
   "cell_type": "raw",
   "metadata": {},
   "source": [
    "Select * from orders;"
   ]
  },
  {
   "cell_type": "markdown",
   "metadata": {},
   "source": [
    "###### 4. Write SQL query to show all the comments from the Orders Table."
   ]
  },
  {
   "cell_type": "raw",
   "metadata": {},
   "source": [
    "Select comments from orders;"
   ]
  },
  {
   "cell_type": "markdown",
   "metadata": {},
   "source": [
    "###### 5. Write a SQL query to show orderDate and Total number of orders placed on that date, from Orders table."
   ]
  },
  {
   "cell_type": "raw",
   "metadata": {},
   "source": [
    "Select orderDate, COUNT(orderNumber) from orders\n",
    "GroupBy orderDate\n",
    "Order By 2 Desc;"
   ]
  },
  {
   "cell_type": "markdown",
   "metadata": {},
   "source": [
    "###### 6. Write a SQL query to show employeNumber, lastName, firstName of all the employees from employees table."
   ]
  },
  {
   "cell_type": "raw",
   "metadata": {},
   "source": [
    "Select employeNumber, lastName, firstName from employees;"
   ]
  },
  {
   "cell_type": "markdown",
   "metadata": {},
   "source": [
    "###### 7. Write a SQL query to show all orderNumber, customerName of the person who placed the respective order."
   ]
  },
  {
   "cell_type": "raw",
   "metadata": {},
   "source": [
    "SELECT orderNumber from order INNER JOIN customers on orders.orderNumber = customers.customerName where customers.customerName = customerNumber;"
   ]
  },
  {
   "cell_type": "markdown",
   "metadata": {},
   "source": [
    "###### 8. Write a SQL query to show name of all the customers in one column and salerepemployee name in another column."
   ]
  },
  {
   "cell_type": "raw",
   "metadata": {},
   "source": [
    "Select customerName, salesRepEmployeeNumber from customers;"
   ]
  },
  {
   "cell_type": "markdown",
   "metadata": {},
   "source": [
    "###### 9. Write a SQL query to show Date in one column and total payment amount of the payments made on that date from the payments table."
   ]
  },
  {
   "cell_type": "raw",
   "metadata": {},
   "source": [
    "Select paymentDate, SUM(amount) from payments\n",
    "GroupBy paymentDate\n",
    "Order By 2 Desc;"
   ]
  },
  {
   "cell_type": "markdown",
   "metadata": {},
   "source": [
    "###### 10. Write a SQL query to show all the products productName, MSRP, productDescription from the products table."
   ]
  },
  {
   "cell_type": "raw",
   "metadata": {},
   "source": [
    "Select productName, MSRP, productDescription from products;"
   ]
  },
  {
   "cell_type": "markdown",
   "metadata": {},
   "source": [
    "###### 11. Write a SQL query to print the productName, productDescription of the most ordered product."
   ]
  },
  {
   "cell_type": "raw",
   "metadata": {},
   "source": [
    "select p.productName, p.productDescription, SUM(o.quantityOrdered) as quantity from orderdetails as o INNER JOIN products as p\n",
    "GroupBy productCode ORDER BY quantity DESC;"
   ]
  },
  {
   "cell_type": "markdown",
   "metadata": {},
   "source": [
    "###### 12. Write a SQL query to print the city name where maximum number of orders were placed."
   ]
  },
  {
   "cell_type": "raw",
   "metadata": {},
   "source": [
    "select * from orders o, customers c where o.customerNumber = c.customerNumber and o.customerNumber IN (select customerNumber from orders group by customerNumber having count(*) = (select count(*) from orders or group by or.customerNumber order by count(*) desc limit 1));"
   ]
  },
  {
   "cell_type": "markdown",
   "metadata": {},
   "source": [
    "###### 13. Write a SQL query to get the name of the state having maximum number of customers."
   ]
  },
  {
   "cell_type": "raw",
   "metadata": {},
   "source": [
    "SELECT state, MAX(customerNumber) from customers\n",
    "GroupBy state\n",
    "Order By 2 Desc;"
   ]
  },
  {
   "cell_type": "markdown",
   "metadata": {},
   "source": [
    "###### 14. Write a SQL query to print the employee number in one column and Full name of the employee in the second column for all the employees."
   ]
  },
  {
   "cell_type": "raw",
   "metadata": {},
   "source": [
    "SELECT employeeNumber, concat(firstName, ' ', lastName) as fullName from employees;"
   ]
  },
  {
   "cell_type": "markdown",
   "metadata": {},
   "source": [
    "###### 15. Write a SQL query to print the orderNumber, customer Name and total amount paid by the customer for that order (quantityOrdered × priceEach)."
   ]
  },
  {
   "cell_type": "raw",
   "metadata": {},
   "source": [
    "SELECT o.orderNumber, c.customerName, SUM(quantityOrdered * priceEach) as total\n",
    "FROM orders \n",
    "INNER JOIN customers USING (customerNumber)\n",
    "GROUP by orderNumber\n",
    "ORDER BY total DESC;"
   ]
  }
 ],
 "metadata": {
  "kernelspec": {
   "display_name": "Python 3",
   "language": "python",
   "name": "python3"
  },
  "language_info": {
   "codemirror_mode": {
    "name": "ipython",
    "version": 3
   },
   "file_extension": ".py",
   "mimetype": "text/x-python",
   "name": "python",
   "nbconvert_exporter": "python",
   "pygments_lexer": "ipython3",
   "version": "3.8.5"
  }
 },
 "nbformat": 4,
 "nbformat_minor": 4
}
