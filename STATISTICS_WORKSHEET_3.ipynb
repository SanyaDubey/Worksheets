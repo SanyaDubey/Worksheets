{
 "cells": [
  {
   "cell_type": "markdown",
   "metadata": {},
   "source": [
    "# STATISTICS– WORKSHEET 3"
   ]
  },
  {
   "cell_type": "markdown",
   "metadata": {},
   "source": [
    "### Q1 to Q9 have only one correct answer. Choose the correct option to answer your question."
   ]
  },
  {
   "cell_type": "markdown",
   "metadata": {},
   "source": [
    "###### 1. Which of the following is the correct formula for total variation?\n",
    "###### a) Total Variation = Residual Variation – Regression Variation\n",
    "###### b) Total Variation = Residual Variation + Regression Variation\n",
    "###### c) Total Variation = Residual Variation * Regression Variation\n",
    "###### d) All of the mentioned"
   ]
  },
  {
   "cell_type": "markdown",
   "metadata": {},
   "source": [
    "ANS. b) Total Variation = Residual Variation + Regression Variation"
   ]
  },
  {
   "cell_type": "markdown",
   "metadata": {},
   "source": [
    "###### 2. Collection of exchangeable binary outcomes for the same covariate data are called _______ outcomes.\n",
    "###### a) random\n",
    "###### b) direct\n",
    "###### c) binomial\n",
    "###### d) none of the mentioned"
   ]
  },
  {
   "cell_type": "markdown",
   "metadata": {},
   "source": [
    "ANS. c) binomial"
   ]
  },
  {
   "cell_type": "markdown",
   "metadata": {},
   "source": [
    "###### 3. How many outcomes are possible with Bernoulli trial?\n",
    "###### a) 2\n",
    "###### b) 3\n",
    "###### c) 4\n",
    "###### d) None of the mentioned"
   ]
  },
  {
   "cell_type": "markdown",
   "metadata": {},
   "source": [
    "ANS. a) 2"
   ]
  },
  {
   "cell_type": "markdown",
   "metadata": {},
   "source": [
    "###### 4. If Ho is true and we reject it is called\n",
    "###### a) Type-I error\n",
    "###### b) Type-II error\n",
    "###### c) Standard error\n",
    "###### d) Sampling error "
   ]
  },
  {
   "cell_type": "markdown",
   "metadata": {},
   "source": [
    "ANS. a) Type-I error"
   ]
  },
  {
   "cell_type": "markdown",
   "metadata": {},
   "source": [
    "###### 5. Level of significance is also called:\n",
    "###### a) Power of the test\n",
    "###### b) Size of the test\n",
    "###### c) Level of confidence\n",
    "###### d) Confidence coefficient "
   ]
  },
  {
   "cell_type": "markdown",
   "metadata": {},
   "source": [
    "ANS. a) Power of the test"
   ]
  },
  {
   "cell_type": "markdown",
   "metadata": {},
   "source": [
    "###### 6. The chance of rejecting a true hypothesis decreases when sample size is:\n",
    "###### a) Decrease\n",
    "###### b) Increase\n",
    "###### c) Both of them\n",
    "###### d) None"
   ]
  },
  {
   "cell_type": "markdown",
   "metadata": {},
   "source": [
    "ANS. b) Increase"
   ]
  },
  {
   "cell_type": "markdown",
   "metadata": {},
   "source": [
    "###### 7. Which of the following testing is concerned with making decisions using data?\n",
    "###### a) Probability\n",
    "###### b) Hypothesis\n",
    "###### c) Causal\n",
    "###### d) None of the mentioned"
   ]
  },
  {
   "cell_type": "markdown",
   "metadata": {},
   "source": [
    "ANS. b) Hypothesis"
   ]
  },
  {
   "cell_type": "markdown",
   "metadata": {},
   "source": [
    "###### 8. What is the purpose of multiple testing in statistical inference?\n",
    "###### a) Minimize errors\n",
    "###### b) Minimize false positives\n",
    "###### c) Minimize false negatives\n",
    "###### d) All of the mentioned"
   ]
  },
  {
   "cell_type": "markdown",
   "metadata": {},
   "source": [
    "ANS. d) All of the mentioned"
   ]
  },
  {
   "cell_type": "markdown",
   "metadata": {},
   "source": [
    "###### 9. Normalized data are centred at ___ and have units equal to standard deviations of the original data\n",
    "###### a) 0\n",
    "###### b) 5\n",
    "###### c) 1\n",
    "###### d) 10"
   ]
  },
  {
   "cell_type": "markdown",
   "metadata": {},
   "source": [
    "ANS. a) 0"
   ]
  },
  {
   "cell_type": "markdown",
   "metadata": {},
   "source": [
    "### Q10 and Q15 are subjective answer type questions, Answer them in your own words briefly. "
   ]
  },
  {
   "cell_type": "markdown",
   "metadata": {},
   "source": [
    "###### 10. What Is Bayes' Theorem?"
   ]
  },
  {
   "cell_type": "markdown",
   "metadata": {},
   "source": [
    "ANS. Bayes' Theorum , is a mathematical formula for determining conditional probability. Conditional probability is the     likelihood of an outcome occurring, based on a previous outcome occurring. Bayes' theorem is also called Bayes' Rule or Bayes' Law and is the foundation of the field of Bayesian statistics. \n",
    "    "
   ]
  },
  {
   "cell_type": "markdown",
   "metadata": {},
   "source": [
    " Formula For Bayes' Theorem :  P(A∣B)= P(A⋂B)/P(B) = P(A)⋅P(B∣A)/P(B)"
   ]
  },
  {
   "cell_type": "markdown",
   "metadata": {},
   "source": [
    "where:"
   ]
  },
  {
   "cell_type": "markdown",
   "metadata": {},
   "source": [
    "P(A)= The probability of A occurring, P(B)= The probability of B occurring, P(A∣B)=The probability of A given B, P(B∣A)= The probability of B given A, P(A⋂B))= The probability of both A and B occurring"
   ]
  },
  {
   "cell_type": "markdown",
   "metadata": {},
   "source": [
    "###### 11. What is z-score? "
   ]
  },
  {
   "cell_type": "markdown",
   "metadata": {},
   "source": [
    "ANS. A Z-score is a numerical measurement that describes a value's relationship to the mean of a group of values. Z-score is measured in terms of standard deviations from the mean.  A Z-score of 1.0 would indicate a value that is one standard deviation from the mean. Z-scores may be positive or negative, with a positive value indicating the score is above the mean and a negative score indicating it is below the mean. In order to calculate the probability of z-score, area under the curve of distribution needs to be find out."
   ]
  },
  {
   "cell_type": "markdown",
   "metadata": {},
   "source": [
    "Formula for z-score:  z = (x – μ) / σ"
   ]
  },
  {
   "cell_type": "markdown",
   "metadata": {},
   "source": [
    "###### 12. What is t-test? "
   ]
  },
  {
   "cell_type": "markdown",
   "metadata": {},
   "source": [
    "ANS. A t-test is a type of inferential statistic used to determine if there is a significant difference between the means of two groups, which may be related in certain features. The t-test is one of many tests used for the purpose of hypothesis testing in statistics. It uses standard deviation of sample itself. Thus, t-test is used when the population standard deviation is not available. It has sample size of less than \n",
    ".There are three types of t-tests, and they are categorized as dependent and independent t-tests. Calculating a t-test requires three key data values. They include the difference between the mean values from each data set (called the mean difference), the standard deviation of each group, and the number of data values of each group."
   ]
  },
  {
   "cell_type": "markdown",
   "metadata": {},
   "source": [
    "###### 13. What is percentile? "
   ]
  },
  {
   "cell_type": "markdown",
   "metadata": {},
   "source": [
    "ANS. Percentile can be defined as a number where a certain percentage of scores fall below a particular value. It tells where a score stands relative to other scores.  "
   ]
  },
  {
   "cell_type": "markdown",
   "metadata": {},
   "source": [
    "###### 14. What is ANOVA? "
   ]
  },
  {
   "cell_type": "markdown",
   "metadata": {},
   "source": [
    "ANS. Analysis of Variance is a statistical tool for comparison of groups i.e. it  is used to check if the means of two or more groups are significantly different from each other. ANOVA checks the impact of one or more factors by comparing the means of different samples.. It is used to find correlation between the different groups of categorical variables. If ANOVA gives large F-Value and small P-Value, then there is a strong correlation between the variables."
   ]
  },
  {
   "cell_type": "markdown",
   "metadata": {},
   "source": [
    "###### 15. How can ANOVA help?"
   ]
  },
  {
   "cell_type": "markdown",
   "metadata": {},
   "source": [
    "ANS. ANOVA, or its non-parametric counterparts, allow you to determine if differences in mean values between three or more groups are by chance or if they are indeed significantly different. An ANOVA test is a way to find out if survey or experiment results are significant. In other words, they help you to figure out if you need to reject the null hypothesis or accept the alternate hypothesis. The proper use of ANOVA in analyzing survey data requires that a few assumptions be met including normal distribution of data; independence of cases, and equality of variance (each group’s variance is equal). If these assumptions cannot be met then there are non-parametric tests available which do not require these assumptions."
   ]
  }
 ],
 "metadata": {
  "kernelspec": {
   "display_name": "Python 3",
   "language": "python",
   "name": "python3"
  },
  "language_info": {
   "codemirror_mode": {
    "name": "ipython",
    "version": 3
   },
   "file_extension": ".py",
   "mimetype": "text/x-python",
   "name": "python",
   "nbconvert_exporter": "python",
   "pygments_lexer": "ipython3",
   "version": "3.8.5"
  }
 },
 "nbformat": 4,
 "nbformat_minor": 4
}
