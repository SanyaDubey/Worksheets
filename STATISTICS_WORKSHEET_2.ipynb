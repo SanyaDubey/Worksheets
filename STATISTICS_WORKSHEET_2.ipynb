{
 "cells": [
  {
   "cell_type": "markdown",
   "metadata": {},
   "source": [
    "# STATISTICS - WORKSHEET "
   ]
  },
  {
   "cell_type": "markdown",
   "metadata": {},
   "source": [
    "### Q1 to Q15 have only one correct answer. Choose the correct option to answer your question."
   ]
  },
  {
   "cell_type": "markdown",
   "metadata": {},
   "source": [
    "###### 1. What represent a population parameter?\n",
    "###### A) SD\n",
    "###### B) mean\n",
    "###### C) both\n",
    "###### D) none"
   ]
  },
  {
   "cell_type": "markdown",
   "metadata": {},
   "source": [
    "ANS.  C) both"
   ]
  },
  {
   "cell_type": "markdown",
   "metadata": {},
   "source": [
    "###### 2. What will be median of following set of scores (18,6,12,10,15)?\n",
    "###### A) 14\n",
    "###### B) 18\n",
    "###### C) 12\n",
    "###### D) 10"
   ]
  },
  {
   "cell_type": "markdown",
   "metadata": {},
   "source": [
    "ANS. C) 12"
   ]
  },
  {
   "cell_type": "markdown",
   "metadata": {},
   "source": [
    "###### 3. What is standard deviation?\n",
    "###### A) An approximate indicator of how number vary from the mean\n",
    "###### B) A measure of variability\n",
    "###### C) The square root of the varience\n",
    "###### D) All of the above"
   ]
  },
  {
   "cell_type": "markdown",
   "metadata": {},
   "source": [
    "ANS. D) All of the above"
   ]
  },
  {
   "cell_type": "markdown",
   "metadata": {},
   "source": [
    "###### 4. The intervals should be in a grouped frequency distribution\n",
    "###### A) Exhaustive\n",
    "###### B) Mutually exclusive\n",
    "###### C) Both of these\n",
    "###### D) None"
   ]
  },
  {
   "cell_type": "markdown",
   "metadata": {},
   "source": [
    "ANS. C) Both of these"
   ]
  },
  {
   "cell_type": "markdown",
   "metadata": {},
   "source": [
    "###### 5. What is the goal of descriptive statistics?\n",
    "###### A) Monitoring and manipulating a specific data\n",
    "###### B) Summarizing and explaining a specific set of data\n",
    "###### C) Analyzing and interpreting a set of data\n",
    "###### D) All of these"
   ]
  },
  {
   "cell_type": "markdown",
   "metadata": {},
   "source": [
    "ANS. D) All of these"
   ]
  },
  {
   "cell_type": "markdown",
   "metadata": {},
   "source": [
    "###### 6. A set of data organized in a participant by variables format is called\n",
    "###### A) Data junk\n",
    "###### B) Data set\n",
    "###### C) Data view\n",
    "###### D) Data dodging"
   ]
  },
  {
   "cell_type": "markdown",
   "metadata": {},
   "source": [
    "ANS. B) Data set"
   ]
  },
  {
   "cell_type": "markdown",
   "metadata": {},
   "source": [
    "###### 7. In multiple regression, dependent variables are used\n",
    "###### A) 2 or more\n",
    "###### B) 2\n",
    "###### C) 1\n",
    "###### D) 1 or more"
   ]
  },
  {
   "cell_type": "markdown",
   "metadata": {},
   "source": [
    "ANS. C) 1"
   ]
  },
  {
   "cell_type": "markdown",
   "metadata": {},
   "source": [
    "###### 8. Which of the following is used when you want to visually examine the relationship between 2 quantitative variables?\n",
    "###### A) Line graph\n",
    "###### B) Scatterplot\n",
    "###### C) Bar graph\n",
    "###### D) Pie graph"
   ]
  },
  {
   "cell_type": "markdown",
   "metadata": {},
   "source": [
    "ANS. B) Scatterplot"
   ]
  },
  {
   "cell_type": "markdown",
   "metadata": {},
   "source": [
    "###### 9. Two or more groups means are compared by using\n",
    "###### A) analysis\n",
    "###### B) Data analysis\n",
    "###### C) Varied Variance analysis\n",
    "###### D) Analysis of variance"
   ]
  },
  {
   "cell_type": "markdown",
   "metadata": {},
   "source": [
    "ANS. D) Analysis of variance"
   ]
  },
  {
   "cell_type": "markdown",
   "metadata": {},
   "source": [
    "###### 10. is a raw score which has been transformed into standard deviation units?\n",
    "###### A) Z-score\n",
    "###### B) t-score\n",
    "###### C) e-score\n",
    "###### D) SDU score"
   ]
  },
  {
   "cell_type": "markdown",
   "metadata": {},
   "source": [
    "ANS. A) Z-score"
   ]
  },
  {
   "cell_type": "markdown",
   "metadata": {},
   "source": [
    "###### 11. is the value calculated when you want the arithmetic average?\n",
    "###### A) Median\n",
    "###### B) mode\n",
    "###### C) mean\n",
    "###### D) All"
   ]
  },
  {
   "cell_type": "markdown",
   "metadata": {},
   "source": [
    "ANS. C) mean"
   ]
  },
  {
   "cell_type": "markdown",
   "metadata": {},
   "source": [
    "###### 12. Find the mean of these set of number (4,6,7,9,2000000)?\n",
    "###### A) 4\n",
    "###### B) 7\n",
    "###### C) 7.5\n",
    "###### D) 400005.2"
   ]
  },
  {
   "cell_type": "markdown",
   "metadata": {},
   "source": [
    "ANS. D) 400005.2"
   ]
  },
  {
   "cell_type": "markdown",
   "metadata": {},
   "source": [
    "###### 13. is a measure of central tendency that takes into account the magnitude of scores?\n",
    "###### A) Range\n",
    "###### B) Mode\n",
    "###### C) Median\n",
    "###### D) Mean"
   ]
  },
  {
   "cell_type": "markdown",
   "metadata": {},
   "source": [
    "ANS. D) Mean"
   ]
  },
  {
   "cell_type": "markdown",
   "metadata": {},
   "source": [
    "###### 14. Is focuses on describing or explaining data wheras involves going beyond immediate data and making inferences\n",
    "###### A) Descriptive and inferences\n",
    "###### B) Mutually exclusive and mutually exhaustive properties\n",
    "###### C) Positive skew and negative skew\n",
    "###### D) Central tendency"
   ]
  },
  {
   "cell_type": "markdown",
   "metadata": {},
   "source": [
    "ANS. A) Descriptive and inferences"
   ]
  },
  {
   "cell_type": "markdown",
   "metadata": {},
   "source": [
    "###### 15. What is the formula for range?\n",
    "###### A) H+L\n",
    "###### B) L-H\n",
    "###### C) LXH\n",
    "###### D) H-L"
   ]
  },
  {
   "cell_type": "markdown",
   "metadata": {},
   "source": [
    "ANS. D) H-L"
   ]
  }
 ],
 "metadata": {
  "kernelspec": {
   "display_name": "Python 3",
   "language": "python",
   "name": "python3"
  },
  "language_info": {
   "codemirror_mode": {
    "name": "ipython",
    "version": 3
   },
   "file_extension": ".py",
   "mimetype": "text/x-python",
   "name": "python",
   "nbconvert_exporter": "python",
   "pygments_lexer": "ipython3",
   "version": "3.8.5"
  }
 },
 "nbformat": 4,
 "nbformat_minor": 4
}
