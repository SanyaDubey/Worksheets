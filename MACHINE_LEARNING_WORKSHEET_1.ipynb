{
 "cells": [
  {
   "cell_type": "markdown",
   "metadata": {},
   "source": [
    "# MACHINE LEARNING – WORKSHEET\n",
    "#### (CLUSTERING)\n"
   ]
  },
  {
   "cell_type": "markdown",
   "metadata": {},
   "source": [
    "### Q1 to Q12 have only one correct answer. Choose the correct option to answer your question."
   ]
  },
  {
   "cell_type": "markdown",
   "metadata": {},
   "source": [
    "###### 1. What is the most appropriate no. of clusters for the data points represented by the following dendrogram:\n",
    "######     a. 2\n",
    "######     b. 4\n",
    "######     c. 6\n",
    "######     d. 8"
   ]
  },
  {
   "cell_type": "markdown",
   "metadata": {},
   "source": [
    "Ans. b) 4 "
   ]
  },
  {
   "cell_type": "markdown",
   "metadata": {},
   "source": [
    "###### 2. In which of the following cases will K-Means clustering fail to give good results?\n",
    "###### 1. Data points with outliers\n",
    "###### 2. Data points with different densities\n",
    "###### 3. Data points with round shapes\n",
    "###### 4. Data points with non-convex shapes\n",
    "###### Options:\n",
    "###### a. 1 and 2\n",
    "###### b. 2 and 3\n",
    "###### c. 2 and 4\n",
    "###### d. 1, 2 and 4\n",
    "###### e. 1, 2, 3 and 4"
   ]
  },
  {
   "cell_type": "markdown",
   "metadata": {},
   "source": [
    "ANS. d. 1, 2 and 4"
   ]
  },
  {
   "cell_type": "markdown",
   "metadata": {},
   "source": [
    "###### 3. The most important part of _____ is selecting the variables on which clustering is based.\n",
    "###### a. interpreting and profiling clusters\n",
    "###### b. selecting a clustering procedure\n",
    "###### c. assessing the validity of clustering\n",
    "###### d. formulating the clustering problem"
   ]
  },
  {
   "cell_type": "markdown",
   "metadata": {},
   "source": [
    "ANS. d. formulating the clustering problem"
   ]
  },
  {
   "cell_type": "markdown",
   "metadata": {},
   "source": [
    "###### 4. The most commonly used measure of similarity is the _____ or its square.\n",
    "###### a. euclidean distance\n",
    "###### b. city-block distance\n",
    "###### c. Chebyshev’s distance\n",
    "###### d. Manhattan distance"
   ]
  },
  {
   "cell_type": "markdown",
   "metadata": {},
   "source": [
    "ANS. a. euclidean distance"
   ]
  },
  {
   "cell_type": "markdown",
   "metadata": {},
   "source": [
    "###### 5. _____ is a clustering procedure where all objects start out in one giant cluster. Clusters are formed by dividing this cluster into smaller and smaller clusters.\n",
    "###### a. Non-hierarchical clustering\n",
    "###### b. Divisive clustering\n",
    "###### c. Agglomerative clustering\n",
    "###### d. K-means clustering"
   ]
  },
  {
   "cell_type": "markdown",
   "metadata": {},
   "source": [
    "ANS. b. Divisive clustering"
   ]
  },
  {
   "cell_type": "markdown",
   "metadata": {},
   "source": [
    "###### 6. Which of the following is required by K-means clustering?\n",
    "###### a. defined distance metric\n",
    "###### b. number of clusters\n",
    "###### c. initial guess as to cluster centroids\n",
    "###### d. all answers are correct"
   ]
  },
  {
   "cell_type": "markdown",
   "metadata": {},
   "source": [
    "ANS. d. all answers are correct"
   ]
  },
  {
   "cell_type": "markdown",
   "metadata": {},
   "source": [
    "###### 7. The goal of clustering is to\n",
    "###### a. Divide the data points into groups\n",
    "###### b. Classify the data point into different classes\n",
    "###### c. Predict the output values of input data points\n",
    "###### d. All of the above"
   ]
  },
  {
   "cell_type": "markdown",
   "metadata": {},
   "source": [
    "ANS. a. Divide the data points into groups"
   ]
  },
  {
   "cell_type": "markdown",
   "metadata": {},
   "source": [
    "###### 8. Clustering is a\n",
    "###### a. Supervised learning\n",
    "###### b. Unsupervised learning\n",
    "###### c. Reinforcement learning\n",
    "###### d. None"
   ]
  },
  {
   "cell_type": "markdown",
   "metadata": {},
   "source": [
    "ANS. b. Unsupervised learning"
   ]
  },
  {
   "cell_type": "markdown",
   "metadata": {},
   "source": [
    "###### 9. Which of the following clustering algorithms suffers from the problem of convergence at local optima?\n",
    "###### a. K- Means clustering\n",
    "###### b. Hierarchical clustering\n",
    "###### c. Diverse clustering\n",
    "###### d. All of the above"
   ]
  },
  {
   "cell_type": "markdown",
   "metadata": {},
   "source": [
    "ANS. d. All of the above"
   ]
  },
  {
   "cell_type": "markdown",
   "metadata": {},
   "source": [
    "###### 10. Which version of the clustering algorithm is most sensitive to outliers?\n",
    "###### a. K-means clustering algorithm\n",
    "###### b. K-modes clustering algorithm\n",
    "###### c. K-medians clustering algorithm\n",
    "###### d. None"
   ]
  },
  {
   "cell_type": "markdown",
   "metadata": {},
   "source": [
    "ANS. K-means clustering algorithm"
   ]
  },
  {
   "cell_type": "markdown",
   "metadata": {},
   "source": [
    "###### 11. Which of the following is a bad characteristic of a dataset for clustering analysis\n",
    "###### a. Data points with outliers\n",
    "###### b. Data points with different densities\n",
    "###### c. Data points with non-convex shapes\n",
    "###### d. All of the above"
   ]
  },
  {
   "cell_type": "markdown",
   "metadata": {},
   "source": [
    "ANS. d. All of the above"
   ]
  },
  {
   "cell_type": "markdown",
   "metadata": {},
   "source": [
    "###### 12. For clustering, we do not require\n",
    "###### a. Labeled data\n",
    "###### b. Unlabeled data\n",
    "###### c. Numerical data\n",
    "###### d. Categorical data"
   ]
  },
  {
   "cell_type": "markdown",
   "metadata": {},
   "source": [
    "ANS. a. Labeled data"
   ]
  },
  {
   "cell_type": "markdown",
   "metadata": {},
   "source": [
    "### Q13 to Q15 are subjective answers type questions, Answers them in their own words briefly."
   ]
  },
  {
   "cell_type": "markdown",
   "metadata": {},
   "source": [
    "###### 13. How is cluster analysis calculated?"
   ]
  },
  {
   "cell_type": "markdown",
   "metadata": {},
   "source": [
    "ANS. Cluster analysis can be calculated by Partitioning Method (K-Mean). This clustering method classifies the information into multiple groups based on the characteristics and similarity of the data. Its the data analysts to specify the number of clusters that has to be generated for the clustering methods."
   ]
  },
  {
   "cell_type": "markdown",
   "metadata": {},
   "source": [
    "The K means algorithm takes the input parameter K from the user and partitions the dataset containing N objects into K clusters so that resulting similarity among the data objects inside the group (intracluster) is high but the similarity of data objects with the data objects from outside the cluster is low (intercluster). The similarity of the cluster is determined with respect to the mean value of the cluster.\n",
    "\n",
    "It is a type of square error algorithm. At the start randomly k objects from the dataset are chosen in which each of the objects represents a cluster mean(centre). For the rest of the data objects, they are assigned to the nearest cluster based on their distance from the cluster mean. The new mean of each of the cluster is then calculated with the added data objects."
   ]
  },
  {
   "cell_type": "markdown",
   "metadata": {},
   "source": [
    "Method:\n",
    "\n",
    "1. Randomly assign K objects from the dataset(D) as cluster centres(C)\n",
    "2. (Re) Assign each object to which object is most similar based upon mean values.\n",
    "3. Update Cluster means, i.e., Recalculate the mean of each cluster with the updated values.\n",
    "4. Repeat Steps until no change occurs."
   ]
  },
  {
   "cell_type": "markdown",
   "metadata": {},
   "source": [
    "###### 14. How is cluster quality measured?"
   ]
  },
  {
   "cell_type": "markdown",
   "metadata": {},
   "source": [
    "ANS. We can measure cluster quality by using Sum of Squared Error (SSE). Basically, at the first step, we find the centroid of each cluster by taking an average of all the observations in that cluster.\n",
    "Then we find how much the points in that clusters deviate from the center and sum it. Then we sum this deviation or error of individual clusters.\n",
    "SSE should be as low as possible. "
   ]
  },
  {
   "cell_type": "markdown",
   "metadata": {},
   "source": [
    "###### 15. What is cluster analysis and its types?"
   ]
  },
  {
   "cell_type": "markdown",
   "metadata": {},
   "source": [
    "ANS. Cluster analysis is the task of grouping a set of data points in such a way that they can be characterized by their relevancy to one another. These techniques create clusters that allow us to understand how our data is related. The most common applications of cluster analysis in a business setting is to segment customers or activities.\n",
    "Types of cluster analysis are:\n",
    "    Partitioning Method,\n",
    "    Hierarchical Method,\n",
    "    Density-based Method,\n",
    "    Grid-Based Method,\n",
    "    Model-Based Method,\n",
    "    Constraint-based Method."
   ]
  }
 ],
 "metadata": {
  "kernelspec": {
   "display_name": "Python 3",
   "language": "python",
   "name": "python3"
  },
  "language_info": {
   "codemirror_mode": {
    "name": "ipython",
    "version": 3
   },
   "file_extension": ".py",
   "mimetype": "text/x-python",
   "name": "python",
   "nbconvert_exporter": "python",
   "pygments_lexer": "ipython3",
   "version": "3.8.5"
  }
 },
 "nbformat": 4,
 "nbformat_minor": 4
}
