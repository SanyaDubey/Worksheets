{
 "cells": [
  {
   "cell_type": "markdown",
   "metadata": {},
   "source": [
    "# SQL WORKSHEET"
   ]
  },
  {
   "cell_type": "markdown",
   "metadata": {},
   "source": [
    "### Q1 to Q13 have only one correct answer. Choose the correct option to answer your question."
   ]
  },
  {
   "cell_type": "markdown",
   "metadata": {},
   "source": [
    "###### 1. Which of the following constraint requires that there should not be duplicate entries?\n",
    "######  A) No Duplicity \n",
    "######  B) Different\n",
    "######  C) Null\n",
    "######  D) Unique"
   ]
  },
  {
   "cell_type": "markdown",
   "metadata": {},
   "source": [
    "ANS. D) Unique"
   ]
  },
  {
   "cell_type": "markdown",
   "metadata": {},
   "source": [
    "###### 2. Which of the following constraint allows null values in a column?\n",
    "###### A) Primary key \n",
    "###### B) Empty Value\n",
    "###### C) Null \n",
    "###### D) None of them"
   ]
  },
  {
   "cell_type": "markdown",
   "metadata": {},
   "source": [
    "ANS. C) Null"
   ]
  },
  {
   "cell_type": "markdown",
   "metadata": {},
   "source": [
    "###### 3. Which of the following statements are true regarding Primary Key?\n",
    "###### A) Each entry in the primary key uniquely identifies each entry or row in the table\n",
    "######  B) There can be duplicate values in a primary key column\n",
    "######  C) There can be null values in Primary key\n",
    "######  D) None of the above."
   ]
  },
  {
   "cell_type": "markdown",
   "metadata": {},
   "source": [
    "ANS. A) Each entry in the primary key uniquely identifies each entry or row in the table"
   ]
  },
  {
   "cell_type": "markdown",
   "metadata": {},
   "source": [
    "###### 4. Which of the following statements are true regarding Unique Key?\n",
    "###### A) There should not be any duplicate entries\n",
    "###### B) Null values are not allowed\n",
    "###### C) Multiple columns can make a single unique key together\n",
    "###### D) All of the above"
   ]
  },
  {
   "cell_type": "markdown",
   "metadata": {},
   "source": [
    "ANS. D) All of the above"
   ]
  },
  {
   "cell_type": "markdown",
   "metadata": {},
   "source": [
    "###### 5. Which of the following is/are example of referential constraint?\n",
    "###### A) Not Null \n",
    "###### B) Foreign Key\n",
    "###### C) Referential key \n",
    "###### D) All of them"
   ]
  },
  {
   "cell_type": "markdown",
   "metadata": {},
   "source": [
    "ANS. B) Foreign Key"
   ]
  },
  {
   "cell_type": "markdown",
   "metadata": {},
   "source": [
    "### For Questions 6-13 refer to the below diagram and answer the questions:"
   ]
  },
  {
   "cell_type": "markdown",
   "metadata": {},
   "source": [
    "###### 6. How many foreign keys are there in the Supplier table?\n",
    "###### A) 0 \n",
    "###### B) 3\n",
    "###### C) 2 \n",
    "###### D) 1"
   ]
  },
  {
   "cell_type": "markdown",
   "metadata": {},
   "source": [
    "ANS. D) 1"
   ]
  },
  {
   "cell_type": "markdown",
   "metadata": {},
   "source": [
    "###### 7. The type of relationship between Supplier table and Product table is:\n",
    "###### A) one to many \n",
    "###### B) many to one\n",
    "###### C) one to one \n",
    "###### D) many to many"
   ]
  },
  {
   "cell_type": "markdown",
   "metadata": {},
   "source": [
    "ANS. A) one to many"
   ]
  },
  {
   "cell_type": "markdown",
   "metadata": {},
   "source": [
    "###### 8. The type of relationship between Order table and Headquarter table is:\n",
    "###### A) one to many \n",
    "###### B) many to one\n",
    "###### C) one to one \n",
    "###### D) many to many"
   ]
  },
  {
   "cell_type": "markdown",
   "metadata": {},
   "source": [
    "ANS. C) one to one"
   ]
  },
  {
   "cell_type": "markdown",
   "metadata": {},
   "source": [
    "###### 9. Which of the following is a foreign key in Delivery table?\n",
    "###### A) delivery id \n",
    "###### B) supplier id\n",
    "###### C) delivery date \n",
    "###### D) None of them"
   ]
  },
  {
   "cell_type": "markdown",
   "metadata": {},
   "source": [
    "ANS. B) supplier id"
   ]
  },
  {
   "cell_type": "markdown",
   "metadata": {},
   "source": [
    "###### 10. The number of foreign keys in order details is:\n",
    "###### A) 0 \n",
    "###### B) 1\n",
    "###### C) 3 \n",
    "###### D) 2"
   ]
  },
  {
   "cell_type": "markdown",
   "metadata": {},
   "source": [
    "ANS. D) 2"
   ]
  },
  {
   "cell_type": "markdown",
   "metadata": {},
   "source": [
    "###### 11. The type of relationship between Order Detail table and Product table is:\n",
    "###### A) one to many \n",
    "###### B) many to one\n",
    "###### C) one to one \n",
    "###### D) many to many"
   ]
  },
  {
   "cell_type": "markdown",
   "metadata": {},
   "source": [
    "ANS. B) many to one"
   ]
  },
  {
   "cell_type": "markdown",
   "metadata": {},
   "source": [
    "###### 12. DDL statements perform operation on which of the following database objects?\n",
    "###### A) Rows of table \n",
    "###### B) Columns of table\n",
    "###### C) Table \n",
    "###### D) None of them"
   ]
  },
  {
   "cell_type": "markdown",
   "metadata": {},
   "source": [
    "ANS. C) Table"
   ]
  },
  {
   "cell_type": "markdown",
   "metadata": {},
   "source": [
    "###### 13. Which of the following statement is used to enter rows in a table?\n",
    "###### A) Insert in to \n",
    "###### B) Update\n",
    "###### C) Enter into \n",
    "###### D) Set Row"
   ]
  },
  {
   "cell_type": "markdown",
   "metadata": {},
   "source": [
    "ANS. A) Insert in to"
   ]
  },
  {
   "cell_type": "markdown",
   "metadata": {},
   "source": [
    "### Q14 and Q15 have one or more correct answer. Choose all the correct option to answer your question."
   ]
  },
  {
   "cell_type": "markdown",
   "metadata": {},
   "source": [
    "###### 14. Which of the following is/are entity constraints in SQL?\n",
    "###### A) Duplicate \n",
    "###### B) Unique\n",
    "###### C) Primary Key\n",
    "###### D) Null"
   ]
  },
  {
   "cell_type": "markdown",
   "metadata": {},
   "source": [
    "ANS. B) Unique, C) Primary Key"
   ]
  },
  {
   "cell_type": "markdown",
   "metadata": {},
   "source": [
    "###### 15. Which of the following statements is an example of semantic Constraint?\n",
    "###### A) A blood group can contain one of the following values - A, B, AB and O.\n",
    "###### B) A blood group can only contain characters\n",
    "###### C) A blood group cannot have null values\n",
    "###### D) Two or more donors can have same blood group"
   ]
  },
  {
   "cell_type": "markdown",
   "metadata": {},
   "source": [
    "ANS. A) A blood group can contain one of the following values - A, B, AB and O., D) Two or more donors can have same blood grou"
   ]
  }
 ],
 "metadata": {
  "kernelspec": {
   "display_name": "Python 3",
   "language": "python",
   "name": "python3"
  },
  "language_info": {
   "codemirror_mode": {
    "name": "ipython",
    "version": 3
   },
   "file_extension": ".py",
   "mimetype": "text/x-python",
   "name": "python",
   "nbconvert_exporter": "python",
   "pygments_lexer": "ipython3",
   "version": "3.8.5"
  }
 },
 "nbformat": 4,
 "nbformat_minor": 4
}
