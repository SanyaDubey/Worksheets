{
 "cells": [
  {
   "cell_type": "markdown",
   "metadata": {},
   "source": [
    "# STATISTICS WORKSHEET - 8"
   ]
  },
  {
   "cell_type": "markdown",
   "metadata": {},
   "source": [
    "### Q1 to Q12 have only one correct answer. Choose the correct option to answer your question."
   ]
  },
  {
   "cell_type": "markdown",
   "metadata": {},
   "source": [
    "###### 1. In hypothesis testing, type II error is represented by β and the power of the test is 1−β then β is:\n",
    "###### a. The probability of rejecting H0 when H1 is true\n",
    "###### b. The probability of failing to reject H0 when H1 is true\n",
    "###### c. The probability of failing to reject H1 when H0 is true\n",
    "###### d. The probability of rejecting H0 when H1 is true"
   ]
  },
  {
   "cell_type": "markdown",
   "metadata": {},
   "source": [
    "    ANS. b. The probability of failing to reject H0 when H1 is true"
   ]
  },
  {
   "cell_type": "markdown",
   "metadata": {},
   "source": [
    "###### 2. In hypothesis testing, the hypothesis which is tentatively assumed to be true is called the\n",
    "###### a. correct hypothesis\n",
    "###### b. null hypothesis \n",
    "###### c. alternative hypothesis\n",
    "###### d. level of significance"
   ]
  },
  {
   "cell_type": "markdown",
   "metadata": {},
   "source": [
    "    ANS. b. null hypothesis"
   ]
  },
  {
   "cell_type": "markdown",
   "metadata": {},
   "source": [
    "###### 3. When the null hypothesis has been true, but the sample information has resulted in the rejection of the null, a _________ has been made\n",
    "###### a. level of significance\n",
    "###### b. Type II error\n",
    "###### c. critical value\n",
    "###### d. Type I error"
   ]
  },
  {
   "cell_type": "markdown",
   "metadata": {},
   "source": [
    "    ANS. d. Type I error"
   ]
  },
  {
   "cell_type": "markdown",
   "metadata": {},
   "source": [
    "###### 4.For finding the p-value when the population standard deviation is unknown, if it is reasonable to assume that the population is normal, we use\n",
    "###### a. the z distribution\n",
    "###### b. the t distribution with n - 1 degrees of freedom\n",
    "###### c. the t distribution with n + 1 degrees of freedom\n",
    "###### d. none of the above"
   ]
  },
  {
   "cell_type": "markdown",
   "metadata": {},
   "source": [
    "    ANS. b. the t distribution with n - 1 degrees of freedom"
   ]
  },
  {
   "cell_type": "markdown",
   "metadata": {},
   "source": [
    "###### 5. A Type II error is the error of\n",
    "###### a. accepting Ho when it is false\n",
    "###### b. accepting Ho when it is true\n",
    "###### c. rejecting Ho when it is false\n",
    "###### d. rejecting Ho when it is true"
   ]
  },
  {
   "cell_type": "markdown",
   "metadata": {},
   "source": [
    "    ANS. a. accepting Ho when it is false"
   ]
  },
  {
   "cell_type": "markdown",
   "metadata": {},
   "source": [
    "###### 6. A hypothesis test in which rejection of the null hypothesis occurs for values of the point estimator in either tail of the sampling distribution is called\n",
    "###### a. the null hypothesis\n",
    "###### b. the alternative hypothesis\n",
    "###### c. a one-tailed test\n",
    "###### d. a two-tailed test"
   ]
  },
  {
   "cell_type": "markdown",
   "metadata": {},
   "source": [
    "    ANS. d. a two-tailed test"
   ]
  },
  {
   "cell_type": "markdown",
   "metadata": {},
   "source": [
    "###### 7. In hypothesis testing, the level of significance is\n",
    "###### a. the probability of committing a Type II error\n",
    "###### b. the probability of committing a Type I error\n",
    "###### c. the probability of either a Type I or Type II, depending on the hypothesis to be tested\n",
    "###### d. none of the above"
   ]
  },
  {
   "cell_type": "markdown",
   "metadata": {},
   "source": [
    "    ANS. the probability of committing a Type I error"
   ]
  },
  {
   "cell_type": "markdown",
   "metadata": {},
   "source": [
    "###### 8. In hypothesis testing, b is\n",
    "###### a. the probability of committing a Type II error\n",
    "###### b. the probability of committing a Type I error\n",
    "###### c. the probability of either a Type I or Type II, depending on the hypothesis to be test\n",
    "###### d. none of the above"
   ]
  },
  {
   "cell_type": "markdown",
   "metadata": {},
   "source": [
    "    ANS.   a. the probability of committing a Type II error"
   ]
  },
  {
   "cell_type": "markdown",
   "metadata": {},
   "source": [
    "###### 9. When testing the following hypotheses at an α level of significance\n",
    "###### H0: p = 0.7\n",
    "###### H1: p > 0.7\n",
    "###### The null hypothesis will be rejected if the test statistic Z is\n",
    "###### a. z > zα\n",
    "###### b. z < zα\n",
    "###### c. z < -z\n",
    "###### d. none of the above"
   ]
  },
  {
   "cell_type": "markdown",
   "metadata": {},
   "source": [
    "    ANS. a. z > zα"
   ]
  },
  {
   "cell_type": "markdown",
   "metadata": {},
   "source": [
    "###### 10. Which of the following does not need to be known in order to compute the P-value?\n",
    "###### a. knowledge of whether the test is one-tailed or two-tail\n",
    "###### b. the value of the test statistic\n",
    "###### c. the level of significance\n",
    "###### d. All of the above are needed"
   ]
  },
  {
   "cell_type": "markdown",
   "metadata": {},
   "source": [
    "    ANS. c. the level of significance"
   ]
  },
  {
   "cell_type": "markdown",
   "metadata": {},
   "source": [
    "###### 11. The maximum probability of a Type I error that the decision maker will tolerate is called the\n",
    "###### a. level of significance\n",
    "###### b. critical value\n",
    "###### c. decision value\n",
    "###### d. probability value"
   ]
  },
  {
   "cell_type": "markdown",
   "metadata": {},
   "source": [
    "    ANS. a. level of significance"
   ]
  },
  {
   "cell_type": "markdown",
   "metadata": {},
   "source": [
    "###### 12. For t distribution, increasing the sample size, the effect will be on\n",
    "###### a. Degrees of Freedom\n",
    "###### b. The t-ratio\n",
    "###### c. Standard Error of the Means\n",
    "###### d. All of the Above"
   ]
  },
  {
   "cell_type": "markdown",
   "metadata": {},
   "source": [
    "    ANS. a. Degrees of Freedom¶"
   ]
  },
  {
   "cell_type": "markdown",
   "metadata": {},
   "source": [
    "### Q13 to Q15 are subjective answers type questions. Answers them in their own words briefly."
   ]
  },
  {
   "cell_type": "markdown",
   "metadata": {},
   "source": [
    "###### 13. What is Anova in SPSS?"
   ]
  },
  {
   "cell_type": "markdown",
   "metadata": {},
   "source": [
    "    ANOVA in SPSS, is used for examining the differences in the mean values of the dependent variable associated with the\n",
    "    effect of the controlled independent variables, after taking into account the influence of the uncontrolled \n",
    "    independent variables. Essentially, ANOVA in SPSS is used as the test of means for two or more populations."
   ]
  },
  {
   "cell_type": "markdown",
   "metadata": {},
   "source": [
    "###### 14. What are the assumptions of Anova?"
   ]
  },
  {
   "cell_type": "markdown",
   "metadata": {},
   "source": [
    "To use the ANOVA test we made the following assumptions:\n",
    "\n",
    "    -Each group sample is drawn from a normally distributed population.\n",
    "    -All populations have a common variance.\n",
    "    -All samples are drawn independently of each other.\n",
    "    -Within each sample, the observations are sampled randomly and independently of each other.\n",
    "    -Factor effects are additive."
   ]
  },
  {
   "cell_type": "markdown",
   "metadata": {},
   "source": [
    "###### 15. What is the difference between one way Anova and two way Anova?"
   ]
  },
  {
   "cell_type": "markdown",
   "metadata": {},
   "source": [
    "    The only difference between one-way and two-way ANOVA is the number of independent variables. A one-way ANOVA has \n",
    "    one independent variable, while a two-way ANOVA has two.\n",
    "    \n",
    "    \n",
    "    One-Way ANOVA\n",
    "        - A test that allows one to make comparisons between the means of three or more groups of data.\n",
    "        - There is only one number of Independent Variable\n",
    "        - The means of three or more groups of an independent variable on a dependent variable.\n",
    "        - Three or more Number of Groups of Samples are there.\n",
    "\n",
    "\n",
    "    Two-Way ANOVA\n",
    "        - A test that allows one to make comparisons between the means of three or more groups of data, where two \n",
    "          independent variables are considered.\n",
    "        - There are two number of Independent Variable\n",
    "        - The effect of multiple groups of two independent variables on a dependent variable and on each other. \n",
    "        - Each variable should have multiple samples."
   ]
  }
 ],
 "metadata": {
  "kernelspec": {
   "display_name": "Python 3",
   "language": "python",
   "name": "python3"
  },
  "language_info": {
   "codemirror_mode": {
    "name": "ipython",
    "version": 3
   },
   "file_extension": ".py",
   "mimetype": "text/x-python",
   "name": "python",
   "nbconvert_exporter": "python",
   "pygments_lexer": "ipython3",
   "version": "3.8.5"
  }
 },
 "nbformat": 4,
 "nbformat_minor": 4
}
