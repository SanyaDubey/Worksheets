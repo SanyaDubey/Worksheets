{
 "cells": [
  {
   "cell_type": "markdown",
   "metadata": {},
   "source": [
    "# PYTHON WORKSHEET - 1"
   ]
  },
  {
   "cell_type": "markdown",
   "metadata": {},
   "source": [
    "### Q1 to Q8 have only one correct answer. Choose the correct option to answer your question."
   ]
  },
  {
   "cell_type": "markdown",
   "metadata": {},
   "source": [
    "###### 1. Which of the following operators is used to calculate remainder in a division?\n",
    "###### A)  #\n",
    "###### B) &\n",
    "###### C) % \n",
    "###### D) $"
   ]
  },
  {
   "cell_type": "markdown",
   "metadata": {},
   "source": [
    "    ANS. C) %"
   ]
  },
  {
   "cell_type": "markdown",
   "metadata": {},
   "source": [
    "###### 2. In python 2//3 is equal to?\n",
    "###### A) 0.666 \n",
    "###### B) 0\n",
    "###### C) 1 \n",
    "###### D) 0.67"
   ]
  },
  {
   "cell_type": "markdown",
   "metadata": {},
   "source": [
    "    ANS. B) 0"
   ]
  },
  {
   "cell_type": "markdown",
   "metadata": {},
   "source": [
    "###### 3. In python, 6<<2 is equal to?\n",
    "###### A) 36\n",
    "###### B) 10\n",
    "###### C) 24\n",
    "###### D) 45"
   ]
  },
  {
   "cell_type": "markdown",
   "metadata": {},
   "source": [
    "    ANS. C) 24"
   ]
  },
  {
   "cell_type": "markdown",
   "metadata": {},
   "source": [
    "###### 4. In python, 6&2 will give which of the following as output?\n",
    "###### A) 2 \n",
    "###### B) True\n",
    "###### C) False\n",
    "###### D) 0"
   ]
  },
  {
   "cell_type": "markdown",
   "metadata": {},
   "source": [
    "    ANS. A) 2"
   ]
  },
  {
   "cell_type": "markdown",
   "metadata": {},
   "source": [
    "###### 5. In python, 6|2 will give which of the following as output?\n",
    "###### A) 2 \n",
    "###### B) 4\n",
    "###### C) 0 \n",
    "###### D) 6"
   ]
  },
  {
   "cell_type": "markdown",
   "metadata": {},
   "source": [
    "    ANS. D) 6"
   ]
  },
  {
   "cell_type": "markdown",
   "metadata": {},
   "source": [
    "###### 6. What does the finally keyword denotes in python?\n",
    "###### A) It is used to mark the end of the code\n",
    "###### B) It encloses the lines of code which will be executed if any error occurs while executing the lines of code in the try block.\n",
    "###### C) the finally block will be executed no matter if the try block raises an error or not.\n",
    "###### D) None of the above"
   ]
  },
  {
   "cell_type": "markdown",
   "metadata": {},
   "source": [
    "    ANS. C) the finally block will be executed no matter if the try block raises an error or not."
   ]
  },
  {
   "cell_type": "markdown",
   "metadata": {},
   "source": [
    "###### 7. What does raise keyword is used for in python?\n",
    "###### A) It is used to raise an exception.\n",
    "###### B) It is used to define lambda function\n",
    "###### C) it's not a keyword in python.\n",
    "###### D) None of the above"
   ]
  },
  {
   "cell_type": "markdown",
   "metadata": {},
   "source": [
    "    ANS. A) It is used to raise an exception."
   ]
  },
  {
   "cell_type": "markdown",
   "metadata": {},
   "source": [
    "###### 8. Which of the following is a common use case of yield keyword in python?\n",
    "###### A) in defining an iterator \n",
    "###### B) while defining a lambda function\n",
    "###### C) in defining a generator \n",
    "###### D) in for loop."
   ]
  },
  {
   "cell_type": "markdown",
   "metadata": {},
   "source": [
    "    ANS. C) in defining a generator"
   ]
  },
  {
   "cell_type": "markdown",
   "metadata": {},
   "source": [
    "### Q9 and Q10 have multiple correct answers. Choose all the correct options to answer your question"
   ]
  },
  {
   "cell_type": "markdown",
   "metadata": {},
   "source": [
    "###### 9. Which of the following are the valid variable names?\n",
    "###### A) _abc \n",
    "###### B) 1abc\n",
    "###### C) abc2 \n",
    "###### D) None of the above"
   ]
  },
  {
   "cell_type": "markdown",
   "metadata": {},
   "source": [
    "    ANS. A) _abc \n",
    "         C) abc2"
   ]
  },
  {
   "cell_type": "markdown",
   "metadata": {},
   "source": [
    "###### 10. Which of the following are the keywords in python?\n",
    "###### A) yield \n",
    "###### B) raise\n",
    "###### C) look-in \n",
    "###### D) all of the above"
   ]
  },
  {
   "cell_type": "markdown",
   "metadata": {},
   "source": [
    "    ANS. A) yield\n",
    "         B) raise"
   ]
  },
  {
   "cell_type": "markdown",
   "metadata": {},
   "source": [
    "### Q11 to Q15 are programming questions. Answer them in Jupyter Notebook."
   ]
  },
  {
   "cell_type": "markdown",
   "metadata": {},
   "source": [
    "###### 11. Write a python program to find the factorial of a number."
   ]
  },
  {
   "cell_type": "code",
   "execution_count": 7,
   "metadata": {},
   "outputs": [
    {
     "name": "stdout",
     "output_type": "stream",
     "text": [
      "Enter the number to find the factorial : 5\n",
      "The factorial for the number is 120\n"
     ]
    }
   ],
   "source": [
    "input_no = int(input('Enter the number to find the factorial : '))\n",
    "\n",
    "x = 1\n",
    "\n",
    "if input_no == 0:\n",
    "    print('The factorial of 0 is 1')\n",
    "else:\n",
    "    for i in range(1, input_no + 1):\n",
    "        x = x * i\n",
    "    \n",
    "\n",
    "print('The factorial for the number is', x)"
   ]
  },
  {
   "cell_type": "markdown",
   "metadata": {},
   "source": [
    "###### 12. Write a python program to find whether a number is prime or composite."
   ]
  },
  {
   "cell_type": "code",
   "execution_count": 9,
   "metadata": {},
   "outputs": [
    {
     "name": "stdout",
     "output_type": "stream",
     "text": [
      "Enter the number : 45\n",
      "Number is composite\n"
     ]
    }
   ],
   "source": [
    "no = int(input('Enter the number : '))\n",
    "\n",
    "if no > 1:\n",
    "    for i in range(2, no):\n",
    "        if no % i == 0:\n",
    "            print('Number is composite')\n",
    "            break\n",
    "    else:\n",
    "        print('Number is prime')"
   ]
  },
  {
   "cell_type": "markdown",
   "metadata": {},
   "source": [
    "###### 13. Write a python program to check whether a given string is palindrome or not."
   ]
  },
  {
   "cell_type": "code",
   "execution_count": 11,
   "metadata": {},
   "outputs": [
    {
     "name": "stdout",
     "output_type": "stream",
     "text": [
      "Enter the string to check wether it is palindrome or not : 48\n",
      "The string is not palindrome\n"
     ]
    }
   ],
   "source": [
    "string = input('Enter the string to check wether it is palindrome or not : ')\n",
    "string = string.upper()\n",
    "str2 = string[::-1]\n",
    "if str2 == string:\n",
    "    print('The String entered is palindrome')\n",
    "else:\n",
    "    print('The string is not palindrome')"
   ]
  },
  {
   "cell_type": "markdown",
   "metadata": {},
   "source": [
    "###### 14. Write a Python program to get the third side of right-angled triangle from two given sides."
   ]
  },
  {
   "cell_type": "code",
   "execution_count": 15,
   "metadata": {},
   "outputs": [
    {
     "name": "stdout",
     "output_type": "stream",
     "text": [
      "Enter first side of the triangle : 4\n",
      "Enter second side of the triangle : 8\n",
      "The third side :  8.94427190999916\n"
     ]
    }
   ],
   "source": [
    "import numpy as np\n",
    "\n",
    "side_a = int(input('Enter first side of the triangle : '))\n",
    "side_b = int(input('Enter second side of the triangle : '))\n",
    "\n",
    "side_c = np.sqrt((side_a**2)+(side_b**2))\n",
    "\n",
    "print('The third side : ', side_c)"
   ]
  },
  {
   "cell_type": "markdown",
   "metadata": {},
   "source": [
    "###### 15. Write a python program to print the frequency of each of the characters present in a given string."
   ]
  },
  {
   "cell_type": "code",
   "execution_count": 17,
   "metadata": {},
   "outputs": [
    {
     "name": "stdout",
     "output_type": "stream",
     "text": [
      "Enter the string : Python is a popular programming language.\n",
      "Per character frequency in the string is :\n",
      " Counter({' ': 5, 'a': 5, 'g': 4, 'o': 3, 'n': 3, 'p': 3, 'r': 3, 'i': 2, 'u': 2, 'l': 2, 'm': 2, 'P': 1, 'y': 1, 't': 1, 'h': 1, 's': 1, 'e': 1, '.': 1})\n"
     ]
    }
   ],
   "source": [
    "from collections import Counter\n",
    "\n",
    "string = input('Enter the string : ')\n",
    "freq = Counter(string)\n",
    "print (\"Per character frequency in the string is :\\n {}\".format(str(freq)))"
   ]
  }
 ],
 "metadata": {
  "kernelspec": {
   "display_name": "Python 3",
   "language": "python",
   "name": "python3"
  },
  "language_info": {
   "codemirror_mode": {
    "name": "ipython",
    "version": 3
   },
   "file_extension": ".py",
   "mimetype": "text/x-python",
   "name": "python",
   "nbconvert_exporter": "python",
   "pygments_lexer": "ipython3",
   "version": "3.8.5"
  }
 },
 "nbformat": 4,
 "nbformat_minor": 4
}
