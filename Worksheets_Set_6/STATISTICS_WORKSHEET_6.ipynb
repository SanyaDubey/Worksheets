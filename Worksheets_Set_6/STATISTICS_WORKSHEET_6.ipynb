{
 "cells": [
  {
   "cell_type": "markdown",
   "metadata": {},
   "source": [
    "# STATISTICS WORKSHEET - 6"
   ]
  },
  {
   "cell_type": "markdown",
   "metadata": {},
   "source": [
    "### Q1 to Q9 have only one correct answer. Choose the correct option to answer your question."
   ]
  },
  {
   "cell_type": "markdown",
   "metadata": {},
   "source": [
    "###### 1. Which of the following can be considered as random variable?\n",
    "###### a) The outcome from the roll of a die\n",
    "###### b) The outcome of flip of a coin\n",
    "###### c) The outcome of exam\n",
    "###### d) All of the mentioned"
   ]
  },
  {
   "cell_type": "markdown",
   "metadata": {},
   "source": [
    "    ANS. d) All of the mentioned"
   ]
  },
  {
   "cell_type": "markdown",
   "metadata": {},
   "source": [
    "###### 2. Which of the following random variable that take on only a countable number of possibilities?\n",
    "###### a) Discrete\n",
    "###### b) Non Discrete\n",
    "###### c) Continuous\n",
    "###### d) All of the mentioned"
   ]
  },
  {
   "cell_type": "markdown",
   "metadata": {},
   "source": [
    "    ANS. a) Discrete"
   ]
  },
  {
   "cell_type": "markdown",
   "metadata": {},
   "source": [
    "###### 3. Which of the following function is associated with a continuous random variable?\n",
    "###### a) pdf\n",
    "###### b) pmv\n",
    "###### c) pmf\n",
    "###### d) all of the mentioned"
   ]
  },
  {
   "cell_type": "markdown",
   "metadata": {},
   "source": [
    "    ANS. a) pdf"
   ]
  },
  {
   "cell_type": "markdown",
   "metadata": {},
   "source": [
    "###### 4. The expected value or _______ of a random variable is the center of its distribution.\n",
    "###### a) mode\n",
    "###### b) median\n",
    "###### c) mean\n",
    "###### d) bayesian inference"
   ]
  },
  {
   "cell_type": "markdown",
   "metadata": {},
   "source": [
    "    ANS. c) mean"
   ]
  },
  {
   "cell_type": "markdown",
   "metadata": {},
   "source": [
    "###### 5. Which of the following of a random variable is not a measure of spread?\n",
    "###### a) variance\n",
    "###### b) standard deviation\n",
    "###### c) empirical mean\n",
    "###### d) all of the mentioned"
   ]
  },
  {
   "cell_type": "markdown",
   "metadata": {},
   "source": [
    "    ANS. c) empirical mean"
   ]
  },
  {
   "cell_type": "markdown",
   "metadata": {},
   "source": [
    "###### 6. The _________ of the Chi-squared distribution is twice the degrees of freedom.\n",
    "###### a) variance\n",
    "###### b) standard deviation\n",
    "###### c) mode\n",
    "###### d) none of the mentioned"
   ]
  },
  {
   "cell_type": "markdown",
   "metadata": {},
   "source": [
    "    ANS. a) variance"
   ]
  },
  {
   "cell_type": "markdown",
   "metadata": {},
   "source": [
    "###### 7. The beta distribution is the default prior for parameters between ____________\n",
    "###### a) 0 and 10\n",
    "###### b) 1 and 2\n",
    "###### c) 0 and 1\n",
    "###### d) None of the mentioned"
   ]
  },
  {
   "cell_type": "markdown",
   "metadata": {},
   "source": [
    "    ANS. c) 0 and 1"
   ]
  },
  {
   "cell_type": "markdown",
   "metadata": {},
   "source": [
    "###### 8. Which of the following tool is used for constructing confidence intervals and calculating standard errors for difficult statistics?\n",
    "###### a) baggyer\n",
    "###### b) bootstrap\n",
    "###### c) jacknife\n",
    "###### d) none of the mentioned"
   ]
  },
  {
   "cell_type": "markdown",
   "metadata": {},
   "source": [
    "    ANS. b) bootstrap"
   ]
  },
  {
   "cell_type": "markdown",
   "metadata": {},
   "source": [
    "###### 9. Data that summarize all observations in a category are called __________ data.\n",
    "###### a) frequency\n",
    "###### b) summarized\n",
    "###### c) raw\n",
    "###### d) none of the mentioned"
   ]
  },
  {
   "cell_type": "markdown",
   "metadata": {},
   "source": [
    "    ANS. b) summarized"
   ]
  },
  {
   "cell_type": "markdown",
   "metadata": {},
   "source": [
    "### Q10 to Q15 are subjective answer type questions, Answer them in your own words briefly."
   ]
  },
  {
   "cell_type": "markdown",
   "metadata": {},
   "source": [
    "###### 10. What is the difference between a boxplot and histogram?"
   ]
  },
  {
   "cell_type": "markdown",
   "metadata": {},
   "source": [
    "    Boxplot: It is a way of statistically representing the distribution of data through five main dimensions - minimum, \n",
    "             first quartile(25%), median, third quartile(75%), and maximum. When one variable is categorical and the other \n",
    "             is continous, a box-plot is commonly used.\n",
    "             \n",
    "    Histogram: It is a way of representing the frequency distribution of a variable, or a numeric dataset. In a histogram, \n",
    "               each bar groups numbers into ranges. Taller bars show that more data falls in that range. A histogram \n",
    "               displays the shape and spread of continuous sample data."
   ]
  },
  {
   "cell_type": "markdown",
   "metadata": {},
   "source": [
    "###### 11. How to select metrics?"
   ]
  },
  {
   "cell_type": "markdown",
   "metadata": {},
   "source": [
    "    The selection of metrics depends upon the type of data. If the data is countinous or where regression is to be used,\n",
    "    metrices like R2 square, Adjusted R2, RSME, etc, are to be considered. On the other hand if classification technique is \n",
    "    to be used, metrices like accuracy, classification report, confusion metrix are considered.   "
   ]
  },
  {
   "cell_type": "markdown",
   "metadata": {},
   "source": [
    "###### 12. How do you assess the statistical significance of an insight?"
   ]
  },
  {
   "cell_type": "markdown",
   "metadata": {},
   "source": [
    "    Statistical significance can be accessed using hypothesis testing: Stating a null hypothesis which is usually the \n",
    "    opposite of what we wish to test (classifiers A and B perform equivalently, Treatment A is equal of treatment B)."
   ]
  },
  {
   "cell_type": "markdown",
   "metadata": {},
   "source": [
    "###### 13. Give examples of data that doesnot have a Gaussian distribution, nor log-normal."
   ]
  },
  {
   "cell_type": "markdown",
   "metadata": {},
   "source": [
    "    Examples: \n",
    "    - The distribution of numbers that show up on the top of a fair die after a large number of throws. (Uniform \n",
    "      Distribution (continous))\n",
    "    - Astronomical data\n",
    "    - Weibull distribution, found with life data such as survival times of a product.\n",
    "    - Poisson distribution, found with rare events such as number of accidents.\n",
    "    - Gamma Distribution, is well-known for modeling waiting times. Eg. surgery patient's stay in hospital.\n",
    "    - Any distribution of money or value will be non--Gaussian. For example: distributions of income; distributions of \n",
    "      house prices; distributions of bets placed on a sporting event."
   ]
  },
  {
   "cell_type": "markdown",
   "metadata": {},
   "source": [
    "###### 14. Give an example where the median is a better measure than the mean."
   ]
  },
  {
   "cell_type": "markdown",
   "metadata": {},
   "source": [
    "    The median is a better measure than mean:\n",
    "        - When the data set is skewed (i.e., forms a skewed distribution).\n",
    "        - While dealing with ordinal data."
   ]
  },
  {
   "cell_type": "markdown",
   "metadata": {},
   "source": [
    "###### 15. What is the Likelihood?"
   ]
  },
  {
   "cell_type": "markdown",
   "metadata": {},
   "source": [
    "    In statistics, the likelihood function measures the goodness of fit of a statistical model to a sample of data for\n",
    "    given values of the unknown parameters. It is formed from the joint probability distribution of the sample, but viewed\n",
    "    and used as a function of the parameters only, thus treating the random variables as fixed at the observed values."
   ]
  }
 ],
 "metadata": {
  "kernelspec": {
   "display_name": "Python 3",
   "language": "python",
   "name": "python3"
  },
  "language_info": {
   "codemirror_mode": {
    "name": "ipython",
    "version": 3
   },
   "file_extension": ".py",
   "mimetype": "text/x-python",
   "name": "python",
   "nbconvert_exporter": "python",
   "pygments_lexer": "ipython3",
   "version": "3.8.5"
  }
 },
 "nbformat": 4,
 "nbformat_minor": 4
}
