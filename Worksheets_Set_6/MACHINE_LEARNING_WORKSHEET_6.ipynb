{
 "cells": [
  {
   "cell_type": "markdown",
   "metadata": {},
   "source": [
    "# MACHINE LEARNING WORKSHEET - 6"
   ]
  },
  {
   "cell_type": "markdown",
   "metadata": {},
   "source": [
    "### In Q1 to Q5, only one option is correct, Choose the correct option:"
   ]
  },
  {
   "cell_type": "markdown",
   "metadata": {},
   "source": [
    "###### 1. In which of the following you can say that the model is overfitting?\n",
    "###### A) High R-squared value for train-set and High R-squared value for test-set.\n",
    "###### B) Low R-squared value for train-set and High R-squared value for test-set.\n",
    "###### C) High R-squared value for train-set and Low R-squared value for test-set.\n",
    "###### D) None of the above"
   ]
  },
  {
   "cell_type": "markdown",
   "metadata": {},
   "source": [
    "    Ans. C) High R-squared value for train-set and Low R-squared value for test-set."
   ]
  },
  {
   "cell_type": "markdown",
   "metadata": {},
   "source": [
    "###### 2. Which among the following is a disadvantage of decision trees?\n",
    "###### A) Decision trees are prone to outliers.\n",
    "###### B) Decision trees are highly prone to overfitting.\n",
    "###### C) Decision trees are not easy to interpret\n",
    "###### D) None of the above."
   ]
  },
  {
   "cell_type": "markdown",
   "metadata": {},
   "source": [
    "    Ans. B) Decision trees are highly prone to overfitting."
   ]
  },
  {
   "cell_type": "markdown",
   "metadata": {},
   "source": [
    "###### 3. Which of the following is an ensemble technique?\n",
    "###### A) SVM \n",
    "###### B) Logistic Regression\n",
    "###### C) Random Forest \n",
    "###### D) Decision tree"
   ]
  },
  {
   "cell_type": "markdown",
   "metadata": {},
   "source": [
    "    Ans. C) Random Forest"
   ]
  },
  {
   "cell_type": "markdown",
   "metadata": {},
   "source": [
    "###### 4. Suppose you are building a classification model for detection of a fatal disease where detection of the disease is most important. In this case which of the following metrics you would focus on?\n",
    "###### A) Accuracy \n",
    "###### B) Sensitivity\n",
    "###### C) Precision \n",
    "###### D) None of the above."
   ]
  },
  {
   "cell_type": "markdown",
   "metadata": {},
   "source": [
    "    Ans. B) Sensitivity"
   ]
  },
  {
   "cell_type": "markdown",
   "metadata": {},
   "source": [
    "###### 5. The value of AUC (Area under Curve) value for ROC curve of model A is 0.70 and of model B is 0.85. Which of these two models is doing better job in classification?\n",
    "###### A) Model A \n",
    "###### B) Model B\n",
    "###### C) both are performing equal \n",
    "###### D) Data Insufficient"
   ]
  },
  {
   "cell_type": "markdown",
   "metadata": {},
   "source": [
    "    Ans. B) Model B"
   ]
  },
  {
   "cell_type": "markdown",
   "metadata": {},
   "source": [
    "### In Q6 to Q9, more than one options are correct, Choose all the correct options :"
   ]
  },
  {
   "cell_type": "markdown",
   "metadata": {},
   "source": [
    "###### 6. Which of the following are the regularization technique in Linear Regression?\n",
    "###### A) Ridge \n",
    "###### B) R-squared\n",
    "###### C) MSE \n",
    "###### D) Lasso"
   ]
  },
  {
   "cell_type": "markdown",
   "metadata": {},
   "source": [
    "    Ans. A) Ridge\n",
    "         D) Lasso"
   ]
  },
  {
   "cell_type": "markdown",
   "metadata": {},
   "source": [
    "###### 7. Which of the following is not an example of boosting technique?\n",
    "###### A) Adaboost \n",
    "###### B) Decision Tree\n",
    "###### C) Random Forest\n",
    "###### D) Xgboost."
   ]
  },
  {
   "cell_type": "markdown",
   "metadata": {},
   "source": [
    "    Ans. B) Decision Tree\n",
    "         C) Random Forest"
   ]
  },
  {
   "cell_type": "markdown",
   "metadata": {},
   "source": [
    "###### 8. Which of the techniques are used for regularization of Decision Trees? \n",
    "###### A) Pruning \n",
    "###### B) L2 regularization\n",
    "###### C) Restricting the max depth of the tree \n",
    "###### D) All of the above"
   ]
  },
  {
   "cell_type": "markdown",
   "metadata": {},
   "source": [
    "    Ans. A) Pruning\n",
    "         C) Restricting the max depth of the tree"
   ]
  },
  {
   "cell_type": "markdown",
   "metadata": {},
   "source": [
    "###### 9. Which of the following statements is true regarding the Adaboost technique?\n",
    "###### A) We initialize the probabilities of the distribution as 1/n, where n is the number of data-points\n",
    "###### B) A tree in the ensemble focuses more on the data points on which the previous tree was not performing well\n",
    "###### C) It is example of bagging technique\n",
    "###### D) None of the above"
   ]
  },
  {
   "cell_type": "markdown",
   "metadata": {},
   "source": [
    "    Ans. A) We initialize the probabilities of the distribution as 1/n, where n is the number of data-points\n",
    "         B) A tree in the ensemble focuses more on the data points on which the previous tree was not performing well"
   ]
  },
  {
   "cell_type": "markdown",
   "metadata": {},
   "source": [
    "### Q10 to Q15 are subjective answer type questions, Answer them briefly."
   ]
  },
  {
   "cell_type": "markdown",
   "metadata": {},
   "source": [
    "###### 10. Explain how does the adjusted R-squared penalize the presence of unnecessary predictors in the model?"
   ]
  },
  {
   "cell_type": "markdown",
   "metadata": {},
   "source": [
    "    The adjusted R-squared is a modified version of R-squared that has been adjusted for the number of predictors in the \n",
    "    model. The adjusted R-squared increases only if the new term improves the model more than would be expected by chance. \n",
    "    It decreases when a predictor improves the model by less than expected by chance."
   ]
  },
  {
   "cell_type": "markdown",
   "metadata": {},
   "source": [
    "###### 11. Differentiate between Ridge and Lasso Regression."
   ]
  },
  {
   "cell_type": "markdown",
   "metadata": {},
   "source": [
    "    The difference between ridge and lasso regression is that it tends to make coefficients to absolute zero as compared \n",
    "    to Ridge which never sets the value of coefficient to absolute zero.\n",
    "    \n",
    "    RIDGE REGRESSION - ridge regression performs ‘L2 regularization‘, i.e. it adds a factor of sum of squares of \n",
    "                       coefficients in the optimization objective. Thus, ridge regression optimizes the following:\n",
    "                                           Objective = RSS + α * (sum of square of coefficients)\n",
    "                                           \n",
    "    LASSO REGRESSION - LASSO stands for Least Absolute Shrinkage and Selection Operator. Lasso regression performs\n",
    "                       L1 regularization, i.e. it adds a factor of sum of absolute value of coefficients in the \n",
    "                       optimization objective. Thus, lasso regression optimizes the following:\n",
    "                                           Objective = RSS + α * (sum of absolute value of coefficients)"
   ]
  },
  {
   "cell_type": "markdown",
   "metadata": {},
   "source": [
    "###### 12. What is VIF? What is the suitable value of a VIF for a feature to be included in a regression modelling?"
   ]
  },
  {
   "cell_type": "markdown",
   "metadata": {},
   "source": [
    "    A variance inflation factor(VIF) detects multicollinearity in regression analysis. The VIF estimates how much the \n",
    "    variance of a regression coefficient is inflated due to multicollinearity in the model.\n",
    "    Variance inflation factors range from 1 upwards. The numerical value for VIF tells about (in decimal form) what \n",
    "    percentage the variance (i.e. the standard error squared) is inflated for each coefficient. \n",
    "    \n",
    "    A rule of thumb for interpreting the variance inflation factor:\n",
    "        1 = not correlated.\n",
    "        Between 1 and 5 = moderately correlated.\n",
    "        Greater than 5 = highly correlated."
   ]
  },
  {
   "cell_type": "markdown",
   "metadata": {},
   "source": [
    "###### 13. Why do we need to scale the data before feeding it to the train the model?"
   ]
  },
  {
   "cell_type": "markdown",
   "metadata": {},
   "source": [
    "    Scaled data means that the data is contained within a fixed range[0:1] as in scalining puts the values in the same range \n",
    "    or same scale so that no variable is dominated by the other which makes easier for the machine to interpret and \n",
    "    calculate.    "
   ]
  },
  {
   "cell_type": "markdown",
   "metadata": {},
   "source": [
    "###### 14. What are the different metrics which are used to check the goodness of fit in linear regression?"
   ]
  },
  {
   "cell_type": "markdown",
   "metadata": {},
   "source": [
    "    A goodness-of-fit in general, refers to measuring how well do the observed data correspond to the fitted (assumed) \n",
    "    model. Three statistics are used in Ordinary Least Squares (OLS) regression to evaluate model fit: R-squared, the \n",
    "    overall F-test and the Root Mean Square Error (RMSE). All three are based on two sums of squares: Sum of Squares Total \n",
    "    (SST) and Sum of Squares Error (SSE)."
   ]
  },
  {
   "cell_type": "markdown",
   "metadata": {},
   "source": [
    "###### 15. From the following confusion matrix calculate sensitivity, specificity, precision, recall and accuracy.\n",
    "    \n",
    "        Actual/Predicted    True    False\n",
    "        True                1000    50\n",
    "        False               250     120"
   ]
  },
  {
   "cell_type": "markdown",
   "metadata": {},
   "source": [
    "    Sensitivity(Recall)\t =  0.952\n",
    "        Specificity\t\t =  0.827\n",
    "        Precision\t\t =  0.4545\n",
    "        Accuracy \t\t =  0.88"
   ]
  }
 ],
 "metadata": {
  "kernelspec": {
   "display_name": "Python 3",
   "language": "python",
   "name": "python3"
  },
  "language_info": {
   "codemirror_mode": {
    "name": "ipython",
    "version": 3
   },
   "file_extension": ".py",
   "mimetype": "text/x-python",
   "name": "python",
   "nbconvert_exporter": "python",
   "pygments_lexer": "ipython3",
   "version": "3.8.5"
  }
 },
 "nbformat": 4,
 "nbformat_minor": 4
}
