{
 "cells": [
  {
   "cell_type": "markdown",
   "metadata": {},
   "source": [
    "# SQL WORKSHEET - 6"
   ]
  },
  {
   "cell_type": "markdown",
   "metadata": {},
   "source": [
    "### Q1 and Q2 have one or more correct answer. Choose all the correct option to answer your question."
   ]
  },
  {
   "cell_type": "markdown",
   "metadata": {},
   "source": [
    "###### 1. Which of the following are TCL commands?\n",
    "###### A. Commit\n",
    "###### B. Select\n",
    "###### C. Rollback\n",
    "###### D. Savepoint"
   ]
  },
  {
   "cell_type": "markdown",
   "metadata": {},
   "source": [
    "    ANS. A. Commit\n",
    "         C. Rollback\n",
    "         D. Savepoint"
   ]
  },
  {
   "cell_type": "markdown",
   "metadata": {},
   "source": [
    "###### 2. Which of the following are DDL commands?\n",
    "###### A. Create\n",
    "###### B. Select\n",
    "###### C. Drop\n",
    "###### D. Alter"
   ]
  },
  {
   "cell_type": "markdown",
   "metadata": {},
   "source": [
    "    ANS. A. Create\n",
    "         C. Drop\n",
    "         D. Alter"
   ]
  },
  {
   "cell_type": "markdown",
   "metadata": {},
   "source": [
    "### Q3 to Q10 have only one correct answer. Choose the correct option to answer your question."
   ]
  },
  {
   "cell_type": "markdown",
   "metadata": {},
   "source": [
    "###### 3. Which of the following is a legal expression in SQL? \n",
    "###### A. SELECT NULL FROM SALES;\n",
    "###### B. SELECT NAME FROM SALES;\n",
    "###### C. SELECT * FROM SALES WHEN PRICE = NULL;\n",
    "###### D. SELECT # FROM SALES;"
   ]
  },
  {
   "cell_type": "markdown",
   "metadata": {},
   "source": [
    "    ANS. B. SELECT NAME FROM SALES;"
   ]
  },
  {
   "cell_type": "markdown",
   "metadata": {},
   "source": [
    "###### 4. DCL provides commands to perform actions like.\n",
    "###### A. Change the structure of Tables\n",
    "###### B. Insert, Update or Delete Records and Values\n",
    "###### C. Authorizing Access and other control over Database\n",
    "###### D. None of the above"
   ]
  },
  {
   "cell_type": "markdown",
   "metadata": {},
   "source": [
    "    ANS. C. Authorizing Access and other control over Database"
   ]
  },
  {
   "cell_type": "markdown",
   "metadata": {},
   "source": [
    "###### 5. Which of the following should be enclosed in double quotes?\n",
    "###### A. Dates\n",
    "###### B. Column Alias\n",
    "###### C. String\n",
    "###### D. All of the mentioned"
   ]
  },
  {
   "cell_type": "markdown",
   "metadata": {},
   "source": [
    "    ANS. B. Column Alias"
   ]
  },
  {
   "cell_type": "markdown",
   "metadata": {},
   "source": [
    "###### 6. Which of the following command makes the updates performed by the transaction permanent in the database?\n",
    "###### A. ROLLBACK\n",
    "###### B. COMMIT\n",
    "###### C. TRUNCATE\n",
    "###### D. DELETE"
   ]
  },
  {
   "cell_type": "markdown",
   "metadata": {},
   "source": [
    "    ANS. B. COMMIT"
   ]
  },
  {
   "cell_type": "markdown",
   "metadata": {},
   "source": [
    "###### 7. A subquery in an SQL Select statement is enclosed in:\n",
    "###### A. Parenthesis - (...).\n",
    "###### B. brackets - [...].\n",
    "###### C. CAPITAL LETTERS.\n",
    "###### D. braces - {...}."
   ]
  },
  {
   "cell_type": "markdown",
   "metadata": {},
   "source": [
    "    ANS. A. Parenthesis - (...)."
   ]
  },
  {
   "cell_type": "markdown",
   "metadata": {},
   "source": [
    "###### 8. The result of a SQL SELECT statement is a :-\n",
    "###### A. FILE\n",
    "###### B. REPORT\n",
    "###### C. TABLE\n",
    "###### D. FORM "
   ]
  },
  {
   "cell_type": "markdown",
   "metadata": {},
   "source": [
    "    ANS. C. TABLE"
   ]
  },
  {
   "cell_type": "markdown",
   "metadata": {},
   "source": [
    "###### 9. Which of the following do you need to consider when you make a table in a SQL?\n",
    "###### A. Data types\n",
    "###### B. Primary keys\n",
    "###### C. Default values\n",
    "###### D. All of the mentioned"
   ]
  },
  {
   "cell_type": "markdown",
   "metadata": {},
   "source": [
    "    ANS. D. All of the mentioned"
   ]
  },
  {
   "cell_type": "markdown",
   "metadata": {},
   "source": [
    "###### 10. If you don’t specify ASC and DESC after a SQL ORDER BY clause, the following is used by___?\n",
    "###### A. ASC\n",
    "###### B. DESC\n",
    "###### C. There is no default value\n",
    "###### D. None of the mentioned"
   ]
  },
  {
   "cell_type": "markdown",
   "metadata": {},
   "source": [
    "    ANS. A. ASC"
   ]
  },
  {
   "cell_type": "markdown",
   "metadata": {},
   "source": [
    "### Q11 to Q15 are subjective answer type questions, Answer them briefly."
   ]
  },
  {
   "cell_type": "markdown",
   "metadata": {},
   "source": [
    "###### 11. What is denormalization?"
   ]
  },
  {
   "cell_type": "markdown",
   "metadata": {},
   "source": [
    "    Denormalization is a database optimization technique in which redundant data is added to one or more tables to get rid \n",
    "    of the complex join operations. This is done to speed up database access speed. Denormalization is done after \n",
    "    normalization for improving the performance of the database."
   ]
  },
  {
   "cell_type": "markdown",
   "metadata": {},
   "source": [
    "###### 12. What is a database cursor?"
   ]
  },
  {
   "cell_type": "markdown",
   "metadata": {},
   "source": [
    "    A database cursor is an identifier associated with a group of rows. It is, in a sense, a pointer to the current row in \n",
    "    a buffer. Thus, It is an object that enables traversal over the rows of a result set. It allows you to process \n",
    "    individual row returned by a query."
   ]
  },
  {
   "cell_type": "markdown",
   "metadata": {},
   "source": [
    "###### 13. What are the different types of the queries?"
   ]
  },
  {
   "cell_type": "markdown",
   "metadata": {},
   "source": [
    "    Types of queries:\n",
    "        1. Data Definition Language (DDL)- It helps to define the database structure or schema. Five types of\n",
    "                                           DDL commands are: CREATE, DROP, ALTER, TRUNCATE.\n",
    "        \n",
    "        2. Data Manipulation Language (DML)- It allows to modify the database instance by inserting, modifying, and deleting \n",
    "                                             its data. It is responsible for performing all types of data modification in \n",
    "                                             a database. There are three basic/important commands: INSERT, UPDATE, DELETE.\n",
    "                                             \n",
    "        3. Data Control Language(DCL)- It includes commands like GRANT and REVOKE, which are useful to give \"rights\n",
    "                                       & permissions.\" Other permission controls parameters of the database system.\n",
    "                                       \n",
    "        4. Transaction Control Language(TCL)- It deal with the transaction within the database. It includes Commit, \n",
    "                                              Rollback, SAVEPOINT commands.\n",
    "                                              \n",
    "        5. Data Query Language (DQL)- It is used to fetch the data from the database. It uses only one command: SELECT."
   ]
  },
  {
   "cell_type": "markdown",
   "metadata": {},
   "source": [
    "###### 14. Define constraint?"
   ]
  },
  {
   "cell_type": "markdown",
   "metadata": {},
   "source": [
    "    A constraint is a rule that is used for optimization purposes.\n",
    "    Constraints are used to limit the type of data that can go into a table. This ensures the accuracy and reliability of \n",
    "    the data in the table. If there is any violation between the constraint and the data action, the action is aborted.\n",
    "    \n",
    "    The following types of constraints are available:\n",
    "      -  NOT NULL constraints\n",
    "      -  Unique (or unique key) constraints\n",
    "      -  Primary key constraints\n",
    "      -  Foreign key (or referential integrity) constraints\n",
    "      -  (Table) Check constraints\n",
    "      -  Informational constraints"
   ]
  },
  {
   "cell_type": "markdown",
   "metadata": {},
   "source": [
    "###### 15. What is auto increment?"
   ]
  },
  {
   "cell_type": "markdown",
   "metadata": {},
   "source": [
    "    Auto Increment is a function that operates on numeric data types. It automatically generates sequential numeric values\n",
    "    or a unique digit every time that a record is inserted into a table for a field defined as auto increment. By default, \n",
    "    the starting value for AUTO_INCREMENT is 1, and it will increment by 1 for each new record."
   ]
  }
 ],
 "metadata": {
  "kernelspec": {
   "display_name": "Python 3",
   "language": "python",
   "name": "python3"
  },
  "language_info": {
   "codemirror_mode": {
    "name": "ipython",
    "version": 3
   },
   "file_extension": ".py",
   "mimetype": "text/x-python",
   "name": "python",
   "nbconvert_exporter": "python",
   "pygments_lexer": "ipython3",
   "version": "3.8.5"
  }
 },
 "nbformat": 4,
 "nbformat_minor": 4
}
