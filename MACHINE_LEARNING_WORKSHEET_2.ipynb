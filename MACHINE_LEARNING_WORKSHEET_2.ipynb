{
 "cells": [
  {
   "cell_type": "markdown",
   "metadata": {},
   "source": [
    "# MACHINE LEARNING – WORKSHEET\n",
    "#### (CLUSTERING)"
   ]
  },
  {
   "cell_type": "markdown",
   "metadata": {},
   "source": [
    "### Q1 to Q12 have only one correct answer. Choose the correct option to answer your question."
   ]
  },
  {
   "cell_type": "markdown",
   "metadata": {},
   "source": [
    "###### 1. Movie Recommendation systems are an example of:\n",
    "###### 1. Classification\n",
    "###### 2. Clustering\n",
    "###### 3. Reinforcement Learning\n",
    "###### 4. Regression\n",
    " ###### Options:\n",
    "###### a. 2 Only\n",
    "###### b. 1 and 2\n",
    "###### c. 1 and 3\n",
    "###### d. 2 and 3\n",
    "###### e. 1, 2 and 3\n",
    "###### f. 1, 2, 3 and 4"
   ]
  },
  {
   "cell_type": "markdown",
   "metadata": {},
   "source": [
    "ANS. d. 2 and 3"
   ]
  },
  {
   "cell_type": "markdown",
   "metadata": {},
   "source": [
    "###### 2. Sentiment Analysis is an example of:\n",
    "###### 1. Regression\n",
    "###### 2. Classification\n",
    "###### 3. Clustering\n",
    "###### 4. Reinforcement Learning\n",
    " ###### Options:\n",
    "###### a. 1 Only\n",
    "###### b. 1 and 2\n",
    "###### c. 1 and 3\n",
    "###### d. 1, 2 and 3\n",
    "###### e. 1, 2 and 4\n",
    "###### f. 1, 2, 3 and 4"
   ]
  },
  {
   "cell_type": "markdown",
   "metadata": {},
   "source": [
    "ANS. e. 1, 2 and 4"
   ]
  },
  {
   "cell_type": "markdown",
   "metadata": {},
   "source": [
    "###### 3. Can decision trees be used for performing clustering?\n",
    "###### a. True\n",
    "###### b. False"
   ]
  },
  {
   "cell_type": "markdown",
   "metadata": {},
   "source": [
    "ANS. a. True"
   ]
  },
  {
   "cell_type": "markdown",
   "metadata": {},
   "source": [
    "###### 4. Which of the following is the most appropriate strategy for data cleaning before performing clustering analysis, given less than desirable number of data points:\n",
    "###### a. Capping and flooring of variables\n",
    "###### b. Removal of outliers\n",
    "###### Options:\n",
    "###### a. 1 only\n",
    "###### b. 2 only\n",
    "###### c. 1 and 2\n",
    "###### d. None of the above"
   ]
  },
  {
   "cell_type": "markdown",
   "metadata": {},
   "source": [
    "ANS. a. 1 only"
   ]
  },
  {
   "cell_type": "markdown",
   "metadata": {},
   "source": [
    "###### 5. What is the minimum no. of variables/ features required to perform clustering?\n",
    "###### a. 0\n",
    "###### b. 1\n",
    "###### c. 2\n",
    "###### d. 3"
   ]
  },
  {
   "cell_type": "markdown",
   "metadata": {},
   "source": [
    "ANS. b. 1"
   ]
  },
  {
   "cell_type": "markdown",
   "metadata": {},
   "source": [
    "###### 6. For two runs of K-Mean clustering is it expected to get same clustering results?\n",
    "###### a. Yes\n",
    "###### b. No"
   ]
  },
  {
   "cell_type": "markdown",
   "metadata": {},
   "source": [
    "ANS. b. No"
   ]
  },
  {
   "cell_type": "markdown",
   "metadata": {},
   "source": [
    "###### 7. Is it possible that Assignment of observations to clusters does not change between successive iterations in K-Means\n",
    "###### a. Yes\n",
    "###### b. No\n",
    "###### c. Can't say\n",
    "###### d. None of these"
   ]
  },
  {
   "cell_type": "markdown",
   "metadata": {},
   "source": [
    "ANS. a. Yes"
   ]
  },
  {
   "cell_type": "markdown",
   "metadata": {},
   "source": [
    "###### 8. Which of the following can act as possible termination conditions in K-Means?\n",
    "###### 1. For a fixed number of iterations.\n",
    "###### 2. Assignment of observations to clusters does not change between iterations. Except for cases with a bad local minimum.\n",
    "###### 3. Centroids do not change between successive iterations.\n",
    "###### 4. Terminate when RSS falls below a threshold.\n",
    "###### Options:\n",
    "###### a. 1, 3 and 4\n",
    "###### b. 1, 2 and 3\n",
    "###### c. 1, 2 and 4\n",
    "###### d. All of the above"
   ]
  },
  {
   "cell_type": "markdown",
   "metadata": {},
   "source": [
    "ANS. d. All of the above"
   ]
  },
  {
   "cell_type": "markdown",
   "metadata": {},
   "source": [
    "###### 9. Which of the following can act as possible termination conditions in K-Means?\n",
    "###### 1. K- Means clustering algorithm\n",
    "###### 2. Agglomerative clustering algorithm\n",
    "###### 3. Expectation-Maximization clustering algorithm\n",
    "###### 4. Diverse clustering algorithm\n",
    "######  Options:\n",
    "###### a. 1 only\n",
    "###### b. 2 and 3\n",
    "###### c. 2 and 4\n",
    "###### d. 1 and 3\n",
    "###### e. 1,2 and 4\n",
    "###### f. All of the above"
   ]
  },
  {
   "cell_type": "markdown",
   "metadata": {},
   "source": [
    "ANS. a. 1 only"
   ]
  },
  {
   "cell_type": "markdown",
   "metadata": {},
   "source": [
    "###### 10. Which of the following algorithms is most sensitive to outliers?\n",
    "###### a. K-means clustering algorithm\n",
    "###### b. K-medians clustering algorithm\n",
    "###### c. K-modes clustering algorithm\n",
    "###### d. K-medoids clustering algorithm"
   ]
  },
  {
   "cell_type": "markdown",
   "metadata": {},
   "source": [
    "ANS. a. K-means clustering algorithm"
   ]
  },
  {
   "cell_type": "markdown",
   "metadata": {},
   "source": [
    "###### 11. How can Clustering (Unsupervised Learning) be used to improve the accuracy of Linear Regression model (Supervised Learning):\n",
    "###### 1. Creating different models for different cluster groups.\n",
    "###### 2. Creating an input feature for cluster ids as an ordinal variable.\n",
    "###### 3. Creating an input feature for cluster centroids as a continuous variable.\n",
    "###### 4. Creating an input feature for cluster size as a continuous variable.\n",
    "###### Options:\n",
    "###### a. 1 only\n",
    "###### b. 1 and 2\n",
    "###### c. 1 and 4\n",
    "###### d. 3 only\n",
    "###### e. 2 and 4\n",
    "###### f. All of the above"
   ]
  },
  {
   "cell_type": "markdown",
   "metadata": {},
   "source": [
    "ANS. f. All of the above"
   ]
  },
  {
   "cell_type": "markdown",
   "metadata": {},
   "source": [
    "###### 12. What could be the possible reason(s) for producing two different dendrograms using agglomerative clustering algorithms for the same dataset?\n",
    "###### a. Proximity function used\n",
    "###### b. of data points used\n",
    "###### c. of variables used\n",
    "###### d. B and c only\n",
    "###### e. All of the above"
   ]
  },
  {
   "cell_type": "markdown",
   "metadata": {},
   "source": [
    "ANS. e. All of the above"
   ]
  },
  {
   "cell_type": "markdown",
   "metadata": {},
   "source": [
    "### Q13 to Q15 are subjective answers type questions, Answers them in their own words briefly."
   ]
  },
  {
   "cell_type": "markdown",
   "metadata": {},
   "source": [
    "###### 13. Is K sensitive to outliers?"
   ]
  },
  {
   "cell_type": "markdown",
   "metadata": {},
   "source": [
    "ANS. Yes, K-Means clustering algorithm is most sensitive to outliers as it uses the mean of cluster data points to find the cluster center, thus, mean is easily influenced by the extreme values. Mean is greatly influenced by the outlier and thus cannot represent the correct cluster center, while medoid is robust to the outlier and correctly represents the cluster center. "
   ]
  },
  {
   "cell_type": "markdown",
   "metadata": {},
   "source": [
    "###### 14. Why is K means better?"
   ]
  },
  {
   "cell_type": "markdown",
   "metadata": {},
   "source": [
    "ANS. K means is better because other clustering algorithms with better features tend to be more expensive. Thus, k - means becomesa great solution for clustering and reducing the space into disjoint smaller sub-spaces where other clustering algorithms can be applied. K-means is the simplest to implement and to run. It works really well with large datasets. It is one of the most robust methods, especially for image segmentation and image annotation projects. For straightforward clustering, it is also a part of a larger data-processing pipeline, K-means is a reasonable default choice Hence, it is the most popular clustering algorithm. "
   ]
  },
  {
   "cell_type": "markdown",
   "metadata": {},
   "source": [
    "###### 15. Is K means a deterministic algorithm?"
   ]
  },
  {
   "cell_type": "markdown",
   "metadata": {},
   "source": [
    "ANS. No, K- means is based on a non-deterministic algorithm. This means that running the algorithm several times on the same data, could give different results. The non-deterministic nature of K-Means is due to its random selection of data points as initial centroids. Method: We propose an improved, density based version of K-Means, which involves a novel and systematic method for selecting initial centroids. Thus, k-means is a partitioning-based clustering algorithm.This method for clustering is an iterative process in which an initial partition of given k clusters is then improved by applying a search algorithm to the data."
   ]
  }
 ],
 "metadata": {
  "kernelspec": {
   "display_name": "Python 3",
   "language": "python",
   "name": "python3"
  },
  "language_info": {
   "codemirror_mode": {
    "name": "ipython",
    "version": 3
   },
   "file_extension": ".py",
   "mimetype": "text/x-python",
   "name": "python",
   "nbconvert_exporter": "python",
   "pygments_lexer": "ipython3",
   "version": "3.8.5"
  }
 },
 "nbformat": 4,
 "nbformat_minor": 4
}
