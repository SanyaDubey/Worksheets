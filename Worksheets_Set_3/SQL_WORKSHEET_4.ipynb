{
 "cells": [
  {
   "cell_type": "markdown",
   "metadata": {},
   "source": [
    "# SQL WORKSHEET - 4"
   ]
  },
  {
   "cell_type": "markdown",
   "metadata": {},
   "source": [
    "### Refer the following ERD and answer all the questions in this worksheet. You have to write the queries using MySQL for the required Operation."
   ]
  },
  {
   "cell_type": "markdown",
   "metadata": {},
   "source": [
    "####  Customers: stores customer’s data.\n",
    "####  Products: stores a list of scale model cars.\n",
    "####  Product Lines: stores a list of product line categories.\n",
    "####  Orders: stores sales orders placed by customers.\n",
    "####  Order Details: stores sales order line items for each sales order.\n",
    "####  Payments: stores payments made by customers based on their accounts.\n",
    "####  Employees: stores all employee information as well as the organization structure such as who reports towhom.\n",
    "####  Offices: stores sales office data."
   ]
  },
  {
   "cell_type": "markdown",
   "metadata": {},
   "source": [
    "### QUESTIONS:"
   ]
  },
  {
   "cell_type": "markdown",
   "metadata": {},
   "source": [
    "###### 1. Write a SQL query to show average number of orders shipped in a day (use Orders table)."
   ]
  },
  {
   "cell_type": "markdown",
   "metadata": {},
   "source": [
    "    SELECT 'shippedDate', AVG('orderNumber') AS [Avg_orders_shipped] \n",
    "    FROM Orders\n",
    "    GROUP BY 'shippedDate';"
   ]
  },
  {
   "cell_type": "markdown",
   "metadata": {},
   "source": [
    "###### 2. Write a SQL query to show average number of orders placed in a day."
   ]
  },
  {
   "cell_type": "markdown",
   "metadata": {},
   "source": [
    "    SELECT 'orderDate', AVG('orderNumber') AS [Avg_orders_placed] \n",
    "    FROM Orders\n",
    "    GROUP BY 'orderDate';"
   ]
  },
  {
   "cell_type": "markdown",
   "metadata": {},
   "source": [
    "###### 3. Write a SQL query to show the product name with minimum MSRP (use Productstable)."
   ]
  },
  {
   "cell_type": "markdown",
   "metadata": {},
   "source": [
    "    SELECT 'productName', MIN('MSRP') AS [Min_MSRP_of_product]\n",
    "    FROM products\n",
    "    GROUP BY 'productName';"
   ]
  },
  {
   "cell_type": "markdown",
   "metadata": {},
   "source": [
    "###### 4. Write a SQL query to show the product name with maximum value ofstockQuantity."
   ]
  },
  {
   "cell_type": "markdown",
   "metadata": {},
   "source": [
    "    SELECT 'productName', MAX('quantityInStock') AS [Max_quantity_of_product]\n",
    "    FROM products\n",
    "    GROUP BY 'productName';"
   ]
  },
  {
   "cell_type": "markdown",
   "metadata": {},
   "source": [
    "###### 5. Write a query to show the most ordered product Name (the product with maximum number of orders)."
   ]
  },
  {
   "cell_type": "markdown",
   "metadata": {},
   "source": [
    "    SELECT 'productName' FROM products\n",
    "    INNER JOIN Orderdetails\n",
    "    ON Products.'productCode' = Orderdetails.'productCode'\n",
    "    GROUP BY Products.'productCode'\n",
    "    ORDER BY SUM('quantityOrdered') DESC\n",
    "    LIMIT 1;"
   ]
  },
  {
   "cell_type": "markdown",
   "metadata": {},
   "source": [
    "###### 6. Write a SQL query to show the highest paying customer Name."
   ]
  },
  {
   "cell_type": "markdown",
   "metadata": {},
   "source": [
    "    SELECT 'customerName' FROM customers\n",
    "    INNER JOIN payments\n",
    "    ON customers.'customerNumber' = payments.'customerNumber'\n",
    "    GROUP BY customers.'customerNumber'\n",
    "    ORDER BY MAX('amount') DESC\n",
    "    LIMIT 1;"
   ]
  },
  {
   "cell_type": "markdown",
   "metadata": {},
   "source": [
    "###### 7. Write a SQL query to show cutomerNumber, customerName of all the customers who are from Melbourne city.\n"
   ]
  },
  {
   "cell_type": "markdown",
   "metadata": {},
   "source": [
    "    SELECT 'cutomerNumber', 'customerName' FROM customers\n",
    "    WHERE 'city' LIKE 'Melbourne';"
   ]
  },
  {
   "cell_type": "markdown",
   "metadata": {},
   "source": [
    "###### 8. Write a SQL query to show name of all the customers whose name start with “N”."
   ]
  },
  {
   "cell_type": "markdown",
   "metadata": {},
   "source": [
    "    SELECT 'customerName' FROM customers\n",
    "    WHERE 'customerName' LIKE 'N%'\n",
    "    ORDER BY 'customerName';"
   ]
  },
  {
   "cell_type": "markdown",
   "metadata": {},
   "source": [
    "###### 9. Write a SQL query to show name of all the customers whose phone start with ‘7’ and are from city ‘LasVegas’."
   ]
  },
  {
   "cell_type": "markdown",
   "metadata": {},
   "source": [
    "    SELECT 'customerName' FROM customers\n",
    "    WHERE 'PHONE' LIKE '7%' AND 'city' LIKE 'LasVegas'\n",
    "    ORDER BY 'customerName';"
   ]
  },
  {
   "cell_type": "markdown",
   "metadata": {},
   "source": [
    "###### 10. Write a SQL query to show name of all the customers whose creditLimit < 1000 and city is either “Las Vegas” or ”Nantes” or “Stavern”."
   ]
  },
  {
   "cell_type": "markdown",
   "metadata": {},
   "source": [
    "    SELECT 'customerName' FROM customers\n",
    "    WHERE 'creditLimit' < 1000 \n",
    "    AND 'city' LIKE 'LasVegas' OR 'city' LIKE 'Nantes' OR 'city' LIKE 'Stavern'\n",
    "    ORDER BY 'customerName';"
   ]
  },
  {
   "cell_type": "markdown",
   "metadata": {},
   "source": [
    "###### 11. Write a SQL query to show all the orderNumber in which quantity ordered <10."
   ]
  },
  {
   "cell_type": "markdown",
   "metadata": {},
   "source": [
    "    SELECT 'orderNumber' FROM orderdetails\n",
    "    WHERE 'quantityOrdered' < 10\n",
    "    ORDER BY 'orderNumber'"
   ]
  },
  {
   "cell_type": "markdown",
   "metadata": {},
   "source": [
    "###### 12. Write a SQL query to show all the orderNumber whose customer Name start with letter ‘N’."
   ]
  },
  {
   "cell_type": "markdown",
   "metadata": {},
   "source": [
    "    SELECT 'orderNumber' FROM orders\n",
    "    INNER JOIN customers\n",
    "    ON orders.'customerNumber' = customers.'customerNumber'\n",
    "    GROUP BY orders.'orderNumber'\n",
    "    WHERE 'customerName' LIKE 'N%';"
   ]
  },
  {
   "cell_type": "markdown",
   "metadata": {},
   "source": [
    "###### 13. Write a SQL query to show all the customerName whose orders are “Disputed” in status."
   ]
  },
  {
   "cell_type": "markdown",
   "metadata": {},
   "source": [
    "    SELECT 'customerName' FROM customers\n",
    "    INNER JOIN orders\n",
    "    ON customers.'customerNumber' = orders.'customerNumber'\n",
    "    GROUP BY customers.'customerNumber'\n",
    "    WHERE 'status' LIKE 'Disputed'\n",
    "    ORDER BY 'customerNumber';"
   ]
  },
  {
   "cell_type": "markdown",
   "metadata": {},
   "source": [
    "###### 14. Write a SQL query to show the customerName who made payment through cheque with checkNumber startingwith H and made payment on “2004-10-19”."
   ]
  },
  {
   "cell_type": "markdown",
   "metadata": {},
   "source": [
    "    SELECT 'customerName' FROM customers\n",
    "    INNER JOIN paymentS\n",
    "    ON customers.'customerNumber' = paymentS.'customerNumber'\n",
    "    GROUP BY customers.'customerNumber'\n",
    "    WHERE ' checkNumber' LIKE 'H%' AND 'paymentDate' LIKE '2004-10-19'\n",
    "    ORDER BY 'customerNumber';    "
   ]
  },
  {
   "cell_type": "markdown",
   "metadata": {},
   "source": [
    "###### 15. Write a SQL query to show all the checkNumber whose amount > 1000."
   ]
  },
  {
   "cell_type": "markdown",
   "metadata": {},
   "source": [
    "    SELECT 'checkNumber' FROM paymets\n",
    "    WHERE 'checkNumber' > 1000;"
   ]
  }
 ],
 "metadata": {
  "kernelspec": {
   "display_name": "Python 3",
   "language": "python",
   "name": "python3"
  },
  "language_info": {
   "codemirror_mode": {
    "name": "ipython",
    "version": 3
   },
   "file_extension": ".py",
   "mimetype": "text/x-python",
   "name": "python",
   "nbconvert_exporter": "python",
   "pygments_lexer": "ipython3",
   "version": "3.8.5"
  }
 },
 "nbformat": 4,
 "nbformat_minor": 4
}
