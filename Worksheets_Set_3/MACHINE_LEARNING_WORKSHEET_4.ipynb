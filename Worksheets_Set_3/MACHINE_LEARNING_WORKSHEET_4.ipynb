{
 "cells": [
  {
   "cell_type": "markdown",
   "metadata": {},
   "source": [
    "# MACHINE LEARNING WORKSHEET - 4"
   ]
  },
  {
   "cell_type": "markdown",
   "metadata": {},
   "source": [
    "###  In Q1 to Q7, only one option is correct, Choose the correct option:"
   ]
  },
  {
   "cell_type": "markdown",
   "metadata": {},
   "source": [
    "###### 1. The value of correlation coefficient will always be:\n",
    "###### A) between 0 and 1 \n",
    "###### B) greater than -1\n",
    "###### C) between -1 and 1 \n",
    "###### D) between 0 and -1"
   ]
  },
  {
   "cell_type": "markdown",
   "metadata": {},
   "source": [
    "ANS. C) between -1 and 1"
   ]
  },
  {
   "cell_type": "markdown",
   "metadata": {},
   "source": [
    "###### 2. Which of the following cannot be used for dimensionality reduction?\n",
    "###### A) Lasso Regularisation\n",
    "###### B) PCA\n",
    "###### C) Recursive feature elimination \n",
    "###### D) Ridge Regularisation"
   ]
  },
  {
   "cell_type": "markdown",
   "metadata": {},
   "source": [
    "ANS. D) Ridge Regularisation"
   ]
  },
  {
   "cell_type": "markdown",
   "metadata": {},
   "source": [
    "###### 3. Which of the following is not a kernel in Support Vector Machines?\n",
    "###### A) linear \n",
    "###### B) Radial Basis Function\n",
    "###### C) hyperplane \n",
    "###### D) polynomial"
   ]
  },
  {
   "cell_type": "markdown",
   "metadata": {},
   "source": [
    "ANS. C) hyperplane"
   ]
  },
  {
   "cell_type": "markdown",
   "metadata": {},
   "source": [
    "###### 4. Amongst the following, which one is least suitable for a dataset having non-linear decision boundaries?\n",
    "###### A) Logistic Regression \n",
    "###### B) Naïve Bayes Classifier\n",
    "###### C) Decision Tree Classifier \n",
    "###### D) Support Vector Classifier"
   ]
  },
  {
   "cell_type": "markdown",
   "metadata": {},
   "source": [
    "ANS. D) Support Vector Classifier"
   ]
  },
  {
   "cell_type": "markdown",
   "metadata": {},
   "source": [
    "###### 5. In a Linear Regression problem, ‘X’ is independent variable and ‘Y’ is dependent variable, where ‘X’ represents weight in pounds. If you convert the unit of ‘X’ to kilograms, then new coefficient of ‘X’ will be?\n",
    "###### (1 kilogram = 2.205 pounds)\n",
    "###### A) 2.205 × old coefficient of ‘X’ \n",
    "###### B) same as old coefficient of ‘X’\n",
    "###### C) old coefficient of ‘X’ ÷ 2.205 \n",
    "###### D) Cannot be determined"
   ]
  },
  {
   "cell_type": "markdown",
   "metadata": {},
   "source": [
    "ANS. C) old coefficient of ‘X’ ÷ 2.205"
   ]
  },
  {
   "cell_type": "markdown",
   "metadata": {},
   "source": [
    "###### 6. As we increase the number of estimators in ADABOOST Classifier, what happens to the accuracy of the model?\n",
    "###### A) remains same \n",
    "###### B) increases\n",
    "###### C) decreases \n",
    "###### D) none of the above"
   ]
  },
  {
   "cell_type": "markdown",
   "metadata": {},
   "source": [
    "ANS. C) decreases"
   ]
  },
  {
   "cell_type": "markdown",
   "metadata": {},
   "source": [
    "###### 7. Which of the following is not an advantage of using random forest instead of decision trees?\n",
    "###### A) Random Forests reduce overfitting\n",
    "###### B) Random Forests explains more variance in data then decision trees\n",
    "###### C) Random Forests are easy to interpret\n",
    "###### D) Random Forests provide a reliable feature importance estimate"
   ]
  },
  {
   "cell_type": "markdown",
   "metadata": {},
   "source": [
    "ANS. C) Random Forests are easy to interpret"
   ]
  },
  {
   "cell_type": "markdown",
   "metadata": {},
   "source": [
    "### In Q8 to Q10, more than one options are correct, Choose all the correct options:"
   ]
  },
  {
   "cell_type": "markdown",
   "metadata": {},
   "source": [
    "###### 8. Which of the following are correct about Principal Components?\n",
    "###### A) Principal Components are calculated using supervised learning techniques\n",
    "###### B) Principal Components are calculated using unsupervised learning techniques\n",
    "###### C) Principal Components are linear combinations of Linear Variables.\n",
    "###### D) All of the above"
   ]
  },
  {
   "cell_type": "markdown",
   "metadata": {},
   "source": [
    "ANS. B) Principal Components are calculated using unsupervised learning techniques, C) Principal Components are linear combinations of Linear Variables."
   ]
  },
  {
   "cell_type": "markdown",
   "metadata": {},
   "source": [
    "###### 9. Which of the following are applications of clustering?\n",
    "###### A) Identifying developed, developing and under-developed countries on the basis of factors like GDP, poverty index, employment rate, population and living index\n",
    "###### B) Identifying loan defaulters in a bank on the basis of previous years’ data of loan accounts.\n",
    "###### C) Identifying spam or ham emails\n",
    "###### D) Identifying different segments of disease based on BMI, blood pressure, cholesterol, blood sugar levels."
   ]
  },
  {
   "cell_type": "markdown",
   "metadata": {},
   "source": [
    "ANS. B) Identifying loan defaulters in a bank on the basis of previous years’ data of loan accounts, C) Identifying spam or ham emails"
   ]
  },
  {
   "cell_type": "markdown",
   "metadata": {},
   "source": [
    "###### 10. Which of the following is(are) hyper parameters of a decision tree?\n",
    "###### A) max_depth \n",
    "###### B) max_features\n",
    "###### C) n_estimators \n",
    "###### D) min_samples_leaf"
   ]
  },
  {
   "cell_type": "markdown",
   "metadata": {},
   "source": [
    "ANS. A) max_depth, B) max_features, D) min_samples_leaf"
   ]
  },
  {
   "cell_type": "markdown",
   "metadata": {},
   "source": [
    "### Q10 to Q15 are subjective answer type questions, Answer them briefly."
   ]
  },
  {
   "cell_type": "markdown",
   "metadata": {},
   "source": [
    "###### 11. What are outliers? Explain the Inter Quartile Range (IQR) method for outlier detection."
   ]
  },
  {
   "cell_type": "markdown",
   "metadata": {},
   "source": [
    "    Any value which falls outside the normal or nominal data range is called outliers. Thus, it is an abnormal data. In\n",
    "    other words, it is a value or point that differs substantially from the rest of the data.\n",
    "    \n",
    "    The IQR can help to determine potential outliers. A value is suspected to be a potential outlier if it is less than \n",
    "    1.5 IQR below the first quartile or more than 1.5 IQR above the third quartile.\n",
    "    High = (Q3) + 1.5 IQR\n",
    "    Low = (Q1) – 1.5 IQR\n",
    "    \n",
    "    This following steps to find outlier using IQR:\n",
    "    i.) Calculate the interquartile range for the data.\n",
    "    ii.) Multiply the interquartile range (IQR) by 1.5 (a constant used to discern outliers).\n",
    "    iii.) Add 1.5 x (IQR) to the third quartile. Any number greater than this is a suspected outlier.\n",
    "    iv.) Subtract 1.5 x (IQR) from the first quartile. Any number less than this is a suspected outlier."
   ]
  },
  {
   "cell_type": "markdown",
   "metadata": {},
   "source": [
    "###### 12. What is the primary difference between bagging and boosting algorithms?"
   ]
  },
  {
   "cell_type": "markdown",
   "metadata": {},
   "source": [
    "    Bagging and Boosting are two types of Ensemble Learning.\n",
    "    - The primary difference between bagging and boosting algorithms is thet, Bagging is a simplest way of combining \n",
    "      predictions that belong to the same type. Whereas, boosting is a way of combining predictions that belong to the \n",
    "      different types.\n",
    "    - In Bagging the result is obtained by averaging the responses of the N learners (or majority vote). However, \n",
    "      Boosting assigns a second set of weights, this time for the N classifiers, in order to take a weighted average of \n",
    "      their estimates.\n",
    "    - Boosting aim to decrease variance, and is not bias. On the other hand, Bagging aims to decrease bias,and not variance.\n",
    "    - In boosting, each model receives equal weight and in Bagging, models are weighted according to their performance.\n",
    "    - Each model is built independently in boosting technique whereas in bagging, new models are \n",
    "      influenced by performance of previously built models."
   ]
  },
  {
   "cell_type": "markdown",
   "metadata": {},
   "source": [
    "###### 13. What is adjusted R2 in linear regression. How is it calculated?"
   ]
  },
  {
   "cell_type": "markdown",
   "metadata": {},
   "source": [
    "    The adjusted R2 is a statistical measure that shows the proportion of variation explained by the estimated regression line.\n",
    "    Adjusted R2 always takes on a value between 0 and 1. The closer adjusted R2 is to 1, the better the estimated \n",
    "    regression equation fits or explains the relationship between X and Y.\n",
    "    Adjusted R2 also indicates how well terms fit a curve or line, but adjusts for the number of terms in a model. If more \n",
    "    and more useless variables is added to a model, adjusted r-squared will decrease. If more useful variables are \n",
    "    added, adjusted r-squared will increase. Adjusted R2 will always be less than or equal to R2.\n",
    "\n",
    "    Adjusted R2 value can be calculated based on value of r-squared, number of independent variables (predictors), total \n",
    "    sample size. Every time you add a independent variable to a model, the R2 increases, even if the independent variable \n",
    "    is insignificant. Whereas Adjusted R-squared increases only when independent variable is significant and affects \n",
    "    dependent variable. \n",
    "    \n",
    "    Formula to calculate adjusted R2:\n",
    "                                    R2adj=1−[(1−R2)(n−1)n−k−1]\n",
    "    Where,\n",
    "    n  = the number of points in your data sample.\n",
    "    k  = the number of independent regressors, i.e. the number of variables in your model, excluding the constant.\n",
    "    "
   ]
  },
  {
   "cell_type": "markdown",
   "metadata": {},
   "source": [
    "###### 14. What is the difference between standardisation and normalisation?"
   ]
  },
  {
   "cell_type": "markdown",
   "metadata": {},
   "source": [
    "    \"Normalization\" is a scaling technique in which values are shifted and rescaled so that they end up ranging between \n",
    "    0 and 1. It is also known as Min-Max scaling. It is really affected by outliers.\n",
    "    Here’s the formula for normalization:\n",
    "                                    X' = (X - X_min)/(X_max - X_min)\n",
    "    Where, X_max and X_min are the maximum and the minimum values of the feature respectively.\n",
    "    \n",
    "    On the other hand,\n",
    "    \"Standardization\" is another scaling technique where the values are centered around the mean with a unit standard \n",
    "    deviation. This means that the mean of the attribute becomes zero and the resultant distribution has a unit \n",
    "    standard deviation. Standardization does not get affected by outliers because there is no predefined range of \n",
    "    transformed features.\n",
    "    Here’s the formula for standardization:\n",
    "                                    X' = (X - μ)/σ\n",
    "    Where,\n",
    "    μ = mean of the feature values\n",
    "    σ = standard deviation of the feature values"
   ]
  },
  {
   "cell_type": "markdown",
   "metadata": {},
   "source": [
    "###### 15. What is cross-validation? Describe one advantage and one disadvantage of using cross-validation."
   ]
  },
  {
   "cell_type": "markdown",
   "metadata": {},
   "source": [
    "    Cross-validation is a statistical method or a resampling procedure used to evaluate the skill of machine learning models \n",
    "    on a limited data sample. It is mostly used while building machine learning models. It compares and selects a model for \n",
    "    a given predictive modeling problem, assesses the models’ predictive performance. \n",
    "\n",
    "Advantage of Cross Validation\n",
    "\n",
    "    REDUCES OVERFITTING : In Cross Validation, the dataset is split into multiple folds and train the algorithm on \n",
    "                          different folds. This prevents our model from overfitting the training dataset. So, in this way, \n",
    "                          the model attains the generalization capabilities which is a good sign of a robust algorithm.\n",
    "    \n",
    "Disadvantages of Cross Validation\n",
    "\n",
    "    INCREASES TRAINING TIME : Cross Validation drastically increases the training time. Earlier The model had to be trained\n",
    "                              only on one training set, but with Cross Validation you have to train your model on \n",
    "                              multiple training sets. "
   ]
  }
 ],
 "metadata": {
  "kernelspec": {
   "display_name": "Python 3",
   "language": "python",
   "name": "python3"
  },
  "language_info": {
   "codemirror_mode": {
    "name": "ipython",
    "version": 3
   },
   "file_extension": ".py",
   "mimetype": "text/x-python",
   "name": "python",
   "nbconvert_exporter": "python",
   "pygments_lexer": "ipython3",
   "version": "3.8.5"
  }
 },
 "nbformat": 4,
 "nbformat_minor": 4
}
