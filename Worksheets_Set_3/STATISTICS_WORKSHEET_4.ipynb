{
 "cells": [
  {
   "cell_type": "markdown",
   "metadata": {},
   "source": [
    "# STATISTICS WORKSHEET-4"
   ]
  },
  {
   "cell_type": "markdown",
   "metadata": {},
   "source": [
    "### Q1to Q15 are descriptive types. Answer in brief.\n"
   ]
  },
  {
   "cell_type": "markdown",
   "metadata": {},
   "source": [
    "###### 1. What is central limit theorem and why is it important?"
   ]
  },
  {
   "cell_type": "markdown",
   "metadata": {},
   "source": [
    "    The central limit theorem states that the sampling distribution of the mean approaches a normal distribution, as the \n",
    "    sample size increases. Therefore, as a sample size increases, the sample mean and standard deviation will be closer in \n",
    "    value to the population mean μ and standard deviation σ. The theorum also states that the mean of means of will \n",
    "    be approximately be equal to the mean of sample means. Thus, frequency ditribution of sample means foems a \n",
    "    normal distribution.\n",
    "    \n",
    "    The Central Limit Theorem is important because it allows us to safely assume that the sampling distribution of the mean \n",
    "    will be normal in most cases, as no matter what the distribution of the population is, the shape of the \n",
    "    sampling distribution will approach normality as the sample size (N) increases. This is useful, as the research never \n",
    "    knows which mean in the sampling distribution is the same as the population mean, but by selecting many random samples \n",
    "    from a population the sample means will cluster together, allowing the research to make a very good estimate of \n",
    "    the population mean. This means that the advantage can be taken of statistical techniques that assume a \n",
    "    normal distribution.Thus, as the sample size (N) increases the sampling error will decrease. "
   ]
  },
  {
   "cell_type": "markdown",
   "metadata": {},
   "source": [
    "###### 2. What is sampling? How many sampling methods do you know?"
   ]
  },
  {
   "cell_type": "markdown",
   "metadata": {},
   "source": [
    "    Sampling is a technique of selecting specific group taken from population or a subset of population in order to \n",
    "    make statistical inferences from them and estimate characteristics of the whole population.\n",
    "    \n",
    "There are two types of sampling method :  \n",
    "    \n",
    "    1. PROBABILITY SAMPLING : It involves random selection, thus, allowing to make strong statistical inferences about the \n",
    "       whole group. All the members have an equal opportunity to be a part of the sample with this selection parameter. \n",
    "       There are four main types of probability sample:\n",
    "            a.) Simple random sampling - In a simple random sample, every member of the population has an equal chance of \n",
    "                being selected. This allows the sampling error to be calculated and reduces selection bias.\n",
    "            b.) Systematic sampling - In this method the individuals are selected at regular intervals. It requires \n",
    "                the selection of a starting point for the sample and sample size that can be repeated at regular intervals. \n",
    "                This type of sampling method has a predefined range, and hence this sampling technique is the least \n",
    "                time consuming.\n",
    "            c.) Stratified sampling -  Stratified random sampling is a method in which the population is divided into \n",
    "                smaller groups that don’t overlap but represent the entire population. While sampling, these groups can be \n",
    "                organized and then draw a sample from each group separately.\n",
    "            d.) Cluster sampling - It is a method where the the entire population is divided into sections or clusters \n",
    "                that represent a population, which are randomly selected to be included in the study.\n",
    "       \n",
    "            \n",
    "    2. NON - PROBABILITY SAMPLING : It involves non-random selection based on convenience or other criteria, allowing to \n",
    "       easily collect data. This sampling method is not a fixed or predefined selection process.This makes it difficult for \n",
    "       all elements of a population to have equal opportunities to be included in a sample. Types of non-probability sample:\n",
    "            a.) Convenience sampling - in this method of sampling, participants are selected based on availability \n",
    "                and willingness to take part.\n",
    "            b.) Judgmental or purposive sampling - Also known as selective, or subjective, sampling, this technique relies \n",
    "                on the judgement of the researcher when choosing who to ask to participate. Researchers may implicitly \n",
    "                thus choose a “representative” sample to suit their needs, or specifically approach individuals with \n",
    "                certain characteristics.\n",
    "            c.) Snowball sampling - This method is used when the samples have traits that are rare to find. This is a \n",
    "                sampling technique, in which existing subjects provide referrals to recruit samples required for a \n",
    "                research study.\n",
    "            d.) Quota sampling - In this, the selection of members is based on a pre-set standard. In this case, as a sample \n",
    "                is formed based on specific attributes, the created sample will have the same qualities found in the total\n",
    "                population. It is a rapid method of collecting samples."
   ]
  },
  {
   "cell_type": "markdown",
   "metadata": {},
   "source": [
    "###### 3. What is the difference between type1 and typeII error?"
   ]
  },
  {
   "cell_type": "markdown",
   "metadata": {},
   "source": [
    "    i.) Type 1 error, in statistical hypothesis testing, is the error caused by rejecting a null hypothesis when it is \n",
    "        true. Thus, it is caused when the hypothesis that should have been accepted is rejected. On the other hand, Type \n",
    "        II error is the error that occurs when the null hypothesis is accepted when it is not true. In simple words, Type \n",
    "        II error means accepting the hypothesis when it should not have been accepted.\n",
    "       \n",
    "    ii.) Type I error is denoted by α (alpha) known as an error, also called the level of significance of the test.\n",
    "         The Type II error is denoted by β (beta) and is also termed as the beta error.\n",
    "         \n",
    "    iii.) In case of Type 1 error, the null hypothesis is set to state that there is no relationship between two variables \n",
    "          and the cause-effect relationship between two variables, if present, is caused by chance. On the other hand, in \n",
    "          case of Type II error, the null hypothesis is set to state that there is no relationship between two variables and \n",
    "          the cause-effect relationship between two variables, if present, is caused by chance.\n",
    "          \n",
    "     iv.) Type 1 error occurs when the null hypothesis is rejected even when there is no relationship between the variables.\n",
    "          Type II error occurs when the null hypothesis is acceptable considering that the relationship between the \n",
    "          variables is because of chance or luck, and even when there is a relationship between the variables.\n",
    "          \n",
    "      v.) The probability of Type I error is usually determined in advance and is understood as the level of significance \n",
    "          of testing the hypothesis. The probability of committing a Type II error is calculated by subtracting the power of \n",
    "          the test from 1."
   ]
  },
  {
   "cell_type": "markdown",
   "metadata": {},
   "source": [
    "###### 4. What do you understand by the term Normal distribution?"
   ]
  },
  {
   "cell_type": "markdown",
   "metadata": {},
   "source": [
    "    Normal distribution is a continuous probability distribution that is symmetric about the mean, showing that data near \n",
    "    the mean are more frequent in occurrence than data far from the mean. In graph form, normal distribution will appear as \n",
    "    a bell curve. Thus, for standard normal curve, muean is 0 whereas, standard deviation is 1."
   ]
  },
  {
   "cell_type": "markdown",
   "metadata": {},
   "source": [
    "###### 5. What is correlation and covariance in statistics?"
   ]
  },
  {
   "cell_type": "markdown",
   "metadata": {},
   "source": [
    "CORRELATION - \n",
    "\n",
    "    It is a statistical measure used to represent how strongly two random variables are related to each other. Hence, it is \n",
    "    used to determine the relationship between two cariables. It is denoted by r. In correlation, the value ranges from \n",
    "    -1 to 1. Here, 0 means no correlation between the variables. Correlation is not influenced by the change in scale.\n",
    "    \n",
    "    Formula for correlation :  R = Cov(X,Y) / (σx,σy)\n",
    "    where,\n",
    "    Cov(X,Y) = covariance of the variables x and y\n",
    "    σx = sample standard deviation of variable x\n",
    "    σy = sample standard deviation of variable y"
   ]
  },
  {
   "cell_type": "markdown",
   "metadata": {},
   "source": [
    "COVARIANCE -\n",
    "    \n",
    "    Covariance indicates the direction of the linear relationship between variables. Thus, covariance shows how much of \n",
    "    these variables vary from each other. The covariance values of the variable can lie anywhere between -∞ to +∞. A \n",
    "    negative value indicates a negative relationship whereas a positive value indicates a positive relationship between \n",
    "    the variables. When the covariance value is zero, it no relationship between the variables. Covariance is affected by\n",
    "    the change in scale.\n",
    "    \n",
    "    Covariance is calculated as :  Cov(X,Y) = Σ((Xᵢ-x̅)(Yᵢ-ȳ)) / n-1\n",
    "    where,\n",
    "    Xᵢ= Observation point of variable X\n",
    "    x̅= Mean of all observations(X)\n",
    "    Yᵢ= Observation point of variable Y\n",
    "    ȳ = Mean of all observations(Y)\n",
    "    n= Number of observations"
   ]
  },
  {
   "cell_type": "markdown",
   "metadata": {},
   "source": [
    "###### 6. Differentiate between univariate ,Biavariate,and multivariate analysis."
   ]
  },
  {
   "cell_type": "markdown",
   "metadata": {},
   "source": [
    "Univarate Analysis - \n",
    "\n",
    "    Univariate analysis is the most basic form of statistical data analysis technique as it summarize only one variable at \n",
    "    a time. Since it's a single variable it doesn’t deal with causes or relationships. The main purpose of univariate \n",
    "    analysis is to describe the data and find patterns that exist within it. Some ways to describe patterns found in \n",
    "    univariate data include looking at mean, mode, median, range, variance, maximum, minimum, quartiles, and standard \n",
    "    deviation. Univariate analysis is conducted through several ways which are mostly descriptive in nature - \n",
    "    Frequency Distribution Tables, Histograms, Frequency Polygons, Pie Charts and Bar Charts."
   ]
  },
  {
   "cell_type": "markdown",
   "metadata": {},
   "source": [
    "Bivarate Analysis -\n",
    "\n",
    "    Bivariate analysis is one of the simplest forms of quantitative (statistical) analysis. It involves the analysis of \n",
    "    two variables, for the purpose of determining the empirical relationship between them. Thus, bivariate data \n",
    "    analysis involves comparisons, relationships, causes and explanations. Common types of bivariate analysis include - \n",
    "    scatter plots, Regression Analysis and Correlation Coefficients."
   ]
  },
  {
   "cell_type": "markdown",
   "metadata": {},
   "source": [
    "Multivariate Analysis -\n",
    "    \n",
    "    Multivariate analysis is the analysis of three or more variables. The ways to perform analysis on this data depends on \n",
    "    the goals to be achieved. Some of the techniques are regression analysis,path analysis,factor analysis and \n",
    "    multivariate analysis of variance (MANOVA)."
   ]
  },
  {
   "cell_type": "markdown",
   "metadata": {},
   "source": [
    "###### 7. What do you understand by sensitivity and how would you calculate it?"
   ]
  },
  {
   "cell_type": "markdown",
   "metadata": {},
   "source": [
    "    A sensitivity analysis determines how different values of an independent variable affect a particular dependent \n",
    "    variable under a given set of assumptions. This model is also referred to as a what-if or simulation analysis. \n",
    "    Sensitivity analysis allows for forecasting using historical, true data.\n",
    "    \n",
    "    Senstivity is calculated based on the formula :\n",
    "                    Sensitivity=[a/(a+c)]×100\n",
    "                    Specificity=[d/(b+d)]×100\n",
    "                    Positive predictive value(PPV)=[a/(a+b)]×100\n",
    "                    Negative predictive value(NPV)=[d/(c+d)]×100\n",
    "                    \n",
    "    where,\n",
    "    a = true positive\n",
    "    c = false negative\n",
    "    d = true negative\n",
    "    b = false positive"
   ]
  },
  {
   "cell_type": "markdown",
   "metadata": {},
   "source": [
    "###### 8. What is hypothesis testing? What is H0 and H1? What is H0 and H1 for two-tail test?"
   ]
  },
  {
   "cell_type": "markdown",
   "metadata": {},
   "source": [
    "Hypothesis testing -\n",
    "\n",
    "    Hypothesis testing is the core concept of inferential statistics and datascience. It is an objective method of \n",
    "    making decisions or interferences from sample data(evidence). Hypothesis Testing is basically an assumption that we \n",
    "    make about the population parameter.There are two types of hypothesis - Null hypothesis and alternate hypothesis.\n",
    "    \n",
    "H0 - \n",
    "    \n",
    "    It is the null hypothesis, which is a statistical hypothesis that assumes that the observation is due to a \n",
    "    chance factor. Null hypothesis is denoted by;\n",
    "                                                H0: μ1 = μ2, \n",
    "    which shows that there is no difference between the two population means.\n",
    "    \n",
    "H1 -\n",
    "\n",
    "    Contrary to the null hypothesis, the alternative hypothesis shows that observations are the result of a real effect. \n",
    "    Thus, this says that the intervention brings a significant difference to the sample, or that the sample is \n",
    "    significantly different from the population.\n",
    "    \n",
    "H0 and H1 for two-tailed test -\n",
    "\n",
    "    When the given statistics hypothesis assumes a less than or greater than value, it is called the two-tailed test.\n",
    "    Null hypothesis (H0): The null hypothesis here is what currently stated to be true about the population.\n",
    "    Alternate hypothesis (H1): The alternate hypothesis is always what is being claimed.\n",
    "    So, if the alternate hypothesis is written with a ≠ sign that means two-tailed test is going to be performed. \n"
   ]
  },
  {
   "cell_type": "markdown",
   "metadata": {},
   "source": [
    "###### 9. What is quantitative data and qualitative data?"
   ]
  },
  {
   "cell_type": "markdown",
   "metadata": {},
   "source": [
    "Quantitative Data - \n",
    "\n",
    "    Quatitative data are anything that can be expressed as a number, orquantified. Examples of quantitative data are scores \n",
    "    on achievement tests,number of hours of study, or weight of a subject. These data may berepresented by ordinal, interval \n",
    "    or ratio scales and lend themselves to most statistical manipulation."
   ]
  },
  {
   "cell_type": "markdown",
   "metadata": {},
   "source": [
    "Qualitative Data - \n",
    "\n",
    "    Qualitative data is descriptive, and regards phenomenon which can be observed but not measured. Thus, qualitative \n",
    "    data cannot be expressed as a number and it is typically unstructured or semi-structured in nature. It is categorized \n",
    "    based on properties, attributes, labels, and other identifiers. Generating this data from qualitative research is used\n",
    "    for theorizations, interpretations, developing hypotheses, and initial understandings."
   ]
  },
  {
   "cell_type": "markdown",
   "metadata": {},
   "source": [
    "###### 10. How to calculate range and interquartile range?"
   ]
  },
  {
   "cell_type": "markdown",
   "metadata": {},
   "source": [
    "RANGE -\n",
    "    \n",
    "    The range is the spread of your data from the lowest to the highest value in the distribution. It is a commonly used \n",
    "    measure of variability. Bigger the range, the more spread out is the data.\n",
    "    \n",
    "    The range is calculated by subtracting the lowest value from the highest value. While a large range means high \n",
    "    variability, a small range means low variability in a distribution.\n",
    "    \n",
    "    The formula to calculate the range is:\n",
    "                                        R = H - L\n",
    "    Where,\n",
    "    R = range\n",
    "    H = highest value\n",
    "    L = lowest value"
   ]
  },
  {
   "cell_type": "markdown",
   "metadata": {},
   "source": [
    "INTERQUARTILE RANGE - \n",
    "\n",
    "    The Interquartile range (IQR) is a measure of variability, based on dividing a data set into quartiles. It is the \n",
    "    difference between the upper and lower medians, i.e. Q3 and Q1.\n",
    "    \n",
    "    The IQR is calculated by subtracting the first quartile from the third quartile.\n",
    "    \n",
    "    The formula to calculate the interquartile range is:\n",
    "                                    IQR = Q3 – Q1\n",
    "    Where,\n",
    "    IQR=Inter-quartile range\n",
    "    Q1 = First quartile\n",
    "    Q3 = Third quartile"
   ]
  },
  {
   "cell_type": "markdown",
   "metadata": {},
   "source": [
    "###### 11. What do you understand by bell curve distribution ?"
   ]
  },
  {
   "cell_type": "markdown",
   "metadata": {},
   "source": [
    "    Bell curve distribution is the normal probability distribution only which is a continuous probability distribution that \n",
    "    is symmetric about the mean, showing that data near the mean are more frequent in occurrence than data far from the mean. \n",
    "    Thus, for standard normal curve, muean is 0 whereas, standard deviation is 1. In graph form, normal distribution will \n",
    "    appear as a bell curve due to underlying standard deviations from the mean."
   ]
  },
  {
   "cell_type": "markdown",
   "metadata": {},
   "source": [
    "###### 12. Mention one method to find outliers."
   ]
  },
  {
   "cell_type": "markdown",
   "metadata": {},
   "source": [
    "    Using Z-scores is one of the method to detect outliers. It is the number of standard deviations above and below the \n",
    "    mean that each value falls.\n",
    "    To calculate the Z-score for an observation, take the raw measurement, subtract the mean, and divide by the \n",
    "    standard deviation. \n",
    "    Mathematically, the formula for that process is the following:\n",
    "                                                    z = (X - μ) / α\n",
    "    Where,\n",
    "    X = value\n",
    "    μ = mean\n",
    "    α = standard deviation\n",
    "    \n",
    "    If z is positive, it means the value is rightor above the mean and vice-versa of the z is negative."
   ]
  },
  {
   "cell_type": "markdown",
   "metadata": {},
   "source": [
    "###### 13. What is p-value in hypothesis testing?"
   ]
  },
  {
   "cell_type": "markdown",
   "metadata": {},
   "source": [
    "    The P value, or calculated probability, is the probability of finding the observed, or more extreme, results when the\n",
    "    null hypothesis (H0) is correct or true. The p-value is used as an alternative to rejection points to provide the \n",
    "    smallest level of significance at which the null hypothesis would be rejected.\n",
    "    The lower the p-value, the greater the statistical significance of the observed difference.\n",
    "    \n",
    "    The respective p-value indicates :\n",
    "        - p-value < 0.001, means strong certainity in the result.\n",
    "        - p-value < 0.05, means moderate certainity in the result.\n",
    "        - p-value < 0.01, means weak certainity in the result.\n",
    "        - p-value > 0.01, means no certainity in the result.\n",
    "        \n",
    "    If p-value > 0.05, H0 is accepted and vice-versa."
   ]
  },
  {
   "cell_type": "markdown",
   "metadata": {},
   "source": [
    "###### 14. What is the Binomial Probability Formula?"
   ]
  },
  {
   "cell_type": "markdown",
   "metadata": {},
   "source": [
    "    Binomial probability refers to the probability of exactly x successes on n repeated trials in an experiment which has \n",
    "    two possible outcomes.\n",
    "    \n",
    "    In each trial, the probability of success, P(S) = p, is the same. The probability of failure is just 1 minus the \n",
    "    probability of success: P(F) = 1 – p.\n",
    "    \n",
    "    Binomial Probability Formula : \n",
    "                                b(x; n, P) = nCx * Px * (1 – P)n – x\n",
    "    Where,\n",
    "    b = binomial probability\n",
    "    x = total number of “successes” (pass or fail, heads or tails etc.)\n",
    "    P = probability of a success on an individual trial\n",
    "    n = number of trials"
   ]
  },
  {
   "cell_type": "markdown",
   "metadata": {},
   "source": [
    "###### 15. Explain ANOVA and it’s applications."
   ]
  },
  {
   "cell_type": "markdown",
   "metadata": {},
   "source": [
    "    ANOVA stands for Analysis of Variance. It is a statistical technique that is used to check if the means of two or \n",
    "    more groups are significantly different from each other. ANOVA checks the impact of one or more factors by comparing \n",
    "    the means of different samples.\n",
    "    \n",
    "    A one-way ANOVA is used for three or more groups of data, to gain information about the relationship between the \n",
    "    dependent and independent variables.\n",
    "    \n",
    "    If no true variance exists between the groups, the ANOVA's F-ratio should equal close to 1."
   ]
  }
 ],
 "metadata": {
  "kernelspec": {
   "display_name": "Python 3",
   "language": "python",
   "name": "python3"
  },
  "language_info": {
   "codemirror_mode": {
    "name": "ipython",
    "version": 3
   },
   "file_extension": ".py",
   "mimetype": "text/x-python",
   "name": "python",
   "nbconvert_exporter": "python",
   "pygments_lexer": "ipython3",
   "version": "3.8.5"
  }
 },
 "nbformat": 4,
 "nbformat_minor": 4
}
