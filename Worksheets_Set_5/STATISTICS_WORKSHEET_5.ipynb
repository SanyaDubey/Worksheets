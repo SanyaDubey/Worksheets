{
 "cells": [
  {
   "cell_type": "markdown",
   "metadata": {},
   "source": [
    "# STATISTICS WORKSHEET-5"
   ]
  },
  {
   "cell_type": "markdown",
   "metadata": {},
   "source": [
    "### Q1 to Q15 are MCQs with only one correct answer. Choose the correct option."
   ]
  },
  {
   "cell_type": "markdown",
   "metadata": {},
   "source": [
    "###### 1. Using a goodness of fit,we can assess whether a set of obtained frequencies differ from a set of_frequencies.\n",
    "###### a) Mean\n",
    "###### b) Actual\n",
    "###### c) Predicted\n",
    "###### d) Expected"
   ]
  },
  {
   "cell_type": "markdown",
   "metadata": {},
   "source": [
    "    ANS. d) Expected"
   ]
  },
  {
   "cell_type": "markdown",
   "metadata": {},
   "source": [
    "###### 2. Chisquare is used to analyse\n",
    "###### a) Score\n",
    "###### b) Rank\n",
    "###### c) Frequencies\n",
    "###### d) All of these"
   ]
  },
  {
   "cell_type": "markdown",
   "metadata": {},
   "source": [
    "    ANS. c) Frequencies"
   ]
  },
  {
   "cell_type": "markdown",
   "metadata": {},
   "source": [
    "###### 3. What is the mean of a Chi Square distribution with 6 degrees of freedom?\n",
    "###### a) 4\n",
    "###### b) 12\n",
    "###### c) 6\n",
    "###### d) 8"
   ]
  },
  {
   "cell_type": "markdown",
   "metadata": {},
   "source": [
    "    ANS. c) 6"
   ]
  },
  {
   "cell_type": "markdown",
   "metadata": {},
   "source": [
    "###### 4. Which of these distributions is used for a goodness of fit testing?\n",
    "###### a) Normal distribution\n",
    "###### b) Chisqared distribution\n",
    "###### c) Gamma distribution\n",
    "###### d) Poission distribution"
   ]
  },
  {
   "cell_type": "markdown",
   "metadata": {},
   "source": [
    "    ANS. b) Chisqared distribution"
   ]
  },
  {
   "cell_type": "markdown",
   "metadata": {},
   "source": [
    "###### 5. Which of the following distributions is Continuous\n",
    "###### a) Binomial Distribution\n",
    "###### b) Hypergeometric Distribution\n",
    "###### c) F Distribution\n",
    "###### d) Poisson Distribution"
   ]
  },
  {
   "cell_type": "markdown",
   "metadata": {},
   "source": [
    "    ANS. c) F Distribution"
   ]
  },
  {
   "cell_type": "markdown",
   "metadata": {},
   "source": [
    "###### 6. A statement made about a population for testing purpose is called?\n",
    "###### a) Statistic\n",
    "###### b) Hypothesis\n",
    "###### c) Level of Significance\n",
    "###### d) TestStatistic"
   ]
  },
  {
   "cell_type": "markdown",
   "metadata": {},
   "source": [
    "    ANS. b) Hypothesis"
   ]
  },
  {
   "cell_type": "markdown",
   "metadata": {},
   "source": [
    "###### 7. If the assumed hypothesis is tested for rejection considering it to be true is called?\n",
    "###### a) Null Hypothesis\n",
    "###### b) Statistical Hypothesis\n",
    "###### c) Simple Hypothesis\n",
    "###### d) Composite Hypothesis"
   ]
  },
  {
   "cell_type": "markdown",
   "metadata": {},
   "source": [
    "    ANS. a) Null Hypothesis"
   ]
  },
  {
   "cell_type": "markdown",
   "metadata": {},
   "source": [
    "###### 8. If the Critical region is evenly distributed then the test is referred as?\n",
    "###### a) Two tailed\n",
    "###### b) One tailed\n",
    "###### c) Three tailed\n",
    "###### d) Zero tailed"
   ]
  },
  {
   "cell_type": "markdown",
   "metadata": {},
   "source": [
    "    ANS. a) Two tailed"
   ]
  },
  {
   "cell_type": "markdown",
   "metadata": {},
   "source": [
    "###### 9. Alternative Hypothesis is also called as?\n",
    "###### a) Composite hypothesis\n",
    "###### b) Research Hypothesis\n",
    "###### c) Simple Hypothesis\n",
    "###### d) Null Hypothesis"
   ]
  },
  {
   "cell_type": "markdown",
   "metadata": {},
   "source": [
    "    ANS. b) Research Hypothesis"
   ]
  },
  {
   "cell_type": "markdown",
   "metadata": {},
   "source": [
    "###### 10. In a Binomial Distribution, if ‘n’ is the number of trials and ‘p’ is the probability of success, then the mean value is given by ___________\n",
    "###### a) np\n",
    "###### b) n"
   ]
  },
  {
   "cell_type": "markdown",
   "metadata": {},
   "source": [
    "    ANS. a) np"
   ]
  }
 ],
 "metadata": {
  "kernelspec": {
   "display_name": "Python 3",
   "language": "python",
   "name": "python3"
  },
  "language_info": {
   "codemirror_mode": {
    "name": "ipython",
    "version": 3
   },
   "file_extension": ".py",
   "mimetype": "text/x-python",
   "name": "python",
   "nbconvert_exporter": "python",
   "pygments_lexer": "ipython3",
   "version": "3.8.5"
  }
 },
 "nbformat": 4,
 "nbformat_minor": 4
}
