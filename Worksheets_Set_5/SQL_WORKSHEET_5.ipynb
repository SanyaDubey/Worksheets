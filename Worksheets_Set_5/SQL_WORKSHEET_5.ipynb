{
 "cells": [
  {
   "cell_type": "markdown",
   "metadata": {},
   "source": [
    "# SQL WORKSHEET - 5"
   ]
  },
  {
   "cell_type": "markdown",
   "metadata": {},
   "source": [
    "### Refer the following ERD and answer all the questions in this worksheet. You have to write the queries using MySQL for the required Operation. "
   ]
  },
  {
   "cell_type": "markdown",
   "metadata": {},
   "source": [
    "#### Table Explanations:\n",
    "\n",
    "     The movie table contains information about each movie. There are text descriptions such as title and overview. Some \n",
    "      fields are more obvious than others: revenue (the amount of money the movie made), budget (the amount spent on \n",
    "      creating the movie). Other fields are calculated based on data used to create the data source: popularity, votes_avg, \n",
    "      and votes_count. The status indicates if the movie is Released, Rumoured, or in Post-Production.\n",
    "\n",
    "     The country list contains a list of different countries, and the movie_country table contains a record of which \n",
    "      countries a movie was filmed in (because some movies are filmed in multiple countries). This is a standard many-to-\n",
    "      many table, and you’ll find these in a lot of databases.\n",
    "\n",
    "     The same concept applies to the production_company table. There is a list of production companies and a many-to-\n",
    "      many relationship with movies which is captured in the movie_company table.\n",
    "\n",
    "     The languages table has a list of languages, and the movie_languages captures a list of languages in a movie. \n",
    "      The difference with this structure is the addition of a language_role table. \n",
    "\n",
    "     This language_role table contains two records: Original and Spoken. A movie can have an original language (e.g. \n",
    "      English), but many Spoken languages. This is captured in the movie_languages table along with a role.\n",
    "\n",
    "     Genres define which category a movie fits into, such as Comedy or Horror. A movie can have multiple genres, which is \n",
    "      why the movie_genres table exists.\n",
    "\n",
    "     The same concept applies to keywords, but there are a lot more keywords than genres. I’m not sure what qualifies as \n",
    "      a keyword, but you can explore the data and take a look. Some examples as “paris”, “gunslinger”, or “saving the \n",
    "      world”.\n",
    "\n",
    "     The cast and crew section of the database is a little more complicated. Actors, actresses, and crew members are \n",
    "      all people, playing different roles in a movie. Rather than have separate lists of names for crew and cast, this \n",
    "      database contains a table called person, which has each person’s name.\n",
    "\n",
    "     The movie_cast table contains records of each person in a movie as a cast member. It has their character name, along \n",
    "      with the cast_order, which I believe indicates that lower numbers appear higher on the cast list.\n",
    "\n",
    "     The movie_cast table also links to the gender table, to indicate the gender of each character. The gender is linked to\n",
    "      the movie_cast table rather than the person table to cater for characters which may be a different gender than the \n",
    "      person, or characters of unknown gender. This means that there is no gender table linked to the person table, but \n",
    "      that’s because of the sample data.\n",
    "\n",
    "     The movie_crew table follows a similar concept and stores all crew members for all movies. Each crew member has a \n",
    "      job, which is part of a department (e.g. Camera)."
   ]
  },
  {
   "cell_type": "markdown",
   "metadata": {},
   "source": [
    "### QUESTIONS:"
   ]
  },
  {
   "cell_type": "markdown",
   "metadata": {},
   "source": [
    "###### 1. Write SQL query to show all the data in the Movie table."
   ]
  },
  {
   "cell_type": "markdown",
   "metadata": {},
   "source": [
    "    SELECT * from  movie;"
   ]
  },
  {
   "cell_type": "markdown",
   "metadata": {},
   "source": [
    "###### 2. Write SQL query to show the title of the longest runtime movie."
   ]
  },
  {
   "cell_type": "markdown",
   "metadata": {},
   "source": [
    "    SELECT title FROM movie\n",
    "    WHERE runtime = (SELECT(MAX(runtime FROM movie);"
   ]
  },
  {
   "cell_type": "markdown",
   "metadata": {},
   "source": [
    "###### 3. Write SQL query to show the highest revenue generating movie title."
   ]
  },
  {
   "cell_type": "markdown",
   "metadata": {},
   "source": [
    "    SELECT title FROM movie\n",
    "    WHERE revenue = (SELECT(MAX(revenue FROM movie);"
   ]
  },
  {
   "cell_type": "markdown",
   "metadata": {},
   "source": [
    "###### 4. Write SQL query to show the movie title with maximum value of revenue/budget."
   ]
  },
  {
   "cell_type": "markdown",
   "metadata": {},
   "source": [
    "    SELECT title FROM movie\n",
    "    WHERE movie.revenue or movie.budget = (SELECT MAX(revenue or budget) FROM movie);"
   ]
  },
  {
   "cell_type": "markdown",
   "metadata": {},
   "source": [
    "###### 5. Write a SQL query to show the movie title and its cast details like name of the person, gender, character name, cast order."
   ]
  },
  {
   "cell_type": "markdown",
   "metadata": {},
   "source": [
    "    SELECT movie.itle,  person.person_name, gender.gender, movie_cast.character_name, movie_cast.cast_order\n",
    "    FROM movie\n",
    "    INNER JOIN movie_cast ON movie_id = movie_cast.movie_id\n",
    "    INNER JOIN person on movie_cast.person_id = person.person_id\n",
    "    INNER JOIN gender ON movie_cast.gender_id = gender.gender_id\n",
    "    GROUP BY movie.title;"
   ]
  },
  {
   "cell_type": "markdown",
   "metadata": {},
   "source": [
    "###### 6. Write a SQL query to show the country name where maximum number of movies has been produced, along with the number of movies produced."
   ]
  },
  {
   "cell_type": "markdown",
   "metadata": {},
   "source": [
    "    SELECT COUNT(movie_id), country_name \n",
    "    FROM production_country\n",
    "    INNER JOIN country on country.country_id = production_country.country_id;"
   ]
  },
  {
   "cell_type": "markdown",
   "metadata": {},
   "source": [
    "###### 7. Write a SQL query to show all the genre_id in one column and genre_name in second column."
   ]
  },
  {
   "cell_type": "markdown",
   "metadata": {},
   "source": [
    "    SELECT * FROM genre;"
   ]
  },
  {
   "cell_type": "markdown",
   "metadata": {},
   "source": [
    "###### 8. Write a SQL query to show name of all the languages in one column and number of movies in that particular column in another column. "
   ]
  },
  {
   "cell_type": "markdown",
   "metadata": {},
   "source": [
    "    SELECT language.language_name, COUNT(movie_languages.movie_id) FROM language\n",
    "    INNER JOIN movie_languages on movie_languages.language_id = language.language_id;"
   ]
  },
  {
   "cell_type": "markdown",
   "metadata": {},
   "source": [
    "###### 9. Write a SQL query to show movie name in first column, no. of crew members in second column and number of cast members in third column."
   ]
  },
  {
   "cell_type": "markdown",
   "metadata": {},
   "source": [
    "    SELECT title, COUNT(person_name), COUNT(person_id)\n",
    "    from movie\n",
    "    INNER JOIN movie_crew on movie_crew.person_id = person.person_id\n",
    "    INNER JOIN person on movie_crew.person_id = person.person_id;"
   ]
  },
  {
   "cell_type": "markdown",
   "metadata": {},
   "source": [
    "###### 10. Write a SQL query to list top 10 movies title according to popularity column in decreasing order."
   ]
  },
  {
   "cell_type": "markdown",
   "metadata": {},
   "source": [
    "    SELECT title FROM movie \n",
    "    ORDER BY popularity desc\n",
    "    LIMIT 10;"
   ]
  },
  {
   "cell_type": "markdown",
   "metadata": {},
   "source": [
    "###### 11. Write a SQL query to show the name of the 3rd most revenue generating movie and its revenue."
   ]
  },
  {
   "cell_type": "markdown",
   "metadata": {},
   "source": [
    "    SELECT title, revenue FROM movie\n",
    "    WHERE revenue = (SELECT max(revenue) FROM movie)\n",
    "    ORDER BY desc(revenue)\n",
    "    WHERE rownum = 3;"
   ]
  },
  {
   "cell_type": "markdown",
   "metadata": {},
   "source": [
    "###### 12. Write a SQL query to show the names of all the movies which have “rumoured” movie status."
   ]
  },
  {
   "cell_type": "markdown",
   "metadata": {},
   "source": [
    "    SELECT title FROM movie\n",
    "    WHERE movie_status = 'rumoured';"
   ]
  },
  {
   "cell_type": "markdown",
   "metadata": {},
   "source": [
    "###### 13. Write a SQL query to show the name of the “United States of America” produced movie which generated maximum revenue."
   ]
  },
  {
   "cell_type": "markdown",
   "metadata": {},
   "source": [
    "    SELECT title FROM movie\n",
    "    INNER JOIN production_country ON movie.movie_id = production_country.movie_id\n",
    "    INNER JOIN country ON production_country.country_id = country.country_id\n",
    "    WHERE country.country_name = \"United States of America\" AND movie.revenue = (select max(revenue) from movie);"
   ]
  },
  {
   "cell_type": "markdown",
   "metadata": {},
   "source": [
    "###### 14. Write a SQL query to print the movie_id in one column and name of the production company in the second column for all the movies."
   ]
  },
  {
   "cell_type": "markdown",
   "metadata": {},
   "source": [
    "    SELECT movie_company.movie_id, production_company.company_name FROM movie_company \n",
    "    INNER JOIN production_company ON movie_company.movie_id = production_company.company_id;"
   ]
  },
  {
   "cell_type": "markdown",
   "metadata": {},
   "source": [
    "###### 15. Write a SQL query to show the title of top 20 movies arranged in decreasing order of their budget."
   ]
  },
  {
   "cell_type": "markdown",
   "metadata": {},
   "source": [
    "    SELECT title FROM movie\n",
    "    ORDER BY budget DESC\n",
    "    LIMIT 20;"
   ]
  }
 ],
 "metadata": {
  "kernelspec": {
   "display_name": "Python 3",
   "language": "python",
   "name": "python3"
  },
  "language_info": {
   "codemirror_mode": {
    "name": "ipython",
    "version": 3
   },
   "file_extension": ".py",
   "mimetype": "text/x-python",
   "name": "python",
   "nbconvert_exporter": "python",
   "pygments_lexer": "ipython3",
   "version": "3.8.5"
  }
 },
 "nbformat": 4,
 "nbformat_minor": 4
}
