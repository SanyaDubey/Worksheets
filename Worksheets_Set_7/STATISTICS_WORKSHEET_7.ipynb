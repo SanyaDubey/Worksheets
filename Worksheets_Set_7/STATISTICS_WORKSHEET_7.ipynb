{
 "cells": [
  {
   "cell_type": "markdown",
   "metadata": {},
   "source": [
    "# STATISTICS WORKSHEET-7"
   ]
  },
  {
   "cell_type": "markdown",
   "metadata": {},
   "source": [
    "###### 1. A die is thrown 1402 times. The frequencies for the outcomes 1, 2, 3, 4, 5 and 6 are given in the following table: \n",
    "    \n",
    "    ---------------------------------------------------------------\n",
    "    |   Outcome   |   1   |   2   |   3   |   4   |   5   |   6   |\n",
    "    ---------------------------------------------------------------\n",
    "    |  Frequency  |  400  |  300  |  157  |  180  |  175  |  190  |\n",
    "    ---------------------------------------------------------------\n",
    "    \n",
    "###### Find the probability of getting 6 as outcome: \n",
    "###### a) 0.34 \n",
    "###### b) 0.135 \n",
    "###### c) 0.45\n",
    "###### d) 0.78 "
   ]
  },
  {
   "cell_type": "markdown",
   "metadata": {},
   "source": [
    "    ANS. b) 0.135"
   ]
  },
  {
   "cell_type": "markdown",
   "metadata": {},
   "source": [
    "###### 2. A telephone directory page has 400 telephone numbers. The frequency distribution of their unit place digit (for example, in the number 25827689, the unit place digit is 9 is given in table below: \n",
    "\n",
    "     First row refers to the digits \n",
    "     Second row to their frequencies   \n",
    "\n",
    "    --------------------------------------------------------------------------------------\n",
    "    |   Outcome    |   0  |  1   |  2   |   3  |   4  |   5  |   6  |   7  |   8  |   9  |\n",
    "    --------------------------------------------------------------------------------------\n",
    "    |  Frequency   |  44  |  52  |  44  |  44  |  40  |  20  |  28  |  56  |  32  |  40  |\n",
    "    --------------------------------------------------------------------------------------\n",
    "    \n",
    "###### What will be the probability of getting a digit with unit place digit odd number that is 1, 3,5,7,9?\n",
    "###### a) 0.67\n",
    "###### b) 0.60 \n",
    "###### c) 0.45\n",
    "###### d) 0.53 "
   ]
  },
  {
   "cell_type": "markdown",
   "metadata": {},
   "source": [
    "    ANS. d) 0.53"
   ]
  },
  {
   "cell_type": "markdown",
   "metadata": {},
   "source": [
    "###### 3. A tyre manufacturing company which keeps a record of the distance covered before a tyre needed to be replaced. The table below shows the results of 1100 cases. \n",
    "\n",
    "    -------------------------------------------------------------------------------------\n",
    "    |   Distance(miles)   |   <4000   |   4000 - 9000   |   9001 - 14000   |   >14000   |\n",
    "    -------------------------------------------------------------------------------------\n",
    "    |      Frequency      |     20    |       260       |       375        |     445    |\n",
    "    -------------------------------------------------------------------------------------\n",
    "\n",
    "###### If we buy a new tyre of this company, what is the probability that the tyre will last more than 9000 miles?\n",
    "###### a) 0.67\n",
    "###### b) 0.459 \n",
    "###### c) 0.745\n",
    "###### d) 0.73 "
   ]
  },
  {
   "cell_type": "markdown",
   "metadata": {},
   "source": [
    "    ANS. c) 0.745"
   ]
  },
  {
   "cell_type": "markdown",
   "metadata": {},
   "source": [
    "###### 4. Please refer to the case and table given in the question No. 3 and determine what is the probability that if we buy a new tyre then it will last in the interval [4000-14000] miles? \n",
    "###### a) 0.56\n",
    "###### b) 0.577 \n",
    "###### c) 0.745 \n",
    "###### d) 0.73 "
   ]
  },
  {
   "cell_type": "markdown",
   "metadata": {},
   "source": [
    "    ANS. b) 0.577"
   ]
  },
  {
   "cell_type": "markdown",
   "metadata": {},
   "source": [
    "###### 5. We have a box containing cards numbered from 0 to 9. We draw a card randomly from the box. If it is told to you that the card drawn is greater than 4 what is the probability that the card is odd? \n",
    "###### a) 0.5\n",
    "###### b) 0.8 \n",
    "###### c) 0.6\n",
    "###### d) 0.7"
   ]
  },
  {
   "cell_type": "markdown",
   "metadata": {},
   "source": [
    "    ANS. c) 0.6"
   ]
  },
  {
   "cell_type": "markdown",
   "metadata": {},
   "source": [
    "###### 6. We have a box containing cards numbered from 1 to 8. We draw a card randomly from the box. If it is told to you that the card drawn is less than 4 what is the probability that the card is even? \n",
    "###### a) 0.33\n",
    "###### b) 0.40 \n",
    "###### c) 0.56 \n",
    "###### d) 0.89 "
   ]
  },
  {
   "cell_type": "markdown",
   "metadata": {},
   "source": [
    "    ANS. a) 0.33"
   ]
  },
  {
   "cell_type": "markdown",
   "metadata": {},
   "source": [
    "###### 7. A die is thrown twice and the sum of the numbers appearing is observed to be 7. What is the conditional probability that the number 6 has appeared at least on one of the die? \n",
    "###### a) 0.45 \n",
    "###### b) 0.37 \n",
    "###### c) 0.33 \n",
    "###### d) 0.89"
   ]
  },
  {
   "cell_type": "markdown",
   "metadata": {},
   "source": [
    "    ANS. c) 0.33"
   ]
  },
  {
   "cell_type": "markdown",
   "metadata": {},
   "source": [
    "###### 8. Consider the experiment of tossing a coin. If the coin shows tail, toss it again but if it shows head, then throw a die. Find the conditional probability of the event that ‘the die shows a number greater than 4’ given that ‘there is at least one Head’. \n",
    "###### a) 0.1 \n",
    "###### b) 0.22 \n",
    "###### c) 0.38\n",
    "###### d) 0.45"
   ]
  },
  {
   "cell_type": "markdown",
   "metadata": {},
   "source": [
    "    ANS. b) 0.22"
   ]
  },
  {
   "cell_type": "markdown",
   "metadata": {},
   "source": [
    "###### 9. There are three persons Evan, Ross and Michelle. These people lined up randomly for a picture. What is the probability of Ross being at one of the ends of the line? \n",
    "###### a) 0.66\n",
    "###### b) 0.45 \n",
    "###### c) 0.23 \n",
    "###### d) 0.56 "
   ]
  },
  {
   "cell_type": "markdown",
   "metadata": {},
   "source": [
    "    ANS. a) 0.66"
   ]
  },
  {
   "cell_type": "markdown",
   "metadata": {},
   "source": [
    "###### 10. Let us make an assumption that each born child is equally likely to be a boy or a girl. Now suppose, if a family has two children, what is the conditional probability that both are girls given that at least one of them is a girl?\n",
    "###### a) 0.33 \n",
    "###### b) 0.45 \n",
    "###### c) 0.56 \n",
    "###### d) 0.26 "
   ]
  },
  {
   "cell_type": "markdown",
   "metadata": {},
   "source": [
    "    ANS. a) 0.33"
   ]
  },
  {
   "cell_type": "markdown",
   "metadata": {},
   "source": [
    "###### 11. Consider the same case as in the question no. 10. It is given that elder child is a boy. What is the conditional probability that both children are boys? \n",
    "###### a) 0.33\n",
    "###### b) 0.23 \n",
    "###### c) 0.5 \n",
    "###### d) 0.76"
   ]
  },
  {
   "cell_type": "markdown",
   "metadata": {},
   "source": [
    "    ANS. c) 0.5"
   ]
  },
  {
   "cell_type": "markdown",
   "metadata": {},
   "source": [
    "###### 12. We toss a coin. If we get head, we toss a coin again and if we get tail we throw a die. What is the probability of getting a number greater than 4 on die? \n",
    "###### a) 0.166 \n",
    "###### b) 0.34 \n",
    "###### c) 0.78 \n",
    "###### d) 0.34 "
   ]
  },
  {
   "cell_type": "markdown",
   "metadata": {},
   "source": [
    "    ANS. a) 0.166"
   ]
  },
  {
   "cell_type": "markdown",
   "metadata": {},
   "source": [
    "###### 13. We toss a coin. If we get head, we toss a coin again and if we get tail we throw a die. What is the probability of getting an odd number on die? \n",
    "###### a) 0.345\n",
    "###### b) 0.79 \n",
    "###### c) 0.2 \n",
    "###### d) 0.25 "
   ]
  },
  {
   "cell_type": "markdown",
   "metadata": {},
   "source": [
    "    ANS. d) 0.25"
   ]
  },
  {
   "cell_type": "markdown",
   "metadata": {},
   "source": [
    "###### 14. Suppose we throw two dice together. What is the conditional probability of getting sum of two numbers found on the two die after throwing is less than 4, provided that the two numbers found on the two die are different?\n",
    "###### a) 0.3 \n",
    "###### b) 0.56 \n",
    "###### c) 0.24 \n",
    "###### d) 0.06 "
   ]
  },
  {
   "cell_type": "markdown",
   "metadata": {},
   "source": [
    "    ANS. d) 0.06"
   ]
  },
  {
   "cell_type": "markdown",
   "metadata": {},
   "source": [
    "###### 15. A box contains three coins: two regular coins and one fake two-headed coin, you pick a coin at random and toss it. What is the probability that it lands heads up? \n",
    "###### a) 1/3 \n",
    "###### b) 2/3 \n",
    "###### c) 1/2\n",
    "###### d) 3/4"
   ]
  },
  {
   "cell_type": "markdown",
   "metadata": {},
   "source": [
    "    ANS. b) 2/3"
   ]
  }
 ],
 "metadata": {
  "kernelspec": {
   "display_name": "Python 3",
   "language": "python",
   "name": "python3"
  },
  "language_info": {
   "codemirror_mode": {
    "name": "ipython",
    "version": 3
   },
   "file_extension": ".py",
   "mimetype": "text/x-python",
   "name": "python",
   "nbconvert_exporter": "python",
   "pygments_lexer": "ipython3",
   "version": "3.8.5"
  }
 },
 "nbformat": 4,
 "nbformat_minor": 4
}
