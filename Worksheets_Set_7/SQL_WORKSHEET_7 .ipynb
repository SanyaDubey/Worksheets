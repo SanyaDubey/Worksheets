{
 "cells": [
  {
   "cell_type": "markdown",
   "metadata": {},
   "source": [
    "# SQL WORKSHEET - 7 "
   ]
  },
  {
   "cell_type": "markdown",
   "metadata": {},
   "source": [
    "### Q1 and Q2 have one or more correct answer. Choose all the correct option to answer your question."
   ]
  },
  {
   "cell_type": "markdown",
   "metadata": {},
   "source": [
    "###### 1. The primary key is selected from the\n",
    "###### A. Composite keys\n",
    "###### B. Candidate keys\n",
    "###### C. Foreign keys\n",
    "###### D. Determinants"
   ]
  },
  {
   "cell_type": "markdown",
   "metadata": {},
   "source": [
    "    ANS. B. Candidate keys"
   ]
  },
  {
   "cell_type": "markdown",
   "metadata": {},
   "source": [
    "###### 2. Which is/are correct statements about primary key of a table?\n",
    "###### A. Primary keys can contain NULL values.\n",
    "###### B. Primary keys cannot contain NULL values…\n",
    "###### C. A table can have only one primary key with single or multiple fields….\n",
    "###### D. A table can have multiple primary keys with single or multiple fields."
   ]
  },
  {
   "cell_type": "markdown",
   "metadata": {},
   "source": [
    "    ANS. B. Primary keys cannot contain NULL values…\n",
    "         C. A table can have only one primary key with single or multiple fields…."
   ]
  },
  {
   "cell_type": "markdown",
   "metadata": {},
   "source": [
    "### Q3 to Q10 have only one correct answer. Choose the correct option to answer your question."
   ]
  },
  {
   "cell_type": "markdown",
   "metadata": {},
   "source": [
    "###### 3. Which SQL command is used to insert a row in a table?\n",
    "###### A. Select\n",
    "###### B. Create\n",
    "###### C. Insert\n",
    "###### D. Drop"
   ]
  },
  {
   "cell_type": "markdown",
   "metadata": {},
   "source": [
    "    ANS. C. Insert"
   ]
  },
  {
   "cell_type": "markdown",
   "metadata": {},
   "source": [
    "###### 4. Which one of the following sorts rows in SQL?\n",
    "###### A. SORTBY\n",
    "###### B. ALIGNBY\n",
    "###### C. ORDERBY\n",
    "###### D. GROUPBY"
   ]
  },
  {
   "cell_type": "markdown",
   "metadata": {},
   "source": [
    "    ANS. C. ORDERBY"
   ]
  },
  {
   "cell_type": "markdown",
   "metadata": {},
   "source": [
    "###### 5. The SQL statement that queries or reads data from a table is\n",
    "###### A. QUERY\n",
    "###### B. READ\n",
    "###### C. SELECT\n",
    "###### D. QUERY"
   ]
  },
  {
   "cell_type": "markdown",
   "metadata": {},
   "source": [
    "    ANS. C. SELECT"
   ]
  },
  {
   "cell_type": "markdown",
   "metadata": {},
   "source": [
    "###### 6. Which normal form is considered adequate for relational database design?\n",
    "###### A. 1NF\n",
    "###### B. 2NF\n",
    "###### C. 3NF\n",
    "###### D. 4NF"
   ]
  },
  {
   "cell_type": "markdown",
   "metadata": {},
   "source": [
    "    ANS. C. 3NF"
   ]
  },
  {
   "cell_type": "markdown",
   "metadata": {},
   "source": [
    "###### 7. SQL can be used to\n",
    "###### A. Create database structures only\n",
    "###### B. Modify database data only\n",
    "###### C. All of the above can be done by SQL\n",
    "###### D. Query database data only"
   ]
  },
  {
   "cell_type": "markdown",
   "metadata": {},
   "source": [
    "    ANS. C. All of the above can be done by SQL"
   ]
  },
  {
   "cell_type": "markdown",
   "metadata": {},
   "source": [
    "###### 8. SQL query and modification commands make up\n",
    "###### A. DDL\n",
    "###### B. DML\n",
    "###### C. HTML\n",
    "###### D. XML"
   ]
  },
  {
   "cell_type": "markdown",
   "metadata": {},
   "source": [
    "    ANS. B. DML"
   ]
  },
  {
   "cell_type": "markdown",
   "metadata": {},
   "source": [
    "###### 9. The result of a SQL SELECT statement is a(n).\n",
    "###### A. File\n",
    "###### B. Table\n",
    "###### C. Report\n",
    "###### D. Form"
   ]
  },
  {
   "cell_type": "markdown",
   "metadata": {},
   "source": [
    "    ANS. B. Table"
   ]
  },
  {
   "cell_type": "markdown",
   "metadata": {},
   "source": [
    "###### 10. Second normal form should meet all the rules for\n",
    "###### A. 1 NF\n",
    "###### B. 2 NF\n",
    "###### C. 3 NF\n",
    "###### D. 4 NF"
   ]
  },
  {
   "cell_type": "markdown",
   "metadata": {},
   "source": [
    "    ANS. A. 1 NF"
   ]
  },
  {
   "cell_type": "markdown",
   "metadata": {},
   "source": [
    "### Q11 to Q15 are subjective answer type questions, Answer them briefly."
   ]
  },
  {
   "cell_type": "markdown",
   "metadata": {},
   "source": [
    "###### 11. What are joins in SQL?"
   ]
  },
  {
   "cell_type": "markdown",
   "metadata": {},
   "source": [
    "          A SQL Join statement is used to combine data or rows from two or more tables based on a common field between them.\n",
    "          The tables are mutually related using primary and foreign keys.    "
   ]
  },
  {
   "cell_type": "markdown",
   "metadata": {},
   "source": [
    "###### 12. What are the different types of joins in SQL?"
   ]
  },
  {
   "cell_type": "markdown",
   "metadata": {},
   "source": [
    "    Different types of Joins are:\n",
    "        - INNER JOIN − returns rows when there is a match in both tables.\n",
    "        - LEFT JOIN − returns all rows from the left table, even if there are no matches in the right table.\n",
    "        - RIGHT JOIN − returns all rows from the right table, even if there are no matches in the left table.\n",
    "        - FULL JOIN − returns rows when there is a match in one of the tables.\n",
    "        - SELF JOIN − is used to join a table to itself as if the table were two tables, temporarily renaming at least one \n",
    "                      table in the SQL statement.\n",
    "        - CARTESIAN JOIN − returns the Cartesian product of the sets of records from the two or more joined tables."
   ]
  },
  {
   "cell_type": "markdown",
   "metadata": {},
   "source": [
    "###### 13. What is SQL Server?"
   ]
  },
  {
   "cell_type": "markdown",
   "metadata": {},
   "source": [
    "        SQL SERVER is a relational database management system (RDBMS) developed by Microsoft. It is primarily designed \n",
    "        and developed to compete with MySQL and Oracle database. It is also an ORDBMS and is platform dependent. It is both\n",
    "        GUI and command based software. It supports SQL (SEQUEL) language which is an IBM product, non-procedural,\n",
    "        common database and case insensitive language.\n"
   ]
  },
  {
   "cell_type": "markdown",
   "metadata": {},
   "source": [
    "###### 14. What is primary key in SQL?"
   ]
  },
  {
   "cell_type": "markdown",
   "metadata": {},
   "source": [
    "        A primary key is a field in a table which uniquely identifies each row/record in a database table. Primary keys\n",
    "        must contain unique values. A primary key column cannot have NULL values. A table can have only one primary key, \n",
    "        which may consist of single or multiple fields. When multiple fields are used as a primary key, they are called \n",
    "        a composite key.\n",
    "        If a table has a primary key defined on any field(s), then you cannot have two records having the same value of\n",
    "        that field(s)."
   ]
  },
  {
   "cell_type": "markdown",
   "metadata": {},
   "source": [
    "###### 15. What is ETL in SQL?"
   ]
  },
  {
   "cell_type": "markdown",
   "metadata": {},
   "source": [
    "        ETL stands for Extract, Transform and Load, which is a process used to collect data from various sources, transform \n",
    "        the data depending on business rules/needs and load the data into a destination database. he need to use ETL arises \n",
    "        from the fact that in modern computing business data resides in multiple locations and in many incompatible formats.\n",
    "        Handling all this business information efficiently is a great challenge and ETL plays an important role in solving \n",
    "        this problem.\n",
    "    "
   ]
  }
 ],
 "metadata": {
  "kernelspec": {
   "display_name": "Python 3",
   "language": "python",
   "name": "python3"
  },
  "language_info": {
   "codemirror_mode": {
    "name": "ipython",
    "version": 3
   },
   "file_extension": ".py",
   "mimetype": "text/x-python",
   "name": "python",
   "nbconvert_exporter": "python",
   "pygments_lexer": "ipython3",
   "version": "3.8.5"
  }
 },
 "nbformat": 4,
 "nbformat_minor": 4
}
