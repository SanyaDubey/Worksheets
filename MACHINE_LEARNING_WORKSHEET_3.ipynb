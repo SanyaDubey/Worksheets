{
 "cells": [
  {
   "cell_type": "markdown",
   "metadata": {},
   "source": [
    "# MACHINE LEARNING – WORKSHEET"
   ]
  },
  {
   "cell_type": "markdown",
   "metadata": {},
   "source": [
    "#### (CLUSTERING)"
   ]
  },
  {
   "cell_type": "markdown",
   "metadata": {},
   "source": [
    "### Q1 to Q12 have only one correct answer. Choose the correct option to answer your question."
   ]
  },
  {
   "cell_type": "markdown",
   "metadata": {},
   "source": [
    "###### 1. Which of the following is an application of clustering\n",
    "###### a. Biological network analysis\n",
    "###### b. Market trend prediction\n",
    "###### c. Topic modeling\n",
    "###### d. All of the above"
   ]
  },
  {
   "cell_type": "markdown",
   "metadata": {},
   "source": [
    "ANS. d. All of the above"
   ]
  },
  {
   "cell_type": "markdown",
   "metadata": {},
   "source": [
    "###### 2. On which data type, we cannot perform cluster analysis?\n",
    "###### a. Time series data\n",
    "###### b. Text data\n",
    "###### c. Multimedia data\n",
    "###### d. None"
   ]
  },
  {
   "cell_type": "markdown",
   "metadata": {},
   "source": [
    "ANS. d. None"
   ]
  },
  {
   "cell_type": "markdown",
   "metadata": {},
   "source": [
    "###### 3. Netflix’s movie recommendation system uses\n",
    "###### a. Supervised learning\n",
    "###### b. Unsupervised learning\n",
    "###### c. Reinforcement learning\n",
    "###### d. All of the above"
   ]
  },
  {
   "cell_type": "markdown",
   "metadata": {},
   "source": [
    "ANS. c. Reinforcement learning"
   ]
  },
  {
   "cell_type": "markdown",
   "metadata": {},
   "source": [
    "###### 4. The final output of Hierarchical clustering is\n",
    "###### a. The number of cluster centroids\n",
    "###### b. The tree representing how close the data points are to each other\n",
    "###### c. A map defining the similar data points into individual groups\n",
    "###### d. All of the above"
   ]
  },
  {
   "cell_type": "markdown",
   "metadata": {},
   "source": [
    "ANS. b. The tree representing how close the data points are to each other"
   ]
  },
  {
   "cell_type": "markdown",
   "metadata": {},
   "source": [
    "###### 5. Which of the step is not required for K-means clustering?\n",
    "###### a. a distance metric\n",
    "###### b. initial number of clusters\n",
    "###### c. initial guess as to cluster centroids\n",
    "###### d. None"
   ]
  },
  {
   "cell_type": "markdown",
   "metadata": {},
   "source": [
    "ANS. d. None"
   ]
  },
  {
   "cell_type": "markdown",
   "metadata": {},
   "source": [
    "###### 6. Which is the following is wrong?\n",
    "###### a. k-means clustering is a vector quantization method\n",
    "###### b. k-means clustering tries to group n observations into k clusters\n",
    "###### c. k-nearest neighbor is same as k-means\n",
    "###### d. None"
   ]
  },
  {
   "cell_type": "markdown",
   "metadata": {},
   "source": [
    "ANS. c. k-nearest neighbor is same as k-means"
   ]
  },
  {
   "cell_type": "markdown",
   "metadata": {},
   "source": [
    "###### 7. Which of the following metrics, do we have for finding dissimilarity between two clusters in hierarchical clustering?\n",
    "###### 1. Single-link\n",
    "###### 2. Complete-link\n",
    "###### 3. Average-link\n",
    "###### Options:\n",
    "###### a. 1 and 2\n",
    "###### b. 1 and 3\n",
    "###### c. 2 and 3\n",
    "###### d. 1, 2 and 3"
   ]
  },
  {
   "cell_type": "markdown",
   "metadata": {},
   "source": [
    "ANS. d. 1, 2 and 3"
   ]
  },
  {
   "cell_type": "markdown",
   "metadata": {},
   "source": [
    "###### 8. Which of the following are true?\n",
    "###### 1. Clustering analysis is negatively affected by multicollinearity of features\n",
    "###### 2. Clustering analysis is negatively affected by heteroscedasticity\n",
    "###### Options:\n",
    "###### a. 1 only\n",
    "###### b. 2 only\n",
    "###### c. 1 and 2\n",
    "###### d. None of them"
   ]
  },
  {
   "cell_type": "markdown",
   "metadata": {},
   "source": [
    "ANS. a. 1 only"
   ]
  },
  {
   "cell_type": "markdown",
   "metadata": {},
   "source": [
    "###### 9. In the figure above, if you draw a horizontal line on y-axis for y=2. What will be the number of clusters formed?\n",
    "###### a. 2\n",
    "###### b. 4\n",
    "###### c. 3\n",
    "###### d. 5"
   ]
  },
  {
   "cell_type": "markdown",
   "metadata": {},
   "source": [
    "ANS. a. 2"
   ]
  },
  {
   "cell_type": "markdown",
   "metadata": {},
   "source": [
    "###### 10. For which of the following tasks might clustering be a suitable approach?\n",
    "###### a. Given sales data from a large number of products in a supermarket, estimate future sales for each of these products.\n",
    "###### b. Given a database of information about your users, automatically group them into different market segments.\n",
    "###### c. Predicting whether stock price of a company will increase tomorrow.\n",
    "###### d. Given historical weather records, predict if tomorrow's weather will be sunny or rainy."
   ]
  },
  {
   "cell_type": "markdown",
   "metadata": {},
   "source": [
    "ANS. b. Given a database of information about your users, automatically group them into different market segments."
   ]
  },
  {
   "cell_type": "markdown",
   "metadata": {},
   "source": [
    "###### 11. Given, six points with the following attributes:\n",
    "###### Which of the following clustering representations and dendrogram depicts the use of MIN or Single link proximity function in hierarchical clustering:"
   ]
  },
  {
   "cell_type": "markdown",
   "metadata": {},
   "source": [
    "ANS. A."
   ]
  },
  {
   "cell_type": "markdown",
   "metadata": {},
   "source": [
    "###### 12. Given, six points with the following attributes:\n",
    "###### Which of the following clustering representations and dendrogram depicts the use of MAX or Complete link proximity function in hierarchical clustering:"
   ]
  },
  {
   "cell_type": "markdown",
   "metadata": {},
   "source": [
    "ANS. B."
   ]
  },
  {
   "cell_type": "markdown",
   "metadata": {},
   "source": [
    "### Q13 to Q15 are subjective answers type questions, Answers them in their own words briefly"
   ]
  },
  {
   "cell_type": "markdown",
   "metadata": {},
   "source": [
    "###### 13. What is the importance of clustering?"
   ]
  },
  {
   "cell_type": "markdown",
   "metadata": {},
   "source": [
    "ANS. Clustering is important because:"
   ]
  },
  {
   "cell_type": "markdown",
   "metadata": {},
   "source": [
    "1. It is useful for exploring data. Thus, helps in performing expolatory datz analysis."
   ]
  },
  {
   "cell_type": "markdown",
   "metadata": {},
   "source": [
    "2. Helps in generating summary of the data."
   ]
  },
  {
   "cell_type": "markdown",
   "metadata": {},
   "source": [
    "3. Detects the outliers."
   ]
  },
  {
   "cell_type": "markdown",
   "metadata": {},
   "source": [
    "4. Finds the duplictes."
   ]
  },
  {
   "cell_type": "markdown",
   "metadata": {},
   "source": [
    "5. It works as a pre-processing step."
   ]
  },
  {
   "cell_type": "markdown",
   "metadata": {},
   "source": [
    "###### 14. How do you cluster a profile?"
   ]
  },
  {
   "cell_type": "markdown",
   "metadata": {},
   "source": [
    "ANS. Profiling involves generating descriptions of the clusters with reference to the input variables you used for the cluster analysis. to cluster a profile:"
   ]
  },
  {
   "cell_type": "markdown",
   "metadata": {},
   "source": [
    "1. Graphically represent your clusters according to your input variables."
   ]
  },
  {
   "cell_type": "markdown",
   "metadata": {},
   "source": [
    "2. Score your clusters in a table so that you can measure and compare them on each input variable with regards to numerical or descriptive values."
   ]
  },
  {
   "cell_type": "markdown",
   "metadata": {},
   "source": [
    "3.  variables should be described in a type of ‘story’ about the category or customer base. The output of this step is a clearly described set of clusters with a focus placed on the input variables. If you have access to a wider set of data, you can use other loyalty data to supplement the cluster profile even if it was not used in the original cluster analysis."
   ]
  },
  {
   "cell_type": "markdown",
   "metadata": {},
   "source": [
    "4. At last, needs to build a 'story' or profile around each cluster so, that the obtained information can be used."
   ]
  },
  {
   "cell_type": "markdown",
   "metadata": {},
   "source": [
    "###### 15. How can I improve my clustering performance?"
   ]
  },
  {
   "cell_type": "markdown",
   "metadata": {},
   "source": [
    "ANS. Clustering algorithm can be significantly improved by using a better initialization technique, and by repeating (re-starting) the algorithm. When the data has overlapping clusters, k-means can improve the results of the initialization technique. Techniques like DipScaling and DipTransformation—which enhance the data set by rescaling and transforming its features and thus emphasizing and accentuating its structure. If the structure is sufficiently clear, clustering algorithms will perform far better."
   ]
  }
 ],
 "metadata": {
  "kernelspec": {
   "display_name": "Python 3",
   "language": "python",
   "name": "python3"
  },
  "language_info": {
   "codemirror_mode": {
    "name": "ipython",
    "version": 3
   },
   "file_extension": ".py",
   "mimetype": "text/x-python",
   "name": "python",
   "nbconvert_exporter": "python",
   "pygments_lexer": "ipython3",
   "version": "3.8.5"
  }
 },
 "nbformat": 4,
 "nbformat_minor": 4
}
