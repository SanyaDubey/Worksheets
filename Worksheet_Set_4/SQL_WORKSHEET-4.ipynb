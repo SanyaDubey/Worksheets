{
 "cells": [
  {
   "cell_type": "markdown",
   "metadata": {},
   "source": [
    "# SQL WORKSHEET - 4"
   ]
  },
  {
   "cell_type": "markdown",
   "metadata": {},
   "source": [
    "### Refer the following ERD and answer all the questions in this worksheet. You have to write the queries using MySQL for the required Operation."
   ]
  },
  {
   "cell_type": "markdown",
   "metadata": {},
   "source": [
    "####  Customers: stores customer’s data.\n",
    "####  Products: stores a list of scale model cars.\n",
    "####  Product Lines: stores a list of product line categories.\n",
    "####  Orders: stores sales orders placed by customers.\n",
    "####  Order Details: stores sales order line items for each sales order.\n",
    "####  Payments: stores payments made by customers based on their accounts.\n",
    "####  Employees: stores all employee information as well as the organization structure such as who reports towhom.\n",
    "####  Offices: stores sales office data."
   ]
  },
  {
   "cell_type": "markdown",
   "metadata": {},
   "source": [
    "### QUESTIONS:"
   ]
  },
  {
   "cell_type": "markdown",
   "metadata": {},
   "source": [
    "###### 1. Write a SQL query to show average number of orders shipped in a day (use Orders table)."
   ]
  },
  {
   "cell_type": "markdown",
   "metadata": {},
   "source": [
    "    WITH x AS (SELECT `shippedDate`, COUNT(`orderNumber`) AS `total_orders` FROM Orders) SELECT \n",
    "    AVG(`total_orders`) AS `AverageNumberOfOrdersShipped` FROM x;"
   ]
  },
  {
   "cell_type": "markdown",
   "metadata": {},
   "source": [
    "###### 2. Write a SQL query to show average number of orders placed in a day."
   ]
  },
  {
   "cell_type": "markdown",
   "metadata": {},
   "source": [
    "    WITH x AS (SELECT `orderDate`, COUNT(`orderNumber`) AS `total_orders` FROM Orders) SELECT \n",
    "    AVG(`total_orders`) AS `AverageNumberOfOrdersPlaced` FROM x;"
   ]
  },
  {
   "cell_type": "markdown",
   "metadata": {},
   "source": [
    "###### 3. Write a SQL query to show the product name with minimum MSRP (use Productstable)."
   ]
  },
  {
   "cell_type": "markdown",
   "metadata": {},
   "source": [
    "    SELECT `productName` FROM Products \n",
    "    ORDER BY MSRP\n",
    "    LIMIT 1;"
   ]
  },
  {
   "cell_type": "markdown",
   "metadata": {},
   "source": [
    "###### 4. Write a SQL query to show the product name with maximum value ofstockQuantity."
   ]
  },
  {
   "cell_type": "markdown",
   "metadata": {},
   "source": [
    "    SELECT `productName` FROM Products \n",
    "    ORDER BY `quantityInStock` DESC LIMIT 1;"
   ]
  },
  {
   "cell_type": "markdown",
   "metadata": {},
   "source": [
    "###### 5. Write a query to show the most ordered product Name (the product with maximum number of orders)."
   ]
  },
  {
   "cell_type": "markdown",
   "metadata": {},
   "source": [
    "    SELECT `productName`\n",
    "    FROM OrderDetails AS a INNER JOIN Products AS b ON \n",
    "    a.`productCode` = b.`productCode`\n",
    "    GROUP BY b.`productCode`\n",
    "    ORDER BY COUNT(`orderNumber`) DESC LIMIT \n",
    "    1;"
   ]
  },
  {
   "cell_type": "markdown",
   "metadata": {},
   "source": [
    "###### 6. Write a SQL query to show the highest paying customer Name."
   ]
  },
  {
   "cell_type": "markdown",
   "metadata": {},
   "source": [
    "    WITH x AS (SELECT customerName, SUM(amount) AS total_payment FROM \n",
    "               Customers AS a INNER JOIN Payments b\n",
    "               ON a.customerNumber = b.customerNumber \n",
    "               GROUP BY customerName)\n",
    "    SELECT customerName, total_payment FROM x\n",
    "    WHERE total_payment = (SELECT MAX(total_payment) FROM x);"
   ]
  },
  {
   "cell_type": "markdown",
   "metadata": {},
   "source": [
    "###### 7. Write a SQL query to show cutomerNumber, customerName of all the customers who are from Melbourne city.\n"
   ]
  },
  {
   "cell_type": "markdown",
   "metadata": {},
   "source": [
    "    SELECT `customerNumber`, `customerName` FROM Customers \n",
    "    WHERE `city`= \"Melbourne\";"
   ]
  },
  {
   "cell_type": "markdown",
   "metadata": {},
   "source": [
    "###### 8. Write a SQL query to show name of all the customers whose name start with “N”."
   ]
  },
  {
   "cell_type": "markdown",
   "metadata": {},
   "source": [
    "    SELECT `customerName` FROM Customers \n",
    "    WHERE `customerName` REGEXP `^N*`;"
   ]
  },
  {
   "cell_type": "markdown",
   "metadata": {},
   "source": [
    "###### 9. Write a SQL query to show name of all the customers whose phone start with ‘7’ and are from city ‘LasVegas’."
   ]
  },
  {
   "cell_type": "markdown",
   "metadata": {},
   "source": [
    "    SELECT `customerName` FROM Customers\n",
    "    WHERE `phones` REGEXP “^7.*” AND `city` = “Las Vegas”;"
   ]
  },
  {
   "cell_type": "markdown",
   "metadata": {},
   "source": [
    "###### 10. Write a SQL query to show name of all the customers whose creditLimit < 1000 and city is either “Las Vegas” or ”Nantes” or “Stavern”."
   ]
  },
  {
   "cell_type": "markdown",
   "metadata": {},
   "source": [
    "    SELECT `customerName` FROM Customers\n",
    "    WHERE `creditLimit` < 1000 AND `city` IN (\"Las Vegas\", \"Nantes\", \"Stavern\");"
   ]
  },
  {
   "cell_type": "markdown",
   "metadata": {},
   "source": [
    "###### 11. Write a SQL query to show all the orderNumber in which quantity ordered <10."
   ]
  },
  {
   "cell_type": "markdown",
   "metadata": {},
   "source": [
    "    SELECT `orderNumber` FROMorderDetails \n",
    "    WHERE `quantityOrdered` < 10;"
   ]
  },
  {
   "cell_type": "markdown",
   "metadata": {},
   "source": [
    "###### 12. Write a SQL query to show all the orderNumber whose customer Name start with letter ‘N’."
   ]
  },
  {
   "cell_type": "markdown",
   "metadata": {},
   "source": [
    "    SELECT `orderNumber`\n",
    "    FROM Customers AS a INNER JOIN orders AS b ON a.customerNumber = b.customerNumber WHERE \n",
    "    `customerName` REGEXP \"^B.*\";"
   ]
  },
  {
   "cell_type": "markdown",
   "metadata": {},
   "source": [
    "###### 13. Write a SQL query to show all the customerName whose orders are “Disputed” in status."
   ]
  },
  {
   "cell_type": "markdown",
   "metadata": {},
   "source": [
    "    SELECT `customerName`\n",
    "    FROM Orders AS a INNER JOIN Customers AS b ON \n",
    "    a.`customerNumber`= b.`customerNumber` WHERE \n",
    "    `status`= \"Disputed\";"
   ]
  },
  {
   "cell_type": "markdown",
   "metadata": {},
   "source": [
    "###### 14. Write a SQL query to show the customerName who made payment through cheque with checkNumber startingwith H and made payment on “2004-10-19”."
   ]
  },
  {
   "cell_type": "markdown",
   "metadata": {},
   "source": [
    "    SELECT `customerName`\n",
    "    FROM Payments INNER JOIN Customers USING (`customerNumber`) WHERE \n",
    "    `paymentDate` = \"2004-10-19\" AND `checkNumber` REGEXP \"^H.*\";"
   ]
  },
  {
   "cell_type": "markdown",
   "metadata": {},
   "source": [
    "###### 15. Write a SQL query to show all the checkNumber whose amount > 1000."
   ]
  },
  {
   "cell_type": "markdown",
   "metadata": {},
   "source": [
    "    SELECT `checkNumber` FROM Payments \n",
    "    WHERE `amount` > 1000;"
   ]
  }
 ],
 "metadata": {
  "kernelspec": {
   "display_name": "Python 3",
   "language": "python",
   "name": "python3"
  },
  "language_info": {
   "codemirror_mode": {
    "name": "ipython",
    "version": 3
   },
   "file_extension": ".py",
   "mimetype": "text/x-python",
   "name": "python",
   "nbconvert_exporter": "python",
   "pygments_lexer": "ipython3",
   "version": "3.8.5"
  }
 },
 "nbformat": 4,
 "nbformat_minor": 4
}
