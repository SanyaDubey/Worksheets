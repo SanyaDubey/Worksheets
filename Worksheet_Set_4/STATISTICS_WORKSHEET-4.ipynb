{
 "cells": [
  {
   "cell_type": "markdown",
   "metadata": {},
   "source": [
    "# STATISTICS WORKSHEET-4"
   ]
  },
  {
   "cell_type": "markdown",
   "metadata": {},
   "source": [
    "### Q1 to Q15 are descriptive types.  Answer in brief."
   ]
  },
  {
   "cell_type": "markdown",
   "metadata": {},
   "source": [
    "###### 1. What is central limit theorem and why is it important?"
   ]
  },
  {
   "cell_type": "markdown",
   "metadata": {},
   "source": [
    "    Central Limit Theorem says that with a large sample size, sample means are normally distributed. Normally distributed \n",
    "    means that a group of numbers follows a bell-shaped curve. Most of the numbers cluster in the middle around the average, \n",
    "    and there are fewer numbers at the extremes to the right and left.\n",
    "    The central limit theorem states that if you have a population with mean μ and standard deviation σ and take \n",
    "    sufficiently large random samples from the population with replacement, then the distribution of the sample means will \n",
    "    be approximately normally distributed."
   ]
  },
  {
   "cell_type": "markdown",
   "metadata": {},
   "source": [
    "###### 2. What is sampling? How many sampling methods do you know?"
   ]
  },
  {
   "cell_type": "markdown",
   "metadata": {},
   "source": [
    "    Sampling methods are the ways to choose people from the population to be considered in a sample survey.\n",
    "    \n",
    "    Samples can be divided based on following criteria.\n",
    "    1) Probability samples - In such samples, each population element has a known probability or chance of being chosen for \n",
    "                             the sample.\n",
    "    2) Non-probability samples - In such samples, one cannot be assured of having known probability of each population \n",
    "                                 element."
   ]
  },
  {
   "cell_type": "markdown",
   "metadata": {},
   "source": [
    "###### 3. What is the difference between type1 and typeII error?"
   ]
  },
  {
   "cell_type": "markdown",
   "metadata": {},
   "source": [
    "    Type 1 error, in statistical hypothesis testing, is the error caused by rejecting a null hypothesis when it is true. \n",
    "    Type II error is the error that occurs when the null hypothesis is accepted when it is not true"
   ]
  },
  {
   "cell_type": "markdown",
   "metadata": {},
   "source": [
    "###### 4. What do you understand by the term Normal distribution?"
   ]
  },
  {
   "cell_type": "markdown",
   "metadata": {},
   "source": [
    "    Normal distribution, also known as the Gaussian distribution, is a probability distribution that is symmetric \n",
    "    about the mean, showing that data near the mean are more frequent in occurrence than data far from the mean."
   ]
  },
  {
   "cell_type": "markdown",
   "metadata": {},
   "source": [
    "###### 5. What is correlation and covariance in statistics?"
   ]
  },
  {
   "cell_type": "markdown",
   "metadata": {},
   "source": [
    "    Correlation is considered the best technique for estimating the quantitative relationship between two variables.\n",
    "    Correlation measures how strongly two variables are related. Given two random variables, it is the covariance \n",
    "    between both divided by the product of the two standard deviations of the single variables, hence always \n",
    "    between -1 and 1.\n",
    "    \n",
    "    Covariance is a measure that indicates the extent to which two random variables change in cycle. It explains the \n",
    "    systematic relation between a pair of random variables, wherein changes in one variable reciprocal by a corresponding \n",
    "    change in another variable."
   ]
  },
  {
   "cell_type": "markdown",
   "metadata": {},
   "source": [
    "###### 6. Differentiate between univariate ,Biavariate,and multivariate analysis."
   ]
  },
  {
   "cell_type": "markdown",
   "metadata": {},
   "source": [
    "    Univariate data contains only one variable. The purpose of the univariate analysis is to describe the data and find \n",
    "    patterns that exist within it. Example: height of students.\n",
    "    \n",
    "    Bivariate data involves two different variables. The analysis of this type of data deals with causes and relationships \n",
    "    and the analysis is done to determine the relationship between the two variables. Example: temperature and ice cream \n",
    "    sales in the summer season.\n",
    "    \n",
    "    Multivariate data involves three or more variables, it is categorized under multivariate. It is similar to a bivariate \n",
    "    but contains more than one dependent variable. Example: data for house price prediction"
   ]
  },
  {
   "cell_type": "markdown",
   "metadata": {},
   "source": [
    "###### 7. What do you understand by sensitivity and how would you calculate it?"
   ]
  },
  {
   "cell_type": "markdown",
   "metadata": {},
   "source": [
    "    Sensitivity is commonly used to validate the accuracy of a classifier (Logistic, SVM, Random Forest etc.). It can \n",
    "    be calculated as: TN/(TN+FP). "
   ]
  },
  {
   "cell_type": "markdown",
   "metadata": {},
   "source": [
    "###### 8. What is hypothesis testing? What is H0 and H1? What is H0 and H1 for two-tail test?"
   ]
  },
  {
   "cell_type": "markdown",
   "metadata": {},
   "source": [
    "    A hypothesis test evaluates two mutually exclusive statements about a population to determine which statement is \n",
    "    best supported by the sample data.\n",
    "    \n",
    "    Ex : you have a coin and you don’t know whether the coin is fair or not. First, decide null and alternate\n",
    "    hypothesis and alpha=0.05.\n",
    "    \n",
    "    H0 : that is a fair coin.\n",
    "    H1 : the coin is not fair"
   ]
  },
  {
   "cell_type": "markdown",
   "metadata": {},
   "source": [
    "###### 9. What is quantitative data and qualitative data?"
   ]
  },
  {
   "cell_type": "markdown",
   "metadata": {},
   "source": [
    "    Quantitative data are anything that can be expressed as a number, or quantified. Examples of quantitative data are \n",
    "    scores on achievement tests, number of hours of study, or weight of a subject. \n",
    "    \n",
    "    Qualitative data cannot be expressed as a number. Data that represent nominal scales such as gender, social, \n",
    "    economic status, and religious preference are usually considered to be qualitative data."
   ]
  },
  {
   "cell_type": "markdown",
   "metadata": {},
   "source": [
    "###### 10. How to calculate range and interquartile range?"
   ]
  },
  {
   "cell_type": "markdown",
   "metadata": {},
   "source": [
    "    The interquartile range is a measure of where the middle is in a data set. Where a range is a measure of where the\n",
    "    beginning and end are in a set, an interquartile range is a measure of where the bulk of the values lie.\n",
    "    \n",
    "    That’s why it’s preferred over many other measures of spread when reporting things like school performance \n",
    "    or SAT scores.\n",
    "    \n",
    "    The interquartile range formula is the first quartile subtracted from the third quartile:\n",
    "                                                           IQR = Q3 – Q1"
   ]
  },
  {
   "cell_type": "markdown",
   "metadata": {},
   "source": [
    "###### 11. What do you understand by bell curve distribution ?"
   ]
  },
  {
   "cell_type": "markdown",
   "metadata": {},
   "source": [
    "    In a bell curve, the centre contains the greatest number of a value and, therefore, it is the highest point on the arc \n",
    "    of the line. This point is referred to the mean, but in simple terms, it is the highest number of occurrences of \n",
    "    an element."
   ]
  },
  {
   "cell_type": "markdown",
   "metadata": {},
   "source": [
    "###### 12. Mention one method to find outliers."
   ]
  },
  {
   "cell_type": "markdown",
   "metadata": {},
   "source": [
    "    Outlier values can be identified by using boxplot or any other graphical analysis method. If the number of outlier \n",
    "    values is few then they can be assessed individually but for large number of outliers the values can be substituted \n",
    "    with either the 99th or the 1st percentile values. All extreme values are not outlier values. The most common ways to \n",
    "    treat outlier values are:\n",
    "                a. To change the value and bring in within a range\n",
    "                b. To just remove the value."
   ]
  },
  {
   "cell_type": "markdown",
   "metadata": {},
   "source": [
    "###### 13. What is p-value in hypothesis testing?"
   ]
  },
  {
   "cell_type": "markdown",
   "metadata": {},
   "source": [
    "    p-value is defined as the probability that the data would be at least as extreme as those observed, if the null \n",
    "    hypothesis were true. The p-value reflects the strength of evidence against the null hypothesis."
   ]
  },
  {
   "cell_type": "markdown",
   "metadata": {},
   "source": [
    "###### 14. What is the Binomial Probability Formula?"
   ]
  },
  {
   "cell_type": "markdown",
   "metadata": {},
   "source": [
    "    The binomial distribution consists of the probabilities of each of the possible numbers of successes in N trials for\n",
    "    independent events that each have a probability of π. Here, the possible outcomes are two."
   ]
  },
  {
   "cell_type": "markdown",
   "metadata": {},
   "source": [
    "###### 15. Explain ANOVA and it’s applications"
   ]
  },
  {
   "cell_type": "markdown",
   "metadata": {},
   "source": [
    "    Analysis of Variance (ANOVA) is a technique which is used to compare the means of multiple samples. \n",
    "    Whether there is a significant difference between the mean of 2 samples, can be evaluated using z-test or t-test but in\n",
    "    case of more than 2 samples, t-test cannot be applied as it accumulates the error and it will be more difficult as the\n",
    "    number of sample will increase (for example: for 4 samples — 12 t-test will have to be performed).\n",
    "    The ANOVA technique enables us to perform this simultaneous test."
   ]
  }
 ],
 "metadata": {
  "kernelspec": {
   "display_name": "Python 3",
   "language": "python",
   "name": "python3"
  },
  "language_info": {
   "codemirror_mode": {
    "name": "ipython",
    "version": 3
   },
   "file_extension": ".py",
   "mimetype": "text/x-python",
   "name": "python",
   "nbconvert_exporter": "python",
   "pygments_lexer": "ipython3",
   "version": "3.8.5"
  }
 },
 "nbformat": 4,
 "nbformat_minor": 4
}
